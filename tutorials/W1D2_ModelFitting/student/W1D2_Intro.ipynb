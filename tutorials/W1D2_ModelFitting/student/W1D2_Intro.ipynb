{
  "cells": [
    {
      "cell_type": "markdown",
      "metadata": {
        "id": "view-in-github",
        "colab_type": "text"
      },
      "source": [
        "<a href=\"https://colab.research.google.com/github/Caizhenxin/Neuromatch/blob/main/tutorials/W1D2_ModelFitting/student/W1D2_Intro.ipynb\" target=\"_parent\"><img src=\"https://colab.research.google.com/assets/colab-badge.svg\" alt=\"Open In Colab\"/></a>"
      ]
    },
    {
      "cell_type": "markdown",
      "metadata": {
        "execution": {},
        "pycharm": {
          "name": "#%% md\n"
        },
        "id": "WG7Wkt5BWPsv"
      },
      "source": [
        "# Intro"
      ]
    },
    {
      "cell_type": "markdown",
      "metadata": {
        "execution": {},
        "pycharm": {
          "name": "#%% md\n"
        },
        "id": "AY4XQQgrWPs0"
      },
      "source": [
        "## Overview\n",
        "\n",
        "Today we will talk about how to confront models with experimental data. Does my model capture the behavior of my participant or its neural activity? Does the data support my model against alternatives? Which component in the model is needed? Do parameters in the model vary systematically between two subject populations? We will cover the basic concepts and tools to address these questions, starting with a general overview in the intro. You will learn how to estimate the parameters of simple regression models from the data in Tutorials 1 & 2 and then how to estimate the uncertainty about these values in Tutorial 3. Then you will learn how to select from models of different complexity the one that best accounts for your data (Tutorial 4-6). The outro illustrates some of these techniques in real research examples.\n",
        "\n",
        "Fitting and comparing models to data is really the bread and butter of data analysis in neuroscience. During Model Types Day, you learned about a whole zoo of different types of models that we're interested in neuroscience. So here, you will learn about generic concepts and techniques that apply for fitting and comparing any type of model, which is arguably pretty useful! You will apply these tools again when dealing with GLMs, latent models, deep networks, dynamical models, decision models, reinforcement learning models... it's everywhere! On top of this, we will cover linear regression models, the typical regression model when the dependent variable is continuous (e.g., BOLD activity), and use it throughout the day to illustrate the concepts and methods we learn. On the GLM day, you will see how to generalize regression models when the dependent variable is binary (e.g., choices) or an integer (e.g., spike counts).\n",
        "\n",
        "Almost all statistical and data analysis methods rely either explicitly or implicitly on fitting some model to the data. The concepts and tools you will learn today are crucial to be able to test your hypothesis about how behavior or neural activity is formed. A typical way this is done is that you formulate a computational (stochastic) model that embodies your hypothesis and then one or more control models. Then you fit each of your models to your experimental data, say the pattern of choices of one experimental subject or the spiking activity from one recorded neuron. Simulating your fitted models allows validating that your model indeed captures the effects of interest in your data. Then you use model comparison techniques to tell which one of your main or control model(s) provides a better description of the data. Also, you could assess whether some parameter in your model changes between experimental conditions or subject populations."
      ]
    },
    {
      "cell_type": "markdown",
      "metadata": {
        "execution": {},
        "id": "-oPvemsVWPs2"
      },
      "source": [
        "## Prerequisite knowledge\n",
        "\n",
        "In the content and tutorials today, you will be using vectors and matrices ([W0D3 T1](https://precourse.neuromatch.io/tutorials/W0D3_LinearAlgebra/student/W0D3_Tutorial1.html) & [T2](https://precourse.neuromatch.io/tutorials/W0D3_LinearAlgebra/student/W0D3_Tutorial2.html)), probability distributions ([W0D5 T1](https://precourse.neuromatch.io/tutorials/W0D5_Statistics/student/W0D5_Tutorial1.html)), and likelihoods ([W0D5 T2](https://precourse.neuromatch.io/tutorials/W0D5_Statistics/student/W0D5_Tutorial2.html)).  Please review this material if necessary!"
      ]
    },
    {
      "cell_type": "code",
      "execution_count": 1,
      "metadata": {
        "cellView": "form",
        "execution": {},
        "id": "jwtNBlBUWPs2",
        "outputId": "88071a2d-4126-49e2-8d16-7df7419f13c9",
        "colab": {
          "base_uri": "https://localhost:8080/"
        }
      },
      "outputs": [
        {
          "output_type": "stream",
          "name": "stdout",
          "text": [
            "  Preparing metadata (setup.py) ... \u001b[?25l\u001b[?25hdone\n",
            "  Preparing metadata (setup.py) ... \u001b[?25l\u001b[?25hdone\n",
            "\u001b[2K   \u001b[90m━━━━━━━━━━━━━━━━━━━━━━━━━━━━━━━━━━━━━━━━\u001b[0m \u001b[32m1.6/1.6 MB\u001b[0m \u001b[31m21.9 MB/s\u001b[0m eta \u001b[36m0:00:00\u001b[0m\n",
            "\u001b[?25h  Building wheel for vibecheck (setup.py) ... \u001b[?25l\u001b[?25hdone\n",
            "  Building wheel for datatops (setup.py) ... \u001b[?25l\u001b[?25hdone\n"
          ]
        }
      ],
      "source": [
        "# @title Install and import feedback gadget\n",
        "\n",
        "!pip3 install vibecheck datatops --quiet\n",
        "\n",
        "from vibecheck import DatatopsContentReviewContainer\n",
        "def content_review(notebook_section: str):\n",
        "    return DatatopsContentReviewContainer(\n",
        "        \"\",  # No text prompt\n",
        "        notebook_section,\n",
        "        {\n",
        "            \"url\": \"https://pmyvdlilci.execute-api.us-east-1.amazonaws.com/klab\",\n",
        "            \"name\": \"neuromatch_cn\",\n",
        "            \"user_key\": \"y1x3mpx5\",\n",
        "        },\n",
        "    ).render()\n",
        "\n",
        "\n",
        "feedback_prefix = \"W1D2_Intro\""
      ]
    },
    {
      "cell_type": "markdown",
      "metadata": {
        "execution": {},
        "pycharm": {
          "name": "#%% md\n"
        },
        "id": "MD2SVirMWPs4"
      },
      "source": [
        "## Video"
      ]
    },
    {
      "cell_type": "code",
      "execution_count": 2,
      "metadata": {
        "cellView": "form",
        "execution": {},
        "pycharm": {
          "name": "#%%\n"
        },
        "id": "SyM8XEBFWPs5",
        "outputId": "9e3015e2-84cf-4e12-8bf3-d8ef3a52b6c3",
        "colab": {
          "base_uri": "https://localhost:8080/",
          "height": 581,
          "referenced_widgets": [
            "b7bca23d9fba4d50b3fcbe017c6797b5",
            "51c7896d7d8f4710a3366cb1ad6f002b",
            "aea4b0445315470eb3a76d9afb0859a2",
            "30d058c095f04fc7b3ea719a36da29cc",
            "aaa63ff7ba394a1382e5eee46a2ab507",
            "65a130eb2e1f4409b0dc549745459781"
          ]
        }
      },
      "outputs": [
        {
          "output_type": "display_data",
          "data": {
            "text/plain": [
              "Tab(children=(Output(), Output()), _titles={'0': 'Youtube', '1': 'Bilibili'})"
            ],
            "application/vnd.jupyter.widget-view+json": {
              "version_major": 2,
              "version_minor": 0,
              "model_id": "b7bca23d9fba4d50b3fcbe017c6797b5"
            }
          },
          "metadata": {}
        }
      ],
      "source": [
        "# @markdown\n",
        "from ipywidgets import widgets\n",
        "from IPython.display import YouTubeVideo\n",
        "from IPython.display import IFrame\n",
        "from IPython.display import display\n",
        "\n",
        "\n",
        "class PlayVideo(IFrame):\n",
        "  def __init__(self, id, source, page=1, width=400, height=300, **kwargs):\n",
        "    self.id = id\n",
        "    if source == 'Bilibili':\n",
        "      src = f'https://player.bilibili.com/player.html?bvid={id}&page={page}'\n",
        "    elif source == 'Osf':\n",
        "      src = f'https://mfr.ca-1.osf.io/render?url=https://osf.io/download/{id}/?direct%26mode=render'\n",
        "    super(PlayVideo, self).__init__(src, width, height, **kwargs)\n",
        "\n",
        "\n",
        "def display_videos(video_ids, W=400, H=300, fs=1):\n",
        "  tab_contents = []\n",
        "  for i, video_id in enumerate(video_ids):\n",
        "    out = widgets.Output()\n",
        "    with out:\n",
        "      if video_ids[i][0] == 'Youtube':\n",
        "        video = YouTubeVideo(id=video_ids[i][1], width=W,\n",
        "                             height=H, fs=fs, rel=0)\n",
        "        print(f'Video available at https://youtube.com/watch?v={video.id}')\n",
        "      else:\n",
        "        video = PlayVideo(id=video_ids[i][1], source=video_ids[i][0], width=W,\n",
        "                          height=H, fs=fs, autoplay=False)\n",
        "        if video_ids[i][0] == 'Bilibili':\n",
        "          print(f'Video available at https://www.bilibili.com/video/{video.id}')\n",
        "        elif video_ids[i][0] == 'Osf':\n",
        "          print(f'Video available at https://osf.io/{video.id}')\n",
        "      display(video)\n",
        "    tab_contents.append(out)\n",
        "  return tab_contents\n",
        "\n",
        "\n",
        "video_ids = [('Youtube', '9JfXKmVB6qc'), ('Bilibili', 'BV1BX4y1w7oc')]\n",
        "tab_contents = display_videos(video_ids, W=854, H=480)\n",
        "tabs = widgets.Tab()\n",
        "tabs.children = tab_contents\n",
        "for i in range(len(tab_contents)):\n",
        "  tabs.set_title(i, video_ids[i][0])\n",
        "display(tabs)"
      ]
    },
    {
      "cell_type": "markdown",
      "metadata": {
        "execution": {},
        "pycharm": {
          "name": "#%% md\n"
        },
        "id": "hXkXG7pVWPs6"
      },
      "source": [
        "## Slides"
      ]
    },
    {
      "cell_type": "code",
      "execution_count": 3,
      "metadata": {
        "cellView": "form",
        "execution": {},
        "pycharm": {
          "name": "#%%\n"
        },
        "id": "5vz6Fil9WPs6",
        "outputId": "b783b324-2073-447e-e93b-cb6a83127a60",
        "colab": {
          "base_uri": "https://localhost:8080/",
          "height": 519
        }
      },
      "outputs": [
        {
          "output_type": "stream",
          "name": "stdout",
          "text": [
            "If you want to download the slides: https://osf.io/download/sqcvz/\n"
          ]
        },
        {
          "output_type": "execute_result",
          "data": {
            "text/plain": [
              "<IPython.lib.display.IFrame at 0x7ab36c874d10>"
            ],
            "text/html": [
              "\n",
              "        <iframe\n",
              "            width=\"854\"\n",
              "            height=\"480\"\n",
              "            src=\"https://mfr.ca-1.osf.io/render?url=https://osf.io/sqcvz/?direct%26mode=render%26action=download%26mode=render\"\n",
              "            frameborder=\"0\"\n",
              "            allowfullscreen\n",
              "            \n",
              "        ></iframe>\n",
              "        "
            ]
          },
          "metadata": {},
          "execution_count": 3
        }
      ],
      "source": [
        "# @markdown\n",
        "from IPython.display import IFrame\n",
        "link_id = \"sqcvz\"\n",
        "print(f\"If you want to download the slides: https://osf.io/download/{link_id}/\")\n",
        "IFrame(src=f\"https://mfr.ca-1.osf.io/render?url=https://osf.io/{link_id}/?direct%26mode=render%26action=download%26mode=render\", width=854, height=480)"
      ]
    },
    {
      "cell_type": "code",
      "execution_count": 4,
      "metadata": {
        "cellView": "form",
        "execution": {},
        "id": "1LYGIw_FWPs7",
        "outputId": "19236b4a-e2ab-43a1-8f78-36a36827cf85",
        "colab": {
          "base_uri": "https://localhost:8080/",
          "height": 62,
          "referenced_widgets": [
            "3ccf168387e74b28a0330b42443e1a6d",
            "58cb5a52afcf49e0922ca95808a54186",
            "7c4e599b5c0941389ea0a86bfbed53fb",
            "476e94f59357483fbdf3a842d236f0fe",
            "ed31f60ee1b54872b4c7bbd418b5024e",
            "2a851d8e4a4f4a03803f385bcdd96686",
            "9711feb0f724461086c63499f9bdc0df",
            "5a295724948c46e1a4117e775e1dc50a",
            "ec334bf75b764b63bb095742bf3b9257",
            "2d3b7ecaeb4c4020abcd20dfadf47b62",
            "e1bcddce506b4ca2a43ef520539cd5e2",
            "41a0fc70db0b40f5b26ec255e2827178",
            "71d2453c3650439ba76720b30b1820bc",
            "7cecb172203d451eb4329dfdc540f32d",
            "20e24ef9d8824f68900458f69167332b",
            "26d7fa3cbe8441159d48c168430c531d",
            "0ee6fff8a2e14292894af3563131c4d5",
            "6421f5980227488396420f3d11faff86",
            "4a762132c6c14c5b80c3c45e41b99349",
            "b1cbc52a92914e6d8b4280d9f0a2589f",
            "c5fa22c5551c46c2a148abeb5ef044d9",
            "a390380542e345abb6c751077559b3bb",
            "338e6fbfe8294ac1a03342abfb48d335",
            "df3fca3eecce4346a5746db30900b516",
            "c40022e911b147b3a78a17ef9af0fec3",
            "6d8189ccc73a4038ba4dc69e3bdb95fb"
          ]
        }
      },
      "outputs": [
        {
          "output_type": "display_data",
          "data": {
            "text/plain": [
              "VBox(children=(VBox(children=(HBox(children=(Button(description='🙂', layout=Layout(height='auto', padding='0.5…"
            ],
            "application/vnd.jupyter.widget-view+json": {
              "version_major": 2,
              "version_minor": 0,
              "model_id": "3ccf168387e74b28a0330b42443e1a6d"
            }
          },
          "metadata": {}
        }
      ],
      "source": [
        "# @title Submit your feedback\n",
        "content_review(f\"{feedback_prefix}_Intro_Video\")"
      ]
    }
  ],
  "metadata": {
    "colab": {
      "name": "W1D2_Intro",
      "provenance": [],
      "toc_visible": true,
      "include_colab_link": true
    },
    "kernel": {
      "display_name": "Python 3",
      "language": "python",
      "name": "python3"
    },
    "kernelspec": {
      "display_name": "Python 3",
      "language": "python",
      "name": "python3"
    },
    "language_info": {
      "codemirror_mode": {
        "name": "ipython",
        "version": 3
      },
      "file_extension": ".py",
      "mimetype": "text/x-python",
      "name": "python",
      "nbconvert_exporter": "python",
      "pygments_lexer": "ipython3",
      "version": "3.9.17"
    },
    "widgets": {
      "application/vnd.jupyter.widget-state+json": {
        "b7bca23d9fba4d50b3fcbe017c6797b5": {
          "model_module": "@jupyter-widgets/controls",
          "model_name": "TabModel",
          "model_module_version": "1.5.0",
          "state": {
            "_dom_classes": [],
            "_model_module": "@jupyter-widgets/controls",
            "_model_module_version": "1.5.0",
            "_model_name": "TabModel",
            "_titles": {
              "0": "Youtube",
              "1": "Bilibili"
            },
            "_view_count": null,
            "_view_module": "@jupyter-widgets/controls",
            "_view_module_version": "1.5.0",
            "_view_name": "TabView",
            "box_style": "",
            "children": [
              "IPY_MODEL_51c7896d7d8f4710a3366cb1ad6f002b",
              "IPY_MODEL_aea4b0445315470eb3a76d9afb0859a2"
            ],
            "layout": "IPY_MODEL_30d058c095f04fc7b3ea719a36da29cc",
            "selected_index": 0
          }
        },
        "51c7896d7d8f4710a3366cb1ad6f002b": {
          "model_module": "@jupyter-widgets/output",
          "model_name": "OutputModel",
          "model_module_version": "1.0.0",
          "state": {
            "_dom_classes": [],
            "_model_module": "@jupyter-widgets/output",
            "_model_module_version": "1.0.0",
            "_model_name": "OutputModel",
            "_view_count": null,
            "_view_module": "@jupyter-widgets/output",
            "_view_module_version": "1.0.0",
            "_view_name": "OutputView",
            "layout": "IPY_MODEL_aaa63ff7ba394a1382e5eee46a2ab507",
            "msg_id": "",
            "outputs": [
              {
                "output_type": "stream",
                "name": "stdout",
                "text": [
                  "Video available at https://youtube.com/watch?v=9JfXKmVB6qc\n"
                ]
              },
              {
                "output_type": "display_data",
                "data": {
                  "text/plain": "<IPython.lib.display.YouTubeVideo at 0x7ab36c847510>",
                  "text/html": "\n        <iframe\n            width=\"854\"\n            height=\"480\"\n            src=\"https://www.youtube.com/embed/9JfXKmVB6qc?fs=1&rel=0\"\n            frameborder=\"0\"\n            allowfullscreen\n            \n        ></iframe>\n        ",
                  "image/jpeg": "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\n"
                },
                "metadata": {}
              }
            ]
          }
        },
        "aea4b0445315470eb3a76d9afb0859a2": {
          "model_module": "@jupyter-widgets/output",
          "model_name": "OutputModel",
          "model_module_version": "1.0.0",
          "state": {
            "_dom_classes": [],
            "_model_module": "@jupyter-widgets/output",
            "_model_module_version": "1.0.0",
            "_model_name": "OutputModel",
            "_view_count": null,
            "_view_module": "@jupyter-widgets/output",
            "_view_module_version": "1.0.0",
            "_view_name": "OutputView",
            "layout": "IPY_MODEL_65a130eb2e1f4409b0dc549745459781",
            "msg_id": "",
            "outputs": [
              {
                "output_type": "stream",
                "name": "stdout",
                "text": [
                  "Video available at https://www.bilibili.com/video/BV1BX4y1w7oc\n"
                ]
              },
              {
                "output_type": "display_data",
                "data": {
                  "text/plain": "<__main__.PlayVideo at 0x7ab36c8990d0>",
                  "text/html": "\n        <iframe\n            width=\"854\"\n            height=\"480\"\n            src=\"https://player.bilibili.com/player.html?bvid=BV1BX4y1w7oc&page=1?fs=1&autoplay=False\"\n            frameborder=\"0\"\n            allowfullscreen\n            \n        ></iframe>\n        "
                },
                "metadata": {}
              }
            ]
          }
        },
        "30d058c095f04fc7b3ea719a36da29cc": {
          "model_module": "@jupyter-widgets/base",
          "model_name": "LayoutModel",
          "model_module_version": "1.2.0",
          "state": {
            "_model_module": "@jupyter-widgets/base",
            "_model_module_version": "1.2.0",
            "_model_name": "LayoutModel",
            "_view_count": null,
            "_view_module": "@jupyter-widgets/base",
            "_view_module_version": "1.2.0",
            "_view_name": "LayoutView",
            "align_content": null,
            "align_items": null,
            "align_self": null,
            "border": null,
            "bottom": null,
            "display": null,
            "flex": null,
            "flex_flow": null,
            "grid_area": null,
            "grid_auto_columns": null,
            "grid_auto_flow": null,
            "grid_auto_rows": null,
            "grid_column": null,
            "grid_gap": null,
            "grid_row": null,
            "grid_template_areas": null,
            "grid_template_columns": null,
            "grid_template_rows": null,
            "height": null,
            "justify_content": null,
            "justify_items": null,
            "left": null,
            "margin": null,
            "max_height": null,
            "max_width": null,
            "min_height": null,
            "min_width": null,
            "object_fit": null,
            "object_position": null,
            "order": null,
            "overflow": null,
            "overflow_x": null,
            "overflow_y": null,
            "padding": null,
            "right": null,
            "top": null,
            "visibility": null,
            "width": null
          }
        },
        "aaa63ff7ba394a1382e5eee46a2ab507": {
          "model_module": "@jupyter-widgets/base",
          "model_name": "LayoutModel",
          "model_module_version": "1.2.0",
          "state": {
            "_model_module": "@jupyter-widgets/base",
            "_model_module_version": "1.2.0",
            "_model_name": "LayoutModel",
            "_view_count": null,
            "_view_module": "@jupyter-widgets/base",
            "_view_module_version": "1.2.0",
            "_view_name": "LayoutView",
            "align_content": null,
            "align_items": null,
            "align_self": null,
            "border": null,
            "bottom": null,
            "display": null,
            "flex": null,
            "flex_flow": null,
            "grid_area": null,
            "grid_auto_columns": null,
            "grid_auto_flow": null,
            "grid_auto_rows": null,
            "grid_column": null,
            "grid_gap": null,
            "grid_row": null,
            "grid_template_areas": null,
            "grid_template_columns": null,
            "grid_template_rows": null,
            "height": null,
            "justify_content": null,
            "justify_items": null,
            "left": null,
            "margin": null,
            "max_height": null,
            "max_width": null,
            "min_height": null,
            "min_width": null,
            "object_fit": null,
            "object_position": null,
            "order": null,
            "overflow": null,
            "overflow_x": null,
            "overflow_y": null,
            "padding": null,
            "right": null,
            "top": null,
            "visibility": null,
            "width": null
          }
        },
        "65a130eb2e1f4409b0dc549745459781": {
          "model_module": "@jupyter-widgets/base",
          "model_name": "LayoutModel",
          "model_module_version": "1.2.0",
          "state": {
            "_model_module": "@jupyter-widgets/base",
            "_model_module_version": "1.2.0",
            "_model_name": "LayoutModel",
            "_view_count": null,
            "_view_module": "@jupyter-widgets/base",
            "_view_module_version": "1.2.0",
            "_view_name": "LayoutView",
            "align_content": null,
            "align_items": null,
            "align_self": null,
            "border": null,
            "bottom": null,
            "display": null,
            "flex": null,
            "flex_flow": null,
            "grid_area": null,
            "grid_auto_columns": null,
            "grid_auto_flow": null,
            "grid_auto_rows": null,
            "grid_column": null,
            "grid_gap": null,
            "grid_row": null,
            "grid_template_areas": null,
            "grid_template_columns": null,
            "grid_template_rows": null,
            "height": null,
            "justify_content": null,
            "justify_items": null,
            "left": null,
            "margin": null,
            "max_height": null,
            "max_width": null,
            "min_height": null,
            "min_width": null,
            "object_fit": null,
            "object_position": null,
            "order": null,
            "overflow": null,
            "overflow_x": null,
            "overflow_y": null,
            "padding": null,
            "right": null,
            "top": null,
            "visibility": null,
            "width": null
          }
        },
        "3ccf168387e74b28a0330b42443e1a6d": {
          "model_module": "@jupyter-widgets/controls",
          "model_name": "VBoxModel",
          "model_module_version": "1.5.0",
          "state": {
            "_dom_classes": [],
            "_model_module": "@jupyter-widgets/controls",
            "_model_module_version": "1.5.0",
            "_model_name": "VBoxModel",
            "_view_count": null,
            "_view_module": "@jupyter-widgets/controls",
            "_view_module_version": "1.5.0",
            "_view_name": "VBoxView",
            "box_style": "",
            "children": [
              "IPY_MODEL_58cb5a52afcf49e0922ca95808a54186"
            ],
            "layout": "IPY_MODEL_7c4e599b5c0941389ea0a86bfbed53fb"
          }
        },
        "58cb5a52afcf49e0922ca95808a54186": {
          "model_module": "@jupyter-widgets/controls",
          "model_name": "VBoxModel",
          "model_module_version": "1.5.0",
          "state": {
            "_dom_classes": [],
            "_model_module": "@jupyter-widgets/controls",
            "_model_module_version": "1.5.0",
            "_model_name": "VBoxModel",
            "_view_count": null,
            "_view_module": "@jupyter-widgets/controls",
            "_view_module_version": "1.5.0",
            "_view_name": "VBoxView",
            "box_style": "",
            "children": [
              "IPY_MODEL_476e94f59357483fbdf3a842d236f0fe",
              "IPY_MODEL_ed31f60ee1b54872b4c7bbd418b5024e",
              "IPY_MODEL_2a851d8e4a4f4a03803f385bcdd96686"
            ],
            "layout": "IPY_MODEL_9711feb0f724461086c63499f9bdc0df"
          }
        },
        "7c4e599b5c0941389ea0a86bfbed53fb": {
          "model_module": "@jupyter-widgets/base",
          "model_name": "LayoutModel",
          "model_module_version": "1.2.0",
          "state": {
            "_model_module": "@jupyter-widgets/base",
            "_model_module_version": "1.2.0",
            "_model_name": "LayoutModel",
            "_view_count": null,
            "_view_module": "@jupyter-widgets/base",
            "_view_module_version": "1.2.0",
            "_view_name": "LayoutView",
            "align_content": null,
            "align_items": null,
            "align_self": null,
            "border": null,
            "bottom": null,
            "display": null,
            "flex": null,
            "flex_flow": null,
            "grid_area": null,
            "grid_auto_columns": null,
            "grid_auto_flow": null,
            "grid_auto_rows": null,
            "grid_column": null,
            "grid_gap": null,
            "grid_row": null,
            "grid_template_areas": null,
            "grid_template_columns": null,
            "grid_template_rows": null,
            "height": null,
            "justify_content": null,
            "justify_items": null,
            "left": null,
            "margin": null,
            "max_height": null,
            "max_width": null,
            "min_height": null,
            "min_width": null,
            "object_fit": null,
            "object_position": null,
            "order": null,
            "overflow": null,
            "overflow_x": null,
            "overflow_y": null,
            "padding": null,
            "right": null,
            "top": null,
            "visibility": null,
            "width": null
          }
        },
        "476e94f59357483fbdf3a842d236f0fe": {
          "model_module": "@jupyter-widgets/controls",
          "model_name": "HBoxModel",
          "model_module_version": "1.5.0",
          "state": {
            "_dom_classes": [],
            "_model_module": "@jupyter-widgets/controls",
            "_model_module_version": "1.5.0",
            "_model_name": "HBoxModel",
            "_view_count": null,
            "_view_module": "@jupyter-widgets/controls",
            "_view_module_version": "1.5.0",
            "_view_name": "HBoxView",
            "box_style": "",
            "children": [
              "IPY_MODEL_5a295724948c46e1a4117e775e1dc50a",
              "IPY_MODEL_ec334bf75b764b63bb095742bf3b9257",
              "IPY_MODEL_2d3b7ecaeb4c4020abcd20dfadf47b62"
            ],
            "layout": "IPY_MODEL_e1bcddce506b4ca2a43ef520539cd5e2"
          }
        },
        "ed31f60ee1b54872b4c7bbd418b5024e": {
          "model_module": "@jupyter-widgets/controls",
          "model_name": "HBoxModel",
          "model_module_version": "1.5.0",
          "state": {
            "_dom_classes": [],
            "_model_module": "@jupyter-widgets/controls",
            "_model_module_version": "1.5.0",
            "_model_name": "HBoxModel",
            "_view_count": null,
            "_view_module": "@jupyter-widgets/controls",
            "_view_module_version": "1.5.0",
            "_view_name": "HBoxView",
            "box_style": "",
            "children": [
              "IPY_MODEL_41a0fc70db0b40f5b26ec255e2827178",
              "IPY_MODEL_71d2453c3650439ba76720b30b1820bc"
            ],
            "layout": "IPY_MODEL_7cecb172203d451eb4329dfdc540f32d"
          }
        },
        "2a851d8e4a4f4a03803f385bcdd96686": {
          "model_module": "@jupyter-widgets/controls",
          "model_name": "LabelModel",
          "model_module_version": "1.5.0",
          "state": {
            "_dom_classes": [],
            "_model_module": "@jupyter-widgets/controls",
            "_model_module_version": "1.5.0",
            "_model_name": "LabelModel",
            "_view_count": null,
            "_view_module": "@jupyter-widgets/controls",
            "_view_module_version": "1.5.0",
            "_view_name": "LabelView",
            "description": "",
            "description_tooltip": null,
            "layout": "IPY_MODEL_20e24ef9d8824f68900458f69167332b",
            "placeholder": "​",
            "style": "IPY_MODEL_26d7fa3cbe8441159d48c168430c531d",
            "value": "Thanks for your feedback!"
          }
        },
        "9711feb0f724461086c63499f9bdc0df": {
          "model_module": "@jupyter-widgets/base",
          "model_name": "LayoutModel",
          "model_module_version": "1.2.0",
          "state": {
            "_model_module": "@jupyter-widgets/base",
            "_model_module_version": "1.2.0",
            "_model_name": "LayoutModel",
            "_view_count": null,
            "_view_module": "@jupyter-widgets/base",
            "_view_module_version": "1.2.0",
            "_view_name": "LayoutView",
            "align_content": null,
            "align_items": null,
            "align_self": null,
            "border": null,
            "bottom": null,
            "display": null,
            "flex": null,
            "flex_flow": null,
            "grid_area": null,
            "grid_auto_columns": null,
            "grid_auto_flow": null,
            "grid_auto_rows": null,
            "grid_column": null,
            "grid_gap": null,
            "grid_row": null,
            "grid_template_areas": null,
            "grid_template_columns": null,
            "grid_template_rows": null,
            "height": null,
            "justify_content": null,
            "justify_items": null,
            "left": null,
            "margin": null,
            "max_height": null,
            "max_width": null,
            "min_height": null,
            "min_width": null,
            "object_fit": null,
            "object_position": null,
            "order": null,
            "overflow": null,
            "overflow_x": null,
            "overflow_y": null,
            "padding": null,
            "right": null,
            "top": null,
            "visibility": null,
            "width": null
          }
        },
        "5a295724948c46e1a4117e775e1dc50a": {
          "model_module": "@jupyter-widgets/controls",
          "model_name": "ButtonModel",
          "model_module_version": "1.5.0",
          "state": {
            "_dom_classes": [
              "happy"
            ],
            "_model_module": "@jupyter-widgets/controls",
            "_model_module_version": "1.5.0",
            "_model_name": "ButtonModel",
            "_view_count": null,
            "_view_module": "@jupyter-widgets/controls",
            "_view_module_version": "1.5.0",
            "_view_name": "ButtonView",
            "button_style": "",
            "description": "🙂",
            "disabled": false,
            "icon": "",
            "layout": "IPY_MODEL_0ee6fff8a2e14292894af3563131c4d5",
            "style": "IPY_MODEL_6421f5980227488396420f3d11faff86",
            "tooltip": "happy"
          }
        },
        "ec334bf75b764b63bb095742bf3b9257": {
          "model_module": "@jupyter-widgets/controls",
          "model_name": "ButtonModel",
          "model_module_version": "1.5.0",
          "state": {
            "_dom_classes": [
              "medium"
            ],
            "_model_module": "@jupyter-widgets/controls",
            "_model_module_version": "1.5.0",
            "_model_name": "ButtonModel",
            "_view_count": null,
            "_view_module": "@jupyter-widgets/controls",
            "_view_module_version": "1.5.0",
            "_view_name": "ButtonView",
            "button_style": "",
            "description": "😐",
            "disabled": false,
            "icon": "",
            "layout": "IPY_MODEL_4a762132c6c14c5b80c3c45e41b99349",
            "style": "IPY_MODEL_b1cbc52a92914e6d8b4280d9f0a2589f",
            "tooltip": "medium"
          }
        },
        "2d3b7ecaeb4c4020abcd20dfadf47b62": {
          "model_module": "@jupyter-widgets/controls",
          "model_name": "ButtonModel",
          "model_module_version": "1.5.0",
          "state": {
            "_dom_classes": [
              "sad"
            ],
            "_model_module": "@jupyter-widgets/controls",
            "_model_module_version": "1.5.0",
            "_model_name": "ButtonModel",
            "_view_count": null,
            "_view_module": "@jupyter-widgets/controls",
            "_view_module_version": "1.5.0",
            "_view_name": "ButtonView",
            "button_style": "",
            "description": "🙁",
            "disabled": false,
            "icon": "",
            "layout": "IPY_MODEL_c5fa22c5551c46c2a148abeb5ef044d9",
            "style": "IPY_MODEL_a390380542e345abb6c751077559b3bb",
            "tooltip": "sad"
          }
        },
        "e1bcddce506b4ca2a43ef520539cd5e2": {
          "model_module": "@jupyter-widgets/base",
          "model_name": "LayoutModel",
          "model_module_version": "1.2.0",
          "state": {
            "_model_module": "@jupyter-widgets/base",
            "_model_module_version": "1.2.0",
            "_model_name": "LayoutModel",
            "_view_count": null,
            "_view_module": "@jupyter-widgets/base",
            "_view_module_version": "1.2.0",
            "_view_name": "LayoutView",
            "align_content": null,
            "align_items": null,
            "align_self": null,
            "border": null,
            "bottom": null,
            "display": null,
            "flex": null,
            "flex_flow": null,
            "grid_area": null,
            "grid_auto_columns": null,
            "grid_auto_flow": null,
            "grid_auto_rows": null,
            "grid_column": null,
            "grid_gap": null,
            "grid_row": null,
            "grid_template_areas": null,
            "grid_template_columns": null,
            "grid_template_rows": null,
            "height": null,
            "justify_content": null,
            "justify_items": null,
            "left": null,
            "margin": null,
            "max_height": null,
            "max_width": null,
            "min_height": null,
            "min_width": null,
            "object_fit": null,
            "object_position": null,
            "order": null,
            "overflow": null,
            "overflow_x": null,
            "overflow_y": null,
            "padding": null,
            "right": null,
            "top": null,
            "visibility": null,
            "width": null
          }
        },
        "41a0fc70db0b40f5b26ec255e2827178": {
          "model_module": "@jupyter-widgets/controls",
          "model_name": "TextareaModel",
          "model_module_version": "1.5.0",
          "state": {
            "_dom_classes": [],
            "_model_module": "@jupyter-widgets/controls",
            "_model_module_version": "1.5.0",
            "_model_name": "TextareaModel",
            "_view_count": null,
            "_view_module": "@jupyter-widgets/controls",
            "_view_module_version": "1.5.0",
            "_view_name": "TextareaView",
            "continuous_update": true,
            "description": "",
            "description_tooltip": null,
            "disabled": false,
            "layout": "IPY_MODEL_338e6fbfe8294ac1a03342abfb48d335",
            "placeholder": "We want your feedback!",
            "rows": null,
            "style": "IPY_MODEL_df3fca3eecce4346a5746db30900b516",
            "value": ""
          }
        },
        "71d2453c3650439ba76720b30b1820bc": {
          "model_module": "@jupyter-widgets/controls",
          "model_name": "ButtonModel",
          "model_module_version": "1.5.0",
          "state": {
            "_dom_classes": [],
            "_model_module": "@jupyter-widgets/controls",
            "_model_module_version": "1.5.0",
            "_model_name": "ButtonModel",
            "_view_count": null,
            "_view_module": "@jupyter-widgets/controls",
            "_view_module_version": "1.5.0",
            "_view_name": "ButtonView",
            "button_style": "",
            "description": "Submit",
            "disabled": false,
            "icon": "",
            "layout": "IPY_MODEL_c40022e911b147b3a78a17ef9af0fec3",
            "style": "IPY_MODEL_6d8189ccc73a4038ba4dc69e3bdb95fb",
            "tooltip": ""
          }
        },
        "7cecb172203d451eb4329dfdc540f32d": {
          "model_module": "@jupyter-widgets/base",
          "model_name": "LayoutModel",
          "model_module_version": "1.2.0",
          "state": {
            "_model_module": "@jupyter-widgets/base",
            "_model_module_version": "1.2.0",
            "_model_name": "LayoutModel",
            "_view_count": null,
            "_view_module": "@jupyter-widgets/base",
            "_view_module_version": "1.2.0",
            "_view_name": "LayoutView",
            "align_content": null,
            "align_items": null,
            "align_self": null,
            "border": null,
            "bottom": null,
            "display": "none",
            "flex": null,
            "flex_flow": null,
            "grid_area": null,
            "grid_auto_columns": null,
            "grid_auto_flow": null,
            "grid_auto_rows": null,
            "grid_column": null,
            "grid_gap": null,
            "grid_row": null,
            "grid_template_areas": null,
            "grid_template_columns": null,
            "grid_template_rows": null,
            "height": null,
            "justify_content": null,
            "justify_items": null,
            "left": null,
            "margin": null,
            "max_height": null,
            "max_width": null,
            "min_height": null,
            "min_width": null,
            "object_fit": null,
            "object_position": null,
            "order": null,
            "overflow": null,
            "overflow_x": null,
            "overflow_y": null,
            "padding": null,
            "right": null,
            "top": null,
            "visibility": null,
            "width": null
          }
        },
        "20e24ef9d8824f68900458f69167332b": {
          "model_module": "@jupyter-widgets/base",
          "model_name": "LayoutModel",
          "model_module_version": "1.2.0",
          "state": {
            "_model_module": "@jupyter-widgets/base",
            "_model_module_version": "1.2.0",
            "_model_name": "LayoutModel",
            "_view_count": null,
            "_view_module": "@jupyter-widgets/base",
            "_view_module_version": "1.2.0",
            "_view_name": "LayoutView",
            "align_content": null,
            "align_items": null,
            "align_self": null,
            "border": null,
            "bottom": null,
            "display": "none",
            "flex": null,
            "flex_flow": null,
            "grid_area": null,
            "grid_auto_columns": null,
            "grid_auto_flow": null,
            "grid_auto_rows": null,
            "grid_column": null,
            "grid_gap": null,
            "grid_row": null,
            "grid_template_areas": null,
            "grid_template_columns": null,
            "grid_template_rows": null,
            "height": null,
            "justify_content": null,
            "justify_items": null,
            "left": null,
            "margin": null,
            "max_height": null,
            "max_width": null,
            "min_height": null,
            "min_width": null,
            "object_fit": null,
            "object_position": null,
            "order": null,
            "overflow": null,
            "overflow_x": null,
            "overflow_y": null,
            "padding": null,
            "right": null,
            "top": null,
            "visibility": null,
            "width": null
          }
        },
        "26d7fa3cbe8441159d48c168430c531d": {
          "model_module": "@jupyter-widgets/controls",
          "model_name": "DescriptionStyleModel",
          "model_module_version": "1.5.0",
          "state": {
            "_model_module": "@jupyter-widgets/controls",
            "_model_module_version": "1.5.0",
            "_model_name": "DescriptionStyleModel",
            "_view_count": null,
            "_view_module": "@jupyter-widgets/base",
            "_view_module_version": "1.2.0",
            "_view_name": "StyleView",
            "description_width": ""
          }
        },
        "0ee6fff8a2e14292894af3563131c4d5": {
          "model_module": "@jupyter-widgets/base",
          "model_name": "LayoutModel",
          "model_module_version": "1.2.0",
          "state": {
            "_model_module": "@jupyter-widgets/base",
            "_model_module_version": "1.2.0",
            "_model_name": "LayoutModel",
            "_view_count": null,
            "_view_module": "@jupyter-widgets/base",
            "_view_module_version": "1.2.0",
            "_view_name": "LayoutView",
            "align_content": null,
            "align_items": null,
            "align_self": null,
            "border": null,
            "bottom": null,
            "display": null,
            "flex": null,
            "flex_flow": null,
            "grid_area": null,
            "grid_auto_columns": null,
            "grid_auto_flow": null,
            "grid_auto_rows": null,
            "grid_column": null,
            "grid_gap": null,
            "grid_row": null,
            "grid_template_areas": null,
            "grid_template_columns": null,
            "grid_template_rows": null,
            "height": "auto",
            "justify_content": null,
            "justify_items": null,
            "left": null,
            "margin": null,
            "max_height": null,
            "max_width": null,
            "min_height": null,
            "min_width": null,
            "object_fit": null,
            "object_position": null,
            "order": null,
            "overflow": null,
            "overflow_x": null,
            "overflow_y": null,
            "padding": "0.5em",
            "right": null,
            "top": null,
            "visibility": null,
            "width": "auto"
          }
        },
        "6421f5980227488396420f3d11faff86": {
          "model_module": "@jupyter-widgets/controls",
          "model_name": "ButtonStyleModel",
          "model_module_version": "1.5.0",
          "state": {
            "_model_module": "@jupyter-widgets/controls",
            "_model_module_version": "1.5.0",
            "_model_name": "ButtonStyleModel",
            "_view_count": null,
            "_view_module": "@jupyter-widgets/base",
            "_view_module_version": "1.2.0",
            "_view_name": "StyleView",
            "button_color": "#aaffaa",
            "font_weight": ""
          }
        },
        "4a762132c6c14c5b80c3c45e41b99349": {
          "model_module": "@jupyter-widgets/base",
          "model_name": "LayoutModel",
          "model_module_version": "1.2.0",
          "state": {
            "_model_module": "@jupyter-widgets/base",
            "_model_module_version": "1.2.0",
            "_model_name": "LayoutModel",
            "_view_count": null,
            "_view_module": "@jupyter-widgets/base",
            "_view_module_version": "1.2.0",
            "_view_name": "LayoutView",
            "align_content": null,
            "align_items": null,
            "align_self": null,
            "border": null,
            "bottom": null,
            "display": null,
            "flex": null,
            "flex_flow": null,
            "grid_area": null,
            "grid_auto_columns": null,
            "grid_auto_flow": null,
            "grid_auto_rows": null,
            "grid_column": null,
            "grid_gap": null,
            "grid_row": null,
            "grid_template_areas": null,
            "grid_template_columns": null,
            "grid_template_rows": null,
            "height": "auto",
            "justify_content": null,
            "justify_items": null,
            "left": null,
            "margin": null,
            "max_height": null,
            "max_width": null,
            "min_height": null,
            "min_width": null,
            "object_fit": null,
            "object_position": null,
            "order": null,
            "overflow": null,
            "overflow_x": null,
            "overflow_y": null,
            "padding": "0.5em",
            "right": null,
            "top": null,
            "visibility": null,
            "width": "auto"
          }
        },
        "b1cbc52a92914e6d8b4280d9f0a2589f": {
          "model_module": "@jupyter-widgets/controls",
          "model_name": "ButtonStyleModel",
          "model_module_version": "1.5.0",
          "state": {
            "_model_module": "@jupyter-widgets/controls",
            "_model_module_version": "1.5.0",
            "_model_name": "ButtonStyleModel",
            "_view_count": null,
            "_view_module": "@jupyter-widgets/base",
            "_view_module_version": "1.2.0",
            "_view_name": "StyleView",
            "button_color": "#dddd77",
            "font_weight": ""
          }
        },
        "c5fa22c5551c46c2a148abeb5ef044d9": {
          "model_module": "@jupyter-widgets/base",
          "model_name": "LayoutModel",
          "model_module_version": "1.2.0",
          "state": {
            "_model_module": "@jupyter-widgets/base",
            "_model_module_version": "1.2.0",
            "_model_name": "LayoutModel",
            "_view_count": null,
            "_view_module": "@jupyter-widgets/base",
            "_view_module_version": "1.2.0",
            "_view_name": "LayoutView",
            "align_content": null,
            "align_items": null,
            "align_self": null,
            "border": null,
            "bottom": null,
            "display": null,
            "flex": null,
            "flex_flow": null,
            "grid_area": null,
            "grid_auto_columns": null,
            "grid_auto_flow": null,
            "grid_auto_rows": null,
            "grid_column": null,
            "grid_gap": null,
            "grid_row": null,
            "grid_template_areas": null,
            "grid_template_columns": null,
            "grid_template_rows": null,
            "height": "auto",
            "justify_content": null,
            "justify_items": null,
            "left": null,
            "margin": null,
            "max_height": null,
            "max_width": null,
            "min_height": null,
            "min_width": null,
            "object_fit": null,
            "object_position": null,
            "order": null,
            "overflow": null,
            "overflow_x": null,
            "overflow_y": null,
            "padding": "0.5em",
            "right": null,
            "top": null,
            "visibility": null,
            "width": "auto"
          }
        },
        "a390380542e345abb6c751077559b3bb": {
          "model_module": "@jupyter-widgets/controls",
          "model_name": "ButtonStyleModel",
          "model_module_version": "1.5.0",
          "state": {
            "_model_module": "@jupyter-widgets/controls",
            "_model_module_version": "1.5.0",
            "_model_name": "ButtonStyleModel",
            "_view_count": null,
            "_view_module": "@jupyter-widgets/base",
            "_view_module_version": "1.2.0",
            "_view_name": "StyleView",
            "button_color": "#ffaaaa",
            "font_weight": ""
          }
        },
        "338e6fbfe8294ac1a03342abfb48d335": {
          "model_module": "@jupyter-widgets/base",
          "model_name": "LayoutModel",
          "model_module_version": "1.2.0",
          "state": {
            "_model_module": "@jupyter-widgets/base",
            "_model_module_version": "1.2.0",
            "_model_name": "LayoutModel",
            "_view_count": null,
            "_view_module": "@jupyter-widgets/base",
            "_view_module_version": "1.2.0",
            "_view_name": "LayoutView",
            "align_content": null,
            "align_items": null,
            "align_self": null,
            "border": null,
            "bottom": null,
            "display": null,
            "flex": null,
            "flex_flow": null,
            "grid_area": null,
            "grid_auto_columns": null,
            "grid_auto_flow": null,
            "grid_auto_rows": null,
            "grid_column": null,
            "grid_gap": null,
            "grid_row": null,
            "grid_template_areas": null,
            "grid_template_columns": null,
            "grid_template_rows": null,
            "height": "auto",
            "justify_content": null,
            "justify_items": null,
            "left": null,
            "margin": null,
            "max_height": null,
            "max_width": null,
            "min_height": null,
            "min_width": null,
            "object_fit": null,
            "object_position": null,
            "order": null,
            "overflow": null,
            "overflow_x": null,
            "overflow_y": null,
            "padding": null,
            "right": null,
            "top": null,
            "visibility": null,
            "width": "auto"
          }
        },
        "df3fca3eecce4346a5746db30900b516": {
          "model_module": "@jupyter-widgets/controls",
          "model_name": "DescriptionStyleModel",
          "model_module_version": "1.5.0",
          "state": {
            "_model_module": "@jupyter-widgets/controls",
            "_model_module_version": "1.5.0",
            "_model_name": "DescriptionStyleModel",
            "_view_count": null,
            "_view_module": "@jupyter-widgets/base",
            "_view_module_version": "1.2.0",
            "_view_name": "StyleView",
            "description_width": ""
          }
        },
        "c40022e911b147b3a78a17ef9af0fec3": {
          "model_module": "@jupyter-widgets/base",
          "model_name": "LayoutModel",
          "model_module_version": "1.2.0",
          "state": {
            "_model_module": "@jupyter-widgets/base",
            "_model_module_version": "1.2.0",
            "_model_name": "LayoutModel",
            "_view_count": null,
            "_view_module": "@jupyter-widgets/base",
            "_view_module_version": "1.2.0",
            "_view_name": "LayoutView",
            "align_content": null,
            "align_items": null,
            "align_self": null,
            "border": null,
            "bottom": null,
            "display": null,
            "flex": null,
            "flex_flow": null,
            "grid_area": null,
            "grid_auto_columns": null,
            "grid_auto_flow": null,
            "grid_auto_rows": null,
            "grid_column": null,
            "grid_gap": null,
            "grid_row": null,
            "grid_template_areas": null,
            "grid_template_columns": null,
            "grid_template_rows": null,
            "height": "auto",
            "justify_content": null,
            "justify_items": null,
            "left": null,
            "margin": null,
            "max_height": null,
            "max_width": null,
            "min_height": null,
            "min_width": null,
            "object_fit": null,
            "object_position": null,
            "order": null,
            "overflow": null,
            "overflow_x": null,
            "overflow_y": null,
            "padding": null,
            "right": null,
            "top": null,
            "visibility": null,
            "width": "auto"
          }
        },
        "6d8189ccc73a4038ba4dc69e3bdb95fb": {
          "model_module": "@jupyter-widgets/controls",
          "model_name": "ButtonStyleModel",
          "model_module_version": "1.5.0",
          "state": {
            "_model_module": "@jupyter-widgets/controls",
            "_model_module_version": "1.5.0",
            "_model_name": "ButtonStyleModel",
            "_view_count": null,
            "_view_module": "@jupyter-widgets/base",
            "_view_module_version": "1.2.0",
            "_view_name": "StyleView",
            "button_color": null,
            "font_weight": ""
          }
        }
      }
    }
  },
  "nbformat": 4,
  "nbformat_minor": 0
}