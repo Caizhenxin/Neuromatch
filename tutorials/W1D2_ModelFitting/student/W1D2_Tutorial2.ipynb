{
  "cells": [
    {
      "cell_type": "markdown",
      "metadata": {
        "id": "view-in-github",
        "colab_type": "text"
      },
      "source": [
        "<a href=\"https://colab.research.google.com/github/Caizhenxin/Neuromatch/blob/main/tutorials/W1D2_ModelFitting/student/W1D2_Tutorial2.ipynb\" target=\"_parent\"><img src=\"https://colab.research.google.com/assets/colab-badge.svg\" alt=\"Open In Colab\"/></a>"
      ]
    },
    {
      "cell_type": "markdown",
      "metadata": {
        "execution": {},
        "id": "ETyPYIhpfzP1"
      },
      "source": [
        "# Tutorial 2: Linear regression with MLE\n",
        "\n",
        "**Week 1, Day 2: Model Fitting**\n",
        "\n",
        "**By Neuromatch Academy**\n",
        "\n",
        "**Content creators**: Pierre-Étienne Fiquet, Anqi Wu, Alex Hyafil  with help from Byron Galbraith\n",
        "\n",
        "**Content reviewers**: Lina Teichmann, Madineh Sarvestani, Patrick Mineault, Ella Batty, Michael Waskomlis\n",
        "\n",
        "**Production editors:** Spiros Chavlis"
      ]
    },
    {
      "cell_type": "markdown",
      "metadata": {
        "execution": {},
        "id": "4FqWyhcbfzP4"
      },
      "source": [
        "---\n",
        "# Tutorial Objectives\n",
        "\n",
        "*Estimated timing of tutorial: 30 minutes*\n",
        "\n",
        "This is Tutorial 2 of a series on fitting models to data. We start with simple linear regression, using least squares optimization (Tutorial 1) and Maximum Likelihood Estimation (Tutorial 2). We will use bootstrapping to build confidence intervals around the inferred linear model parameters (Tutorial 3). We'll finish our exploration of regression models by generalizing to multiple linear regression and polynomial regression (Tutorial 4). We end by learning how to choose between these various models. We discuss the bias-variance trade-off (Tutorial 5) and Cross Validation for model selection (Tutorial 6).\n",
        "\n",
        "In this tutorial, we will use a different approach to fit linear models that incorporates the random 'noise' in our data.\n",
        "- Learn about probability distributions and probabilistic models\n",
        "- Learn how to calculate the likelihood of our model parameters\n",
        "- Learn how to implement the maximum likelihood estimator, to find the model parameter with the maximum likelihood\n",
        "\n"
      ]
    },
    {
      "cell_type": "code",
      "execution_count": 1,
      "metadata": {
        "cellView": "form",
        "execution": {},
        "id": "6wc33Bd2fzP5",
        "outputId": "9d87f8c9-b14b-4933-9552-8211634c7b44",
        "colab": {
          "base_uri": "https://localhost:8080/",
          "height": 519
        }
      },
      "outputs": [
        {
          "output_type": "stream",
          "name": "stdout",
          "text": [
            "If you want to download the slides: https://osf.io/download/2mkq4/\n"
          ]
        },
        {
          "output_type": "execute_result",
          "data": {
            "text/plain": [
              "<IPython.lib.display.IFrame at 0x782bec670450>"
            ],
            "text/html": [
              "\n",
              "        <iframe\n",
              "            width=\"854\"\n",
              "            height=\"480\"\n",
              "            src=\"https://mfr.ca-1.osf.io/render?url=https://osf.io/2mkq4/?direct%26mode=render%26action=download%26mode=render\"\n",
              "            frameborder=\"0\"\n",
              "            allowfullscreen\n",
              "            \n",
              "        ></iframe>\n",
              "        "
            ]
          },
          "metadata": {},
          "execution_count": 1
        }
      ],
      "source": [
        "# @title Tutorial slides\n",
        "# @markdown These are the slides for the videos in all tutorials today\n",
        "from IPython.display import IFrame\n",
        "link_id = \"2mkq4\"\n",
        "print(f\"If you want to download the slides: https://osf.io/download/{link_id}/\")\n",
        "IFrame(src=f\"https://mfr.ca-1.osf.io/render?url=https://osf.io/{link_id}/?direct%26mode=render%26action=download%26mode=render\", width=854, height=480)"
      ]
    },
    {
      "cell_type": "markdown",
      "metadata": {
        "execution": {},
        "id": "tuMr5zsGfzP6"
      },
      "source": [
        "---\n",
        "# Setup"
      ]
    },
    {
      "cell_type": "code",
      "execution_count": 2,
      "metadata": {
        "cellView": "form",
        "execution": {},
        "id": "4l8nJKaZfzP7",
        "outputId": "ca7e1fa2-e400-4bce-a25b-142d359db871",
        "colab": {
          "base_uri": "https://localhost:8080/"
        }
      },
      "outputs": [
        {
          "output_type": "stream",
          "name": "stdout",
          "text": [
            "  Preparing metadata (setup.py) ... \u001b[?25l\u001b[?25hdone\n",
            "  Preparing metadata (setup.py) ... \u001b[?25l\u001b[?25hdone\n",
            "\u001b[2K   \u001b[90m━━━━━━━━━━━━━━━━━━━━━━━━━━━━━━━━━━━━━━━━\u001b[0m \u001b[32m1.6/1.6 MB\u001b[0m \u001b[31m20.4 MB/s\u001b[0m eta \u001b[36m0:00:00\u001b[0m\n",
            "\u001b[?25h  Building wheel for vibecheck (setup.py) ... \u001b[?25l\u001b[?25hdone\n",
            "  Building wheel for datatops (setup.py) ... \u001b[?25l\u001b[?25hdone\n"
          ]
        }
      ],
      "source": [
        "# @title Install and import feedback gadget\n",
        "\n",
        "!pip3 install vibecheck datatops --quiet\n",
        "\n",
        "from vibecheck import DatatopsContentReviewContainer\n",
        "def content_review(notebook_section: str):\n",
        "    return DatatopsContentReviewContainer(\n",
        "        \"\",  # No text prompt\n",
        "        notebook_section,\n",
        "        {\n",
        "            \"url\": \"https://pmyvdlilci.execute-api.us-east-1.amazonaws.com/klab\",\n",
        "            \"name\": \"neuromatch_cn\",\n",
        "            \"user_key\": \"y1x3mpx5\",\n",
        "        },\n",
        "    ).render()\n",
        "\n",
        "\n",
        "feedback_prefix = \"W1D2_T2\""
      ]
    },
    {
      "cell_type": "code",
      "execution_count": 3,
      "metadata": {
        "execution": {},
        "id": "mRDuDoMdfzP7"
      },
      "outputs": [],
      "source": [
        "import numpy as np\n",
        "import matplotlib.pyplot as plt\n",
        "from scipy import stats"
      ]
    },
    {
      "cell_type": "code",
      "execution_count": 4,
      "metadata": {
        "cellView": "form",
        "execution": {},
        "id": "LBDtsfLKfzP8"
      },
      "outputs": [],
      "source": [
        "# @title Figure Settings\n",
        "import logging\n",
        "logging.getLogger('matplotlib.font_manager').disabled = True\n",
        "\n",
        "import ipywidgets as widgets  # interactive display\n",
        "%config InlineBackend.figure_format = 'retina'\n",
        "plt.style.use(\"https://raw.githubusercontent.com/NeuromatchAcademy/course-content/main/nma.mplstyle\")"
      ]
    },
    {
      "cell_type": "code",
      "execution_count": 5,
      "metadata": {
        "cellView": "form",
        "execution": {},
        "id": "wurquJJNfzP8"
      },
      "outputs": [],
      "source": [
        "# @title Plotting Functions\n",
        "def plot_density_image(x, y, theta, sigma=1, ax=None):\n",
        "  \"\"\" Plots probability distribution of y given x, theta, and sigma\n",
        "\n",
        "  Args:\n",
        "\n",
        "    x (ndarray): An array of shape (samples,) that contains the input values.\n",
        "    y (ndarray): An array of shape (samples,) that contains the corresponding\n",
        "      measurement values to the inputs.\n",
        "    theta (float): Slope parameter\n",
        "    sigma (float): standard deviation of Gaussian noise\n",
        "\n",
        "  \"\"\"\n",
        "\n",
        "  # plot the probability density of p(y|x,theta)\n",
        "  if ax is None:\n",
        "    fig, ax = plt.subplots()\n",
        "\n",
        "  xmin, xmax = np.floor(np.min(x)), np.ceil(np.max(x))\n",
        "  ymin, ymax = np.floor(np.min(y)), np.ceil(np.max(y))\n",
        "  xx = np.linspace(xmin, xmax, 50)\n",
        "  yy = np.linspace(ymin, ymax, 50)\n",
        "\n",
        "  surface = np.zeros((len(yy), len(xx)))\n",
        "  for i, x_i in enumerate(xx):\n",
        "    surface[:, i] = stats.norm(theta * x_i, sigma).pdf(yy)\n",
        "\n",
        "  ax.set(xlabel='x', ylabel='y')\n",
        "\n",
        "  return ax.imshow(surface, origin='lower', aspect='auto', vmin=0, vmax=None,\n",
        "            cmap=plt.get_cmap('Wistia'),\n",
        "            extent=[xmin, xmax, ymin, ymax])"
      ]
    },
    {
      "cell_type": "markdown",
      "metadata": {
        "execution": {},
        "id": "A5i2OppTfzP9"
      },
      "source": [
        "---\n",
        "# Section 1: Maximum Likelihood Estimation (MLE)\n"
      ]
    },
    {
      "cell_type": "code",
      "execution_count": 6,
      "metadata": {
        "cellView": "form",
        "execution": {},
        "id": "2re06FMTfzP9",
        "outputId": "10f9f35f-7829-4741-bd72-d15856586258",
        "colab": {
          "base_uri": "https://localhost:8080/",
          "height": 581,
          "referenced_widgets": [
            "441f12ba0f5d4c568910ae79467738f0",
            "0649c861a2df460c8c08658a9d2a5cdd",
            "ca5e098dcb0c46e3b1fda24bb9b04391",
            "3b3df2ad64314985903cf936d8342e59",
            "2ca477d81bfc4052a3ebc8cba33f03c3",
            "c4a25639f18a4612a48d5d6832c83064"
          ]
        }
      },
      "outputs": [
        {
          "output_type": "display_data",
          "data": {
            "text/plain": [
              "Tab(children=(Output(), Output()), _titles={'0': 'Youtube', '1': 'Bilibili'})"
            ],
            "application/vnd.jupyter.widget-view+json": {
              "version_major": 2,
              "version_minor": 0,
              "model_id": "441f12ba0f5d4c568910ae79467738f0"
            }
          },
          "metadata": {}
        }
      ],
      "source": [
        "# @title Video 1: Maximum Likelihood Estimation\n",
        "from ipywidgets import widgets\n",
        "from IPython.display import YouTubeVideo\n",
        "from IPython.display import IFrame\n",
        "from IPython.display import display\n",
        "\n",
        "\n",
        "class PlayVideo(IFrame):\n",
        "  def __init__(self, id, source, page=1, width=400, height=300, **kwargs):\n",
        "    self.id = id\n",
        "    if source == 'Bilibili':\n",
        "      src = f'https://player.bilibili.com/player.html?bvid={id}&page={page}'\n",
        "    elif source == 'Osf':\n",
        "      src = f'https://mfr.ca-1.osf.io/render?url=https://osf.io/download/{id}/?direct%26mode=render'\n",
        "    super(PlayVideo, self).__init__(src, width, height, **kwargs)\n",
        "\n",
        "\n",
        "def display_videos(video_ids, W=400, H=300, fs=1):\n",
        "  tab_contents = []\n",
        "  for i, video_id in enumerate(video_ids):\n",
        "    out = widgets.Output()\n",
        "    with out:\n",
        "      if video_ids[i][0] == 'Youtube':\n",
        "        video = YouTubeVideo(id=video_ids[i][1], width=W,\n",
        "                             height=H, fs=fs, rel=0)\n",
        "        print(f'Video available at https://youtube.com/watch?v={video.id}')\n",
        "      else:\n",
        "        video = PlayVideo(id=video_ids[i][1], source=video_ids[i][0], width=W,\n",
        "                          height=H, fs=fs, autoplay=False)\n",
        "        if video_ids[i][0] == 'Bilibili':\n",
        "          print(f'Video available at https://www.bilibili.com/video/{video.id}')\n",
        "        elif video_ids[i][0] == 'Osf':\n",
        "          print(f'Video available at https://osf.io/{video.id}')\n",
        "      display(video)\n",
        "    tab_contents.append(out)\n",
        "  return tab_contents\n",
        "\n",
        "\n",
        "video_ids = [('Youtube', '8mpNmzLKNfU'), ('Bilibili', 'BV1Mg4y1i7WH')]\n",
        "tab_contents = display_videos(video_ids, W=854, H=480)\n",
        "tabs = widgets.Tab()\n",
        "tabs.children = tab_contents\n",
        "for i in range(len(tab_contents)):\n",
        "  tabs.set_title(i, video_ids[i][0])\n",
        "display(tabs)"
      ]
    },
    {
      "cell_type": "code",
      "execution_count": 7,
      "metadata": {
        "cellView": "form",
        "execution": {},
        "id": "9LzNf7_AfzP-",
        "outputId": "a135f0fe-baac-4731-b7a8-b43300e10f89",
        "colab": {
          "base_uri": "https://localhost:8080/",
          "height": 62,
          "referenced_widgets": [
            "5c2e15e80d4a421ca55c0c49ab73c19d",
            "13a1dd8d082e45c9835ad772ff405af8",
            "738683288ee2477f8f446fbb0d00f36a",
            "07c6efa98a414683bf2eb34d2372cec1",
            "c247354f640f47fa8b1e1c3f21cc3f73",
            "7a929a42d6d14e95a420d4a96fbf5afc",
            "efc809bd93814053897669724685387f",
            "20ba062de4f44f5aa17c163dc9fd5ea0",
            "0b8c4d3aeb2e45499211c8e8537549fb",
            "4a932d22bf614a7ca0094b93a52e69e0",
            "16c0bddffede4cccad62bb5dbc26009a",
            "c2dd3dcfcb464df487f7e01b7fb70de2",
            "5a34e000dbb14aeb8224909b8d60253a",
            "6dc91ccb1f2d4a78ab74c0205d83ce01",
            "047f9a4332a54b198e068e2cf164cb37",
            "681ae971ab1941ff98de1da01a02b121",
            "83e0c8b4e738449eaadda2c6df253a53",
            "6483bc76fa78404aba105c45927ded28",
            "679db539c7e54d48b2b4750058b4461c",
            "03e3202dceb643a9b576e311c30dcaeb",
            "6020243e437d4688a322102d53feb379",
            "927da52a760646d0a8d602306cc6d3b2",
            "e5457d3ccbf04a5182ebb762d446a78c",
            "5af6938d6bb64106a736c0b6923d757f",
            "f25c132eae4f41d6994c08d6d2076910",
            "f14e471d01614e99bdd63788936a0645"
          ]
        }
      },
      "outputs": [
        {
          "output_type": "display_data",
          "data": {
            "text/plain": [
              "VBox(children=(VBox(children=(HBox(children=(Button(description='🙂', layout=Layout(height='auto', padding='0.5…"
            ],
            "application/vnd.jupyter.widget-view+json": {
              "version_major": 2,
              "version_minor": 0,
              "model_id": "5c2e15e80d4a421ca55c0c49ab73c19d"
            }
          },
          "metadata": {}
        }
      ],
      "source": [
        "# @title Submit your feedback\n",
        "content_review(f\"{feedback_prefix}_Maximum_Likelihood_Estimation_Video\")"
      ]
    },
    {
      "cell_type": "markdown",
      "metadata": {
        "execution": {},
        "id": "cio_zKU7fzP-"
      },
      "source": [
        "This video covers Maximum Likelihood Estimation (MLE) in the context of a 1D linear regression.\n"
      ]
    },
    {
      "cell_type": "markdown",
      "metadata": {
        "execution": {},
        "id": "BPqghkQIfzP-"
      },
      "source": [
        "## Section 1.1: Gaussian noise"
      ]
    },
    {
      "cell_type": "markdown",
      "metadata": {
        "execution": {},
        "id": "6kRGjBIHfzP_"
      },
      "source": [
        "\n",
        "<details>\n",
        "<summary> <font color='blue'>Click here for text recap of relevant part of video </font></summary>\n",
        "\n",
        "In the previous tutorial we made the assumption that the data was drawn from a linear relationship with noise added, and found an effective approach for estimating model parameters based on minimizing the mean squared error.\n",
        "\n",
        "In that case we treated the noise as simply a nuisance, but what if we factored it directly into our model?\n",
        "\n",
        "Recall our linear model:\n",
        "\n",
        "\\begin{align}\n",
        "y = \\theta x + \\epsilon.\n",
        "\\end{align}\n",
        "\n",
        "The noise component $\\epsilon$ is often modeled as a random variable drawn from a Gaussian distribution (also called the normal distribution).\n",
        "\n",
        "The Gaussian distribution is described by its [probability density function](https://en.wikipedia.org/wiki/Probability_density_function) (pdf)\n",
        "\\begin{align}\n",
        "\\mathcal{N}(x; \\mu, \\sigma^2) = \\frac{1}{\\sqrt{2\\pi\\sigma^2}}e^{-\\frac{1}{2\\sigma^2}(x-\\mu)^2}\n",
        "\\end{align}\n",
        "\n",
        "and is dependent on two parameters: the mean $\\mu$ and the variance $\\sigma^2$. We often consider the noise signal to be Gaussian \"white noise\", with zero mean and unit variance:\n",
        "\n",
        "\\begin{align}\n",
        "\\epsilon \\sim \\mathcal{N}(0, 1).\n",
        "\\end{align}\n",
        "\n"
      ]
    },
    {
      "cell_type": "markdown",
      "metadata": {
        "execution": {},
        "id": "Ftt-JGfYfzP_"
      },
      "source": [
        "### Interactive Demo 1.1: Gaussian Distribution Explorer\n",
        "\n",
        "Use the explorer widget below to see how varying the $\\mu$ and $\\sigma$ parameters change the location and shape of the samples.\n",
        "\n",
        "\n",
        "1.   What effect does varying $\\mu$ have on the pdf?\n",
        "2.   What effect does varying $\\sigma$ have on the pdf?\n",
        "\n"
      ]
    },
    {
      "cell_type": "code",
      "execution_count": 8,
      "metadata": {
        "cellView": "form",
        "execution": {},
        "id": "uKGNei73fzP_",
        "outputId": "73261bd1-e2e5-4d54-fda4-c6ad0b3581f5",
        "colab": {
          "base_uri": "https://localhost:8080/",
          "height": 656,
          "referenced_widgets": [
            "8ae0b10ab4d94d2e85504f6e86e7b06c",
            "92d9356390624a9ca0464132ca27eac8",
            "60638695d412497da3b82b36948a9005",
            "18f9e2ecbd7b406285d835a98835a9fb",
            "5db5c7aa098a450685ce5dde7f7d87ff",
            "9c9cfac909bb4482b5c6ce431ab84c2a",
            "0536e65ee31e4c2482fd09b7fc7166e9",
            "43da234474544d108a48f7a8cef86b29",
            "084618e4ab864ed9bbfa1a3d82a8c0e2",
            "a81c42aeb9044c6aad0eb4eb8be4398d"
          ]
        }
      },
      "outputs": [
        {
          "output_type": "display_data",
          "data": {
            "text/plain": [
              "interactive(children=(FloatSlider(value=0.0, description='mu', max=2.0, min=-2.0), FloatSlider(value=1.0, desc…"
            ],
            "application/vnd.jupyter.widget-view+json": {
              "version_major": 2,
              "version_minor": 0,
              "model_id": "8ae0b10ab4d94d2e85504f6e86e7b06c"
            }
          },
          "metadata": {}
        }
      ],
      "source": [
        "# @markdown Make sure you execute this cell to enable the widget!\n",
        "\n",
        "@widgets.interact(mu=widgets.FloatSlider(0.0, min=-2.0, max=2.0),\n",
        "                  sigma=widgets.FloatSlider(1.0, min=0.5, max=2.0))\n",
        "def plot_normal_dist(mu=0, sigma=1):\n",
        "\n",
        "  # Generate pdf & samples from normal distribution with mu/sigma\n",
        "  rv = stats.norm(mu, sigma)\n",
        "  x = np.linspace(-5, 5, 100)\n",
        "  y = rv.pdf(x)\n",
        "  samples = rv.rvs(1000)\n",
        "\n",
        "  # Plot\n",
        "  fig, ax = plt.subplots()\n",
        "  ax.hist(samples, 20, density=True, color='g', histtype='stepfilled',\n",
        "          alpha=0.8, label='histogram')\n",
        "  ax.plot(x, y, color='orange', linewidth=3, label='pdf')\n",
        "  ax.vlines(mu, 0, rv.pdf(mu), color='y', linewidth=3, label='$\\mu$')\n",
        "  ax.vlines([mu-sigma, mu+sigma], 0, rv.pdf([mu-sigma, mu+sigma]), colors='red',\n",
        "            color='b', linewidth=3, label='$\\sigma$')\n",
        "  ax.set(xlabel='x', ylabel='probability density', xlim=[-5, 5], ylim=[0, 1.0])\n",
        "  ax.legend()\n",
        "  plt.show()"
      ]
    },
    {
      "cell_type": "markdown",
      "metadata": {
        "execution": {},
        "id": "qkW2QL8efzP_"
      },
      "source": [
        "[*Click for solution*](https://github.com/NeuromatchAcademy/course-content/tree/main/tutorials/W1D2_ModelFitting/solutions/W1D2_Tutorial2_Solution_5f94b40f.py)\n",
        "\n"
      ]
    },
    {
      "cell_type": "code",
      "execution_count": 9,
      "metadata": {
        "cellView": "form",
        "execution": {},
        "id": "y8s0xCeFfzQA",
        "outputId": "26e76989-3d91-407b-824f-8ac88d484a56",
        "colab": {
          "base_uri": "https://localhost:8080/",
          "height": 62,
          "referenced_widgets": [
            "af0975db25ed4f8a9ddf1a2b5291bdbf",
            "3d74288139314d728c0b116e71871678",
            "9569d718d36f461d93078dda98936e13",
            "486ef7a07acd4e7580cbd4c1213d5cc8",
            "459fad2338e14b4280c6b77589303441",
            "b40feaa2875d454888f847438e1085d6",
            "2362b80427ed44a3bb1fb99f25332947",
            "b3ef3a74d6814e81a257d23934392983",
            "f1c5fa6c5c1b4783b2b6c927356f9f36",
            "8cff0c3e2bc34469861a0480906b4239",
            "99aa938bb213472e868aaf9efc87db99",
            "788ba7e0b0e74c70a42980f9131ec775",
            "df751d901fe74395aab07bf15c3809f6",
            "9f72d6d4747249b9918c23c083767e9d",
            "3a43132c38cd441ca15b7630e0715eba",
            "03353266381e44fb979d097598e1ab03",
            "0eb42662da424e74a0a82fcd0b3f81fa",
            "4c8cf5ec49a746e69b0a45f057c35de4",
            "37d128b1d1d747f6a733672f2c18a32e",
            "136bed4e59e74a119e40ba943083a50b",
            "df5e26a396134c0da705313a077dc7ec",
            "9bea9ed524e147b0b4e5cb8a13b1d3c9",
            "46fd8a9a7dee4e3bbf3b885416585e2b",
            "442172e23d4945ad8669e9d7ecfafaed",
            "f6e635344fb947239775dcf6139ae786",
            "ee7bab9e38204373a2f9af09bdb29e40"
          ]
        }
      },
      "outputs": [
        {
          "output_type": "display_data",
          "data": {
            "text/plain": [
              "VBox(children=(VBox(children=(HBox(children=(Button(description='🙂', layout=Layout(height='auto', padding='0.5…"
            ],
            "application/vnd.jupyter.widget-view+json": {
              "version_major": 2,
              "version_minor": 0,
              "model_id": "af0975db25ed4f8a9ddf1a2b5291bdbf"
            }
          },
          "metadata": {}
        }
      ],
      "source": [
        "# @title Submit your feedback\n",
        "content_review(f\"{feedback_prefix}_Gaussian_Distribution_Explorer_Interactive_Demo_and_Discussion\")"
      ]
    },
    {
      "cell_type": "markdown",
      "metadata": {
        "execution": {},
        "id": "Tc2UQtQufzQA"
      },
      "source": [
        "## Section 1.2: Probabilistic Models\n",
        "\n",
        "*Estimated timing to here from start of tutorial: 11 min*\n",
        "\n",
        "Now that we have a model of our noise component $\\epsilon$ as random variable, how do we incorporate this back into our original linear model from before? Consider again our simplified model $y = \\theta x + \\epsilon$ where the noise has zero mean and unit variance $\\epsilon \\sim \\mathcal{N}(0, 1)$. We can now also treat $y$ as a random variable drawn from a Gaussian distribution where $\\mu = \\theta x$ and $\\sigma^2 = 1$:\n",
        "\n",
        "\\begin{equation}\n",
        "y \\sim \\mathcal{N}(\\theta x, 1)\n",
        "\\end{equation}\n",
        "\n",
        "which is to say that the probability of observing $y$ given $x$ and parameter $\\theta$ is\n",
        "\n",
        "\\begin{equation}\n",
        "p(y|x,\\theta) = \\frac{1}{\\sqrt{2\\pi}}e^{-\\frac{1}{2}(y-\\theta x)^2}\n",
        "\\end{equation}\n",
        "\n",
        "\n",
        "Note that in this and the following sections, we will focus on a single data point (a single pairing of $x$ and $y$). We have dropped the subscript $i$ just for simplicity (that is, we use $x$ for a single data point, instead of $x_i$).\n",
        "\n",
        "Now, let's revisit our original sample dataset where the true underlying model has $\\theta = 1.2$."
      ]
    },
    {
      "cell_type": "code",
      "execution_count": 10,
      "metadata": {
        "cellView": "form",
        "execution": {},
        "id": "hlpKd8MofzQA"
      },
      "outputs": [],
      "source": [
        "# @markdown Execute this cell to generate some simulated data\n",
        "\n",
        "# setting a fixed seed to our random number generator ensures we will always\n",
        "# get the same psuedorandom number sequence\n",
        "\n",
        "np.random.seed(121)\n",
        "theta = 1.2\n",
        "n_samples = 30\n",
        "x = 10 * np.random.rand(n_samples) # sample from a uniform distribution over [0,10)\n",
        "noise = np.random.randn(n_samples) # sample from a standard normal distribution\n",
        "y = theta * x + noise"
      ]
    },
    {
      "cell_type": "markdown",
      "metadata": {
        "execution": {},
        "id": "S2uQPGDNfzQA"
      },
      "source": [
        "This time we can plot the density of $p(y|x,\\theta=1.2)$ and see how $p(y)$ changes for different values of $x$."
      ]
    },
    {
      "cell_type": "code",
      "execution_count": 11,
      "metadata": {
        "cellView": "form",
        "execution": {},
        "id": "ycspkReYfzQA",
        "outputId": "21497547-5387-4381-9c8f-7af168f77290",
        "colab": {
          "base_uri": "https://localhost:8080/",
          "height": 492
        }
      },
      "outputs": [
        {
          "output_type": "display_data",
          "data": {
            "text/plain": [
              "<Figure size 1000x500 with 3 Axes>"
            ],
            "image/png": "[encoded data removed]"
          },
          "metadata": {
            "image/png": {
              "width": 974,
              "height": 475
            }
          }
        }
      ],
      "source": [
        "# @markdown Execute this cell to visualize p(y|x, theta=1.2)\n",
        "\n",
        "fig, (ax1, ax2) = plt.subplots(ncols=2, figsize=(10, 5))\n",
        "\n",
        "# Invokes helper function to generate density image plots from data and parameters\n",
        "im = plot_density_image(x, y, 1.2, ax=ax1)\n",
        "plt.colorbar(im, ax=ax1)\n",
        "ax1.axvline(8, color='k')\n",
        "ax1.set(title=r'p(y | x, $\\theta$=1.2)')\n",
        "\n",
        "# Plot pdf for given x\n",
        "ylim = ax1.get_ylim()\n",
        "yy = np.linspace(ylim[0], ylim[1], 50)\n",
        "ax2.plot(yy, stats.norm(theta * 8, 1).pdf(yy), color='orange', linewidth=2)\n",
        "ax2.set(\n",
        "    title=r'p(y|x=8, $\\theta$=1.2)',\n",
        "    xlabel='y',\n",
        "    ylabel='probability density')\n",
        "plt.show()"
      ]
    },
    {
      "cell_type": "markdown",
      "metadata": {
        "execution": {},
        "id": "jyHE5SaFfzQB"
      },
      "source": [
        "## Section 1.3: Likelihood Estimation\n",
        "\n",
        "*Estimated timing to here from start of tutorial: 15 min*\n",
        "\n",
        "Now that we have our probabilistic model, we turn back to our original challenge of finding a good estimate for $\\theta$ that fits our data. Given the inherent uncertainty when dealing in probabilities, we talk about the [likelihood](https://en.wikipedia.org/wiki/Likelihood_function) that some estimate $\\hat{\\theta}$ fits our data. The likelihood function $\\mathcal{L}(\\theta)$ is equal to the probability density function parameterized by that $\\theta$:\n",
        "\n",
        "\\begin{equation}\n",
        "\\mathcal{L}(\\theta|x,y) = p(y|x,\\theta) = \\frac{1}{\\sqrt{2\\pi\\sigma^2}}e^{-\\frac{1}{2\\sigma^2}(y-\\theta x)^2}\n",
        "\\end{equation}"
      ]
    },
    {
      "cell_type": "markdown",
      "metadata": {
        "execution": {},
        "id": "cJlGSiZhfzQB"
      },
      "source": [
        "### Coding Exercise 1.3: Likelihood Function\n",
        "\n",
        "In this exercise you will implement the likelihood function $\\mathcal{L}(\\theta|x, y)$ for our linear model where $\\sigma = 1$.\n",
        "\n",
        "After implementing this function, we can produce probabilities that our estimate $\\hat{\\theta}$ generated the provided observations. We will try with one of the samples from our dataset.\n",
        "\n",
        "TIP: Use `np.exp` and `np.sqrt` for the exponential and square root functions, respectively."
      ]
    },
    {
      "cell_type": "code",
      "execution_count": 12,
      "metadata": {
        "execution": {},
        "id": "HQc8Zr48fzQB",
        "outputId": "40ad0084-3c2f-4d43-d7b2-a064d31c40c2",
        "colab": {
          "base_uri": "https://localhost:8080/",
          "height": 297
        }
      },
      "outputs": [
        {
          "output_type": "error",
          "ename": "NotImplementedError",
          "evalue": "Student exercise: implement the likelihood function",
          "traceback": [
            "\u001b[0;31m---------------------------------------------------------------------------\u001b[0m",
            "\u001b[0;31mNotImplementedError\u001b[0m                       Traceback (most recent call last)",
            "\u001b[0;32m/tmp/ipython-input-12-2937329151.py\u001b[0m in \u001b[0;36m<cell line: 0>\u001b[0;34m()\u001b[0m\n\u001b[1;32m     25\u001b[0m \u001b[0;34m\u001b[0m\u001b[0m\n\u001b[1;32m     26\u001b[0m \u001b[0;34m\u001b[0m\u001b[0m\n\u001b[0;32m---> 27\u001b[0;31m \u001b[0mprint\u001b[0m\u001b[0;34m(\u001b[0m\u001b[0mlikelihood\u001b[0m\u001b[0;34m(\u001b[0m\u001b[0;36m1.0\u001b[0m\u001b[0;34m,\u001b[0m \u001b[0mx\u001b[0m\u001b[0;34m[\u001b[0m\u001b[0;36m1\u001b[0m\u001b[0;34m]\u001b[0m\u001b[0;34m,\u001b[0m \u001b[0my\u001b[0m\u001b[0;34m[\u001b[0m\u001b[0;36m1\u001b[0m\u001b[0;34m]\u001b[0m\u001b[0;34m)\u001b[0m\u001b[0;34m)\u001b[0m\u001b[0;34m\u001b[0m\u001b[0;34m\u001b[0m\u001b[0m\n\u001b[0m",
            "\u001b[0;32m/tmp/ipython-input-12-2937329151.py\u001b[0m in \u001b[0;36mlikelihood\u001b[0;34m(theta_hat, x, y)\u001b[0m\n\u001b[1;32m     16\u001b[0m   \u001b[0;31m## TODO for students: implement the likelihood function\u001b[0m\u001b[0;34m\u001b[0m\u001b[0;34m\u001b[0m\u001b[0m\n\u001b[1;32m     17\u001b[0m   \u001b[0;31m# Fill out function and remove\u001b[0m\u001b[0;34m\u001b[0m\u001b[0;34m\u001b[0m\u001b[0m\n\u001b[0;32m---> 18\u001b[0;31m   \u001b[0;32mraise\u001b[0m \u001b[0mNotImplementedError\u001b[0m\u001b[0;34m(\u001b[0m\u001b[0;34m\"Student exercise: implement the likelihood function\"\u001b[0m\u001b[0;34m)\u001b[0m\u001b[0;34m\u001b[0m\u001b[0;34m\u001b[0m\u001b[0m\n\u001b[0m\u001b[1;32m     19\u001b[0m   \u001b[0;31m##############################################################################\u001b[0m\u001b[0;34m\u001b[0m\u001b[0;34m\u001b[0m\u001b[0m\n\u001b[1;32m     20\u001b[0m \u001b[0;34m\u001b[0m\u001b[0m\n",
            "\u001b[0;31mNotImplementedError\u001b[0m: Student exercise: implement the likelihood function"
          ]
        }
      ],
      "source": [
        "def likelihood(theta_hat, x, y):\n",
        "  \"\"\"The likelihood function for a linear model with noise sampled from a\n",
        "    Gaussian distribution with zero mean and unit variance.\n",
        "\n",
        "  Args:\n",
        "    theta_hat (float): An estimate of the slope parameter.\n",
        "    x (ndarray): An array of shape (samples,) that contains the input values.\n",
        "    y (ndarray): An array of shape (samples,) that contains the corresponding\n",
        "      measurement values to the inputs.\n",
        "\n",
        "  Returns:\n",
        "    ndarray: the likelihood values for the theta_hat estimate\n",
        "  \"\"\"\n",
        "  sigma = 1\n",
        "  ##############################################################################\n",
        "  ## TODO for students: implement the likelihood function\n",
        "  # Fill out function and remove\n",
        "  #raise NotImplementedError(\"Student exercise: implement the likelihood function\")\n",
        "  ##############################################################################\n",
        "\n",
        "  # Compute Gaussian likelihood\n",
        "  pdf = ...\n",
        "\n",
        "  return pdf\n",
        "\n",
        "\n",
        "print(likelihood(1.0, x[1], y[1]))"
      ]
    },
    {
      "cell_type": "markdown",
      "metadata": {
        "execution": {},
        "id": "4rLkssEQfzQB"
      },
      "source": [
        "Sample output\n",
        "\n",
        "```\n",
        "0.11344443599846923\n",
        "```"
      ]
    },
    {
      "cell_type": "markdown",
      "metadata": {
        "cellView": "both",
        "execution": {},
        "id": "Ds6xgnVTfzQB"
      },
      "source": [
        "[*Click for solution*](https://github.com/NeuromatchAcademy/course-content/tree/main/tutorials/W1D2_ModelFitting/solutions/W1D2_Tutorial2_Solution_328a0c30.py)\n",
        "\n"
      ]
    },
    {
      "cell_type": "code",
      "execution_count": null,
      "metadata": {
        "cellView": "form",
        "execution": {},
        "id": "J5AIBFtyfzQB"
      },
      "outputs": [],
      "source": [
        "# @title Submit your feedback\n",
        "content_review(f\"{feedback_prefix}_Likelihood_function_Exercise\")"
      ]
    },
    {
      "cell_type": "markdown",
      "metadata": {
        "execution": {},
        "id": "J_sP6wh1fzQC"
      },
      "source": [
        "We should see that $\\mathcal{L}(\\theta=1.0|x=2.1,y=3.7) \\approx 0.11$. So far so good, but how does this tell us how this estimate is better than any others?\n",
        "\n",
        "When dealing with a set of data points, as we are with our dataset, we are concerned with their joint probability -- the likelihood that all data points are explained by our parameterization. Since we have assumed that the noise affects each output independently, we can factorize the likelihood, and write:\n",
        "\n",
        "\\begin{equation}\n",
        "\\mathcal{L}(\\theta|\\mathbf{x}, \\mathbf{y}) = \\prod_{i=1}^N \\mathcal{L}(\\theta|x_i,y_i),\n",
        "\\end{equation}\n",
        "\n",
        "where we have $N$ data points $\\mathbf{x} = [x_1,...,x_N]$ and $\\mathbf{y} = [y_1,...,y_N]$.\n",
        "\n",
        "In practice, such a product can be numerically unstable. Indeed, multiplying small values together can lead to [arithmetic underflow](https://en.wikipedia.org/wiki/Arithmetic_underflow), the situation in which the digital representation of a floating point number reaches its limit. This problem can be circumvented by taking the logarithm of the likelihood because the logarithm transforms products into sums:\n",
        "\n",
        "\\begin{equation}\n",
        "\\log\\mathcal{L}(\\theta|\\mathbf{x}, \\mathbf{y}) = \\sum_{i=1}^N \\log\\mathcal{L}(\\theta|x_i,y_i)\n",
        "\\end{equation}\n",
        "\n",
        "We can take the sum of the log of the output of our `likelihood` method applied to the full dataset to get a better idea of how different $\\hat{\\theta}$ compare. We can also plot the different distribution densities over our dataset and see how they line up qualitatively."
      ]
    },
    {
      "cell_type": "code",
      "execution_count": null,
      "metadata": {
        "cellView": "form",
        "execution": {},
        "id": "q5TBS3NkfzQC"
      },
      "outputs": [],
      "source": [
        "# @markdown Execute this cell to visualize different distribution densities\n",
        "theta_hats = [0.5, 1.0, 2.2]\n",
        "fig, axes = plt.subplots(ncols=3, figsize=(15, 5))\n",
        "for theta_hat, ax in zip(theta_hats, axes):\n",
        "  ll = np.sum(np.log(likelihood(theta_hat, x, y)))  # log likelihood\n",
        "  im = plot_density_image(x, y, theta_hat, ax=ax)\n",
        "  ax.scatter(x, y)\n",
        "  ax.set(title=fr'$\\hat{{\\theta}}$ = {theta_hat}, log likelihood: {ll:.2f}')\n",
        "plt.colorbar(im, ax=ax)\n",
        "plt.show()"
      ]
    },
    {
      "cell_type": "markdown",
      "metadata": {
        "execution": {},
        "id": "5YsnuX5-fzQC"
      },
      "source": [
        "Using the log likelihood calculation, we see that $\\mathcal{L}(\\theta=1.0) > \\mathcal{L}(\\theta=0.5) > \\mathcal{L}(\\theta=2.2)$.\n",
        "\n",
        "This is great: now we have a way to compare estimators based on likelihood. But like with the MSE approach, we want an analytic solution to find the best estimator. In this case, we want to find the estimator that maximizes the likelihood.\n"
      ]
    },
    {
      "cell_type": "markdown",
      "metadata": {
        "execution": {},
        "id": "psQlxuHSfzQC"
      },
      "source": [
        "## Section 1.4: Finding the Maximum Likelihood Estimator\n",
        "\n",
        "*Estimated timing to here from start of tutorial: 23 min*\n",
        "\n",
        "<details>\n",
        "<summary> <font color='blue'>Click here for text recap of relevant part of video </font></summary>\n",
        "\n",
        "We want to find the parameter value $\\hat\\theta$ that makes our data set most likely:\n",
        "\n",
        "\\begin{align}\n",
        "\\hat{\\theta}_{\\textrm{MLE}} = \\underset{\\theta}{\\operatorname{argmax}} \\mathcal{L}(\\theta|X,Y)\n",
        "\\end{align}\n",
        "\n",
        "We discussed how taking the logarithm of the likelihood helps with numerical stability, the good thing is that it does so without changing the parameter value that maximizes the likelihood. Indeed, the $\\log()$ function is *monotonically increasing*, which means that it preserves the order of its inputs. So we have:\n",
        "\n",
        "\\begin{align}\n",
        "\\hat{\\theta}_{\\textrm{MLE}} = \\underset{\\theta}{\\operatorname{argmax}} \\sum_{i=1}^m \\textrm{log} \\mathcal{L}(\\theta|x_i,y_i)\n",
        "\\end{align}\n",
        "\n",
        "Now substituting our specific likelihood function and taking its logarithm, we get:\n",
        "\\begin{align}\n",
        "\\hat{\\theta}_{\\textrm{MLE}} = \\underset{\\theta}{\\operatorname{argmax}} [-\\frac{N}{2} \\operatorname{log} 2\\pi\\sigma^2 - \\frac{1}{2\\sigma^2}\\sum_{i=1}^N (y_i-\\theta x_i)^2].\n",
        "\\end{align}\n",
        "\n",
        "Note that maximizing the log likelihood is the same as minimizing the negative log likelihood (in practice optimization routines are developed to solve minimization not maximization problems). Because of the convexity of this objective function, we can take the derivative of our negative log likelihhood, set it to 0, and solve - just like our solution to minimizing MSE.\n",
        "\n",
        "\\begin{align}\n",
        "\\frac{\\partial\\operatorname{log}\\mathcal{L}(\\theta|x,y)}{\\partial\\theta}=\\frac{1}{\\sigma^2}\\sum_{i=1}^N(y_i-\\theta x_i)x_i = 0\n",
        "\\end{align}\n",
        "\n",
        "This looks remarkably like the equation we had to solve for the optimal MSE estimator, and, in fact, we arrive to the exact same solution!\n",
        "\n",
        "\\begin{align}\n",
        "\\hat{\\theta}_{\\textrm{MLE}} = \\hat{\\theta}_{\\textrm{MSE}} = \\frac{\\sum_{i=1}^N x_i y_i}{\\sum_{i=1}^N x_i^2}\n",
        "\\end{align}"
      ]
    },
    {
      "cell_type": "code",
      "execution_count": null,
      "metadata": {
        "execution": {},
        "id": "f33xnB_AfzQC"
      },
      "outputs": [],
      "source": [
        "# Compute theta_hat_MLE\n",
        "theta_hat_mle = (x @ y) / (x @ x)"
      ]
    },
    {
      "cell_type": "code",
      "execution_count": null,
      "metadata": {
        "cellView": "form",
        "execution": {},
        "id": "q0WtXf-TfzQC"
      },
      "outputs": [],
      "source": [
        "# @markdown Execute this cell to visualize density with theta_hat_mle\n",
        "\n",
        "# Plot the resulting distribution density\n",
        "fig, ax = plt.subplots()\n",
        "ll = np.sum(np.log(likelihood(theta_hat_mle, x, y))) # log likelihood\n",
        "im = plot_density_image(x, y, theta_hat_mle, ax=ax)\n",
        "plt.colorbar(im, ax=ax)\n",
        "ax.scatter(x, y)\n",
        "ax.set(title=fr'$\\hat{{\\theta}}$ = {theta_hat_mle:.2f}, log likelihood: {ll:.2f}')\n",
        "plt.show()"
      ]
    },
    {
      "cell_type": "markdown",
      "metadata": {
        "execution": {},
        "id": "ktjf9jDMfzQC"
      },
      "source": [
        "---\n",
        "# Summary\n",
        "\n",
        "*Estimated timing of tutorial: 30 minutes*\n",
        "\n",
        "\n",
        "Likelihood vs probability:\n",
        "\n",
        "  - $\\mathcal{L}(\\theta|x, y) = p(y|x, \\theta)$\n",
        "  - $p(y|x, \\theta) \\rightarrow$ \"probability of observing the response $y$ given parameter $\\theta$ and input $x$\"\n",
        "  - $\\mathcal{L}(\\theta|x, y) \\rightarrow$ \"likelihood model that parameters $\\theta$ produced response $y$ from input $x$\"\n",
        "\n",
        "Log-likelihood maximization:\n",
        "\n",
        "  - We take the $\\log$ of the likelihood function for computational convenience\n",
        "  - The parameters $\\theta$ that maximize $\\log\\mathcal{L}(\\theta|x, y)$ are the model parameters that maximize the probability of observing the data.\n",
        "\n",
        "**Key point**: the log-likelihood is a flexible cost function, and is often used to find model parameters that best fit the data."
      ]
    },
    {
      "cell_type": "markdown",
      "metadata": {
        "execution": {},
        "id": "OMlugGKGfzQD"
      },
      "source": [
        "\n",
        "---\n",
        "# Notation\n",
        "\n",
        "\\begin{align}\n",
        "x &\\quad \\text{input, independent variable}\\\\\n",
        "y &\\quad \\text{response measurement, dependent variable}\\\\\n",
        "\\mathbf{x} &\\quad \\text{vector of input values}\\\\\n",
        "\\mathbf{y} &\\quad \\text{vector of measurements}\\\\\n",
        "\\epsilon &\\quad \\text{measurement error, noise contribution}\\\\\n",
        "\\epsilon \\sim \\mathcal{N}(\\mu, \\sigma^2) &\\quad \\text{random variable } \\epsilon \\text{ is distributed according to a Gaussian distribution, with mean } \\mu \\text{ and variance } \\sigma^2\\\\\n",
        "\\mu &\\quad \\text{mean}\\\\\n",
        "\\sigma^2 &\\quad \\text{variance}\\\\\n",
        "\\sigma &\\quad \\text{standard deviation}\\\\\n",
        "\\theta &\\quad \\text{parameter}\\\\\n",
        "\\hat{\\theta} &\\quad \\text{estimate of parameter}\\\\\n",
        "\\mathcal{L}(\\theta|x, y) &\\quad \\text{likelihood of that parameter } \\theta \\text{ producing response } y \\text{ from input } x \\\\\n",
        "p(y|x, \\theta) &\\quad \\text{probability of observing the response } y \\text{ given input } x \\text{ and parameter } \\theta \\\\\n",
        "\\end{align}"
      ]
    },
    {
      "cell_type": "markdown",
      "metadata": {
        "execution": {},
        "id": "u-P8PWOCfzQD"
      },
      "source": [
        "---\n",
        "# Bonus\n",
        "\n",
        "We can also see $\\mathrm{p}(\\mathrm{y} | \\mathrm{x}, \\theta)$ as a function of $x$. This is the stimulus likelihood function, and it is useful in case we want to decode the input $x$ from observed responses $y$. This is what is relevant from the point of view of a neuron that does not have access to the outside world and tries to infer what's out there from the responses of other neurons!"
      ]
    }
  ],
  "metadata": {
    "celltoolbar": "Slideshow",
    "colab": {
      "name": "W1D2_Tutorial2",
      "provenance": [],
      "toc_visible": true,
      "include_colab_link": true
    },
    "kernel": {
      "display_name": "Python 3",
      "language": "python",
      "name": "python3"
    },
    "kernelspec": {
      "display_name": "Python 3",
      "language": "python",
      "name": "python3"
    },
    "language_info": {
      "codemirror_mode": {
        "name": "ipython",
        "version": 3
      },
      "file_extension": ".py",
      "mimetype": "text/x-python",
      "name": "python",
      "nbconvert_exporter": "python",
      "pygments_lexer": "ipython3",
      "version": "3.9.21"
    },
    "widgets": {
      "application/vnd.jupyter.widget-state+json": {
        "441f12ba0f5d4c568910ae79467738f0": {
          "model_module": "@jupyter-widgets/controls",
          "model_name": "TabModel",
          "model_module_version": "1.5.0",
          "state": {
            "_dom_classes": [],
            "_model_module": "@jupyter-widgets/controls",
            "_model_module_version": "1.5.0",
            "_model_name": "TabModel",
            "_titles": {
              "0": "Youtube",
              "1": "Bilibili"
            },
            "_view_count": null,
            "_view_module": "@jupyter-widgets/controls",
            "_view_module_version": "1.5.0",
            "_view_name": "TabView",
            "box_style": "",
            "children": [
              "IPY_MODEL_0649c861a2df460c8c08658a9d2a5cdd",
              "IPY_MODEL_ca5e098dcb0c46e3b1fda24bb9b04391"
            ],
            "layout": "IPY_MODEL_3b3df2ad64314985903cf936d8342e59",
            "selected_index": 0
          }
        },
        "0649c861a2df460c8c08658a9d2a5cdd": {
          "model_module": "@jupyter-widgets/output",
          "model_name": "OutputModel",
          "model_module_version": "1.0.0",
          "state": {
            "_dom_classes": [],
            "_model_module": "@jupyter-widgets/output",
            "_model_module_version": "1.0.0",
            "_model_name": "OutputModel",
            "_view_count": null,
            "_view_module": "@jupyter-widgets/output",
            "_view_module_version": "1.0.0",
            "_view_name": "OutputView",
            "layout": "IPY_MODEL_2ca477d81bfc4052a3ebc8cba33f03c3",
            "msg_id": "",
            "outputs": [
              {
                "output_type": "stream",
                "name": "stdout",
                "text": [
                  "Video available at https://youtube.com/watch?v=8mpNmzLKNfU\n"
                ]
              },
              {
                "output_type": "display_data",
                "data": {
                  "text/plain": "<IPython.lib.display.YouTubeVideo at 0x782ba96f6110>",
                  "text/html": "\n        <iframe\n            width=\"854\"\n            height=\"480\"\n            src=\"https://www.youtube.com/embed/8mpNmzLKNfU?fs=1&rel=0\"\n            frameborder=\"0\"\n            allowfullscreen\n            \n        ></iframe>\n        ",
                  "image/jpeg": "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\n"
                },
                "metadata": {}
              }
            ]
          }
        },
        "ca5e098dcb0c46e3b1fda24bb9b04391": {
          "model_module": "@jupyter-widgets/output",
          "model_name": "OutputModel",
          "model_module_version": "1.0.0",
          "state": {
            "_dom_classes": [],
            "_model_module": "@jupyter-widgets/output",
            "_model_module_version": "1.0.0",
            "_model_name": "OutputModel",
            "_view_count": null,
            "_view_module": "@jupyter-widgets/output",
            "_view_module_version": "1.0.0",
            "_view_name": "OutputView",
            "layout": "IPY_MODEL_c4a25639f18a4612a48d5d6832c83064",
            "msg_id": "",
            "outputs": [
              {
                "output_type": "stream",
                "name": "stdout",
                "text": [
                  "Video available at https://www.bilibili.com/video/BV1Mg4y1i7WH\n"
                ]
              },
              {
                "output_type": "display_data",
                "data": {
                  "text/plain": "<__main__.PlayVideo at 0x782ba9771010>",
                  "text/html": "\n        <iframe\n            width=\"854\"\n            height=\"480\"\n            src=\"https://player.bilibili.com/player.html?bvid=BV1Mg4y1i7WH&page=1?fs=1&autoplay=False\"\n            frameborder=\"0\"\n            allowfullscreen\n            \n        ></iframe>\n        "
                },
                "metadata": {}
              }
            ]
          }
        },
        "3b3df2ad64314985903cf936d8342e59": {
          "model_module": "@jupyter-widgets/base",
          "model_name": "LayoutModel",
          "model_module_version": "1.2.0",
          "state": {
            "_model_module": "@jupyter-widgets/base",
            "_model_module_version": "1.2.0",
            "_model_name": "LayoutModel",
            "_view_count": null,
            "_view_module": "@jupyter-widgets/base",
            "_view_module_version": "1.2.0",
            "_view_name": "LayoutView",
            "align_content": null,
            "align_items": null,
            "align_self": null,
            "border": null,
            "bottom": null,
            "display": null,
            "flex": null,
            "flex_flow": null,
            "grid_area": null,
            "grid_auto_columns": null,
            "grid_auto_flow": null,
            "grid_auto_rows": null,
            "grid_column": null,
            "grid_gap": null,
            "grid_row": null,
            "grid_template_areas": null,
            "grid_template_columns": null,
            "grid_template_rows": null,
            "height": null,
            "justify_content": null,
            "justify_items": null,
            "left": null,
            "margin": null,
            "max_height": null,
            "max_width": null,
            "min_height": null,
            "min_width": null,
            "object_fit": null,
            "object_position": null,
            "order": null,
            "overflow": null,
            "overflow_x": null,
            "overflow_y": null,
            "padding": null,
            "right": null,
            "top": null,
            "visibility": null,
            "width": null
          }
        },
        "2ca477d81bfc4052a3ebc8cba33f03c3": {
          "model_module": "@jupyter-widgets/base",
          "model_name": "LayoutModel",
          "model_module_version": "1.2.0",
          "state": {
            "_model_module": "@jupyter-widgets/base",
            "_model_module_version": "1.2.0",
            "_model_name": "LayoutModel",
            "_view_count": null,
            "_view_module": "@jupyter-widgets/base",
            "_view_module_version": "1.2.0",
            "_view_name": "LayoutView",
            "align_content": null,
            "align_items": null,
            "align_self": null,
            "border": null,
            "bottom": null,
            "display": null,
            "flex": null,
            "flex_flow": null,
            "grid_area": null,
            "grid_auto_columns": null,
            "grid_auto_flow": null,
            "grid_auto_rows": null,
            "grid_column": null,
            "grid_gap": null,
            "grid_row": null,
            "grid_template_areas": null,
            "grid_template_columns": null,
            "grid_template_rows": null,
            "height": null,
            "justify_content": null,
            "justify_items": null,
            "left": null,
            "margin": null,
            "max_height": null,
            "max_width": null,
            "min_height": null,
            "min_width": null,
            "object_fit": null,
            "object_position": null,
            "order": null,
            "overflow": null,
            "overflow_x": null,
            "overflow_y": null,
            "padding": null,
            "right": null,
            "top": null,
            "visibility": null,
            "width": null
          }
        },
        "c4a25639f18a4612a48d5d6832c83064": {
          "model_module": "@jupyter-widgets/base",
          "model_name": "LayoutModel",
          "model_module_version": "1.2.0",
          "state": {
            "_model_module": "@jupyter-widgets/base",
            "_model_module_version": "1.2.0",
            "_model_name": "LayoutModel",
            "_view_count": null,
            "_view_module": "@jupyter-widgets/base",
            "_view_module_version": "1.2.0",
            "_view_name": "LayoutView",
            "align_content": null,
            "align_items": null,
            "align_self": null,
            "border": null,
            "bottom": null,
            "display": null,
            "flex": null,
            "flex_flow": null,
            "grid_area": null,
            "grid_auto_columns": null,
            "grid_auto_flow": null,
            "grid_auto_rows": null,
            "grid_column": null,
            "grid_gap": null,
            "grid_row": null,
            "grid_template_areas": null,
            "grid_template_columns": null,
            "grid_template_rows": null,
            "height": null,
            "justify_content": null,
            "justify_items": null,
            "left": null,
            "margin": null,
            "max_height": null,
            "max_width": null,
            "min_height": null,
            "min_width": null,
            "object_fit": null,
            "object_position": null,
            "order": null,
            "overflow": null,
            "overflow_x": null,
            "overflow_y": null,
            "padding": null,
            "right": null,
            "top": null,
            "visibility": null,
            "width": null
          }
        },
        "5c2e15e80d4a421ca55c0c49ab73c19d": {
          "model_module": "@jupyter-widgets/controls",
          "model_name": "VBoxModel",
          "model_module_version": "1.5.0",
          "state": {
            "_dom_classes": [],
            "_model_module": "@jupyter-widgets/controls",
            "_model_module_version": "1.5.0",
            "_model_name": "VBoxModel",
            "_view_count": null,
            "_view_module": "@jupyter-widgets/controls",
            "_view_module_version": "1.5.0",
            "_view_name": "VBoxView",
            "box_style": "",
            "children": [
              "IPY_MODEL_13a1dd8d082e45c9835ad772ff405af8"
            ],
            "layout": "IPY_MODEL_738683288ee2477f8f446fbb0d00f36a"
          }
        },
        "13a1dd8d082e45c9835ad772ff405af8": {
          "model_module": "@jupyter-widgets/controls",
          "model_name": "VBoxModel",
          "model_module_version": "1.5.0",
          "state": {
            "_dom_classes": [],
            "_model_module": "@jupyter-widgets/controls",
            "_model_module_version": "1.5.0",
            "_model_name": "VBoxModel",
            "_view_count": null,
            "_view_module": "@jupyter-widgets/controls",
            "_view_module_version": "1.5.0",
            "_view_name": "VBoxView",
            "box_style": "",
            "children": [
              "IPY_MODEL_07c6efa98a414683bf2eb34d2372cec1",
              "IPY_MODEL_c247354f640f47fa8b1e1c3f21cc3f73",
              "IPY_MODEL_7a929a42d6d14e95a420d4a96fbf5afc"
            ],
            "layout": "IPY_MODEL_efc809bd93814053897669724685387f"
          }
        },
        "738683288ee2477f8f446fbb0d00f36a": {
          "model_module": "@jupyter-widgets/base",
          "model_name": "LayoutModel",
          "model_module_version": "1.2.0",
          "state": {
            "_model_module": "@jupyter-widgets/base",
            "_model_module_version": "1.2.0",
            "_model_name": "LayoutModel",
            "_view_count": null,
            "_view_module": "@jupyter-widgets/base",
            "_view_module_version": "1.2.0",
            "_view_name": "LayoutView",
            "align_content": null,
            "align_items": null,
            "align_self": null,
            "border": null,
            "bottom": null,
            "display": null,
            "flex": null,
            "flex_flow": null,
            "grid_area": null,
            "grid_auto_columns": null,
            "grid_auto_flow": null,
            "grid_auto_rows": null,
            "grid_column": null,
            "grid_gap": null,
            "grid_row": null,
            "grid_template_areas": null,
            "grid_template_columns": null,
            "grid_template_rows": null,
            "height": null,
            "justify_content": null,
            "justify_items": null,
            "left": null,
            "margin": null,
            "max_height": null,
            "max_width": null,
            "min_height": null,
            "min_width": null,
            "object_fit": null,
            "object_position": null,
            "order": null,
            "overflow": null,
            "overflow_x": null,
            "overflow_y": null,
            "padding": null,
            "right": null,
            "top": null,
            "visibility": null,
            "width": null
          }
        },
        "07c6efa98a414683bf2eb34d2372cec1": {
          "model_module": "@jupyter-widgets/controls",
          "model_name": "HBoxModel",
          "model_module_version": "1.5.0",
          "state": {
            "_dom_classes": [],
            "_model_module": "@jupyter-widgets/controls",
            "_model_module_version": "1.5.0",
            "_model_name": "HBoxModel",
            "_view_count": null,
            "_view_module": "@jupyter-widgets/controls",
            "_view_module_version": "1.5.0",
            "_view_name": "HBoxView",
            "box_style": "",
            "children": [
              "IPY_MODEL_20ba062de4f44f5aa17c163dc9fd5ea0",
              "IPY_MODEL_0b8c4d3aeb2e45499211c8e8537549fb",
              "IPY_MODEL_4a932d22bf614a7ca0094b93a52e69e0"
            ],
            "layout": "IPY_MODEL_16c0bddffede4cccad62bb5dbc26009a"
          }
        },
        "c247354f640f47fa8b1e1c3f21cc3f73": {
          "model_module": "@jupyter-widgets/controls",
          "model_name": "HBoxModel",
          "model_module_version": "1.5.0",
          "state": {
            "_dom_classes": [],
            "_model_module": "@jupyter-widgets/controls",
            "_model_module_version": "1.5.0",
            "_model_name": "HBoxModel",
            "_view_count": null,
            "_view_module": "@jupyter-widgets/controls",
            "_view_module_version": "1.5.0",
            "_view_name": "HBoxView",
            "box_style": "",
            "children": [
              "IPY_MODEL_c2dd3dcfcb464df487f7e01b7fb70de2",
              "IPY_MODEL_5a34e000dbb14aeb8224909b8d60253a"
            ],
            "layout": "IPY_MODEL_6dc91ccb1f2d4a78ab74c0205d83ce01"
          }
        },
        "7a929a42d6d14e95a420d4a96fbf5afc": {
          "model_module": "@jupyter-widgets/controls",
          "model_name": "LabelModel",
          "model_module_version": "1.5.0",
          "state": {
            "_dom_classes": [],
            "_model_module": "@jupyter-widgets/controls",
            "_model_module_version": "1.5.0",
            "_model_name": "LabelModel",
            "_view_count": null,
            "_view_module": "@jupyter-widgets/controls",
            "_view_module_version": "1.5.0",
            "_view_name": "LabelView",
            "description": "",
            "description_tooltip": null,
            "layout": "IPY_MODEL_047f9a4332a54b198e068e2cf164cb37",
            "placeholder": "​",
            "style": "IPY_MODEL_681ae971ab1941ff98de1da01a02b121",
            "value": "Thanks for your feedback!"
          }
        },
        "efc809bd93814053897669724685387f": {
          "model_module": "@jupyter-widgets/base",
          "model_name": "LayoutModel",
          "model_module_version": "1.2.0",
          "state": {
            "_model_module": "@jupyter-widgets/base",
            "_model_module_version": "1.2.0",
            "_model_name": "LayoutModel",
            "_view_count": null,
            "_view_module": "@jupyter-widgets/base",
            "_view_module_version": "1.2.0",
            "_view_name": "LayoutView",
            "align_content": null,
            "align_items": null,
            "align_self": null,
            "border": null,
            "bottom": null,
            "display": null,
            "flex": null,
            "flex_flow": null,
            "grid_area": null,
            "grid_auto_columns": null,
            "grid_auto_flow": null,
            "grid_auto_rows": null,
            "grid_column": null,
            "grid_gap": null,
            "grid_row": null,
            "grid_template_areas": null,
            "grid_template_columns": null,
            "grid_template_rows": null,
            "height": null,
            "justify_content": null,
            "justify_items": null,
            "left": null,
            "margin": null,
            "max_height": null,
            "max_width": null,
            "min_height": null,
            "min_width": null,
            "object_fit": null,
            "object_position": null,
            "order": null,
            "overflow": null,
            "overflow_x": null,
            "overflow_y": null,
            "padding": null,
            "right": null,
            "top": null,
            "visibility": null,
            "width": null
          }
        },
        "20ba062de4f44f5aa17c163dc9fd5ea0": {
          "model_module": "@jupyter-widgets/controls",
          "model_name": "ButtonModel",
          "model_module_version": "1.5.0",
          "state": {
            "_dom_classes": [
              "happy"
            ],
            "_model_module": "@jupyter-widgets/controls",
            "_model_module_version": "1.5.0",
            "_model_name": "ButtonModel",
            "_view_count": null,
            "_view_module": "@jupyter-widgets/controls",
            "_view_module_version": "1.5.0",
            "_view_name": "ButtonView",
            "button_style": "",
            "description": "🙂",
            "disabled": false,
            "icon": "",
            "layout": "IPY_MODEL_83e0c8b4e738449eaadda2c6df253a53",
            "style": "IPY_MODEL_6483bc76fa78404aba105c45927ded28",
            "tooltip": "happy"
          }
        },
        "0b8c4d3aeb2e45499211c8e8537549fb": {
          "model_module": "@jupyter-widgets/controls",
          "model_name": "ButtonModel",
          "model_module_version": "1.5.0",
          "state": {
            "_dom_classes": [
              "medium"
            ],
            "_model_module": "@jupyter-widgets/controls",
            "_model_module_version": "1.5.0",
            "_model_name": "ButtonModel",
            "_view_count": null,
            "_view_module": "@jupyter-widgets/controls",
            "_view_module_version": "1.5.0",
            "_view_name": "ButtonView",
            "button_style": "",
            "description": "😐",
            "disabled": false,
            "icon": "",
            "layout": "IPY_MODEL_679db539c7e54d48b2b4750058b4461c",
            "style": "IPY_MODEL_03e3202dceb643a9b576e311c30dcaeb",
            "tooltip": "medium"
          }
        },
        "4a932d22bf614a7ca0094b93a52e69e0": {
          "model_module": "@jupyter-widgets/controls",
          "model_name": "ButtonModel",
          "model_module_version": "1.5.0",
          "state": {
            "_dom_classes": [
              "sad"
            ],
            "_model_module": "@jupyter-widgets/controls",
            "_model_module_version": "1.5.0",
            "_model_name": "ButtonModel",
            "_view_count": null,
            "_view_module": "@jupyter-widgets/controls",
            "_view_module_version": "1.5.0",
            "_view_name": "ButtonView",
            "button_style": "",
            "description": "🙁",
            "disabled": false,
            "icon": "",
            "layout": "IPY_MODEL_6020243e437d4688a322102d53feb379",
            "style": "IPY_MODEL_927da52a760646d0a8d602306cc6d3b2",
            "tooltip": "sad"
          }
        },
        "16c0bddffede4cccad62bb5dbc26009a": {
          "model_module": "@jupyter-widgets/base",
          "model_name": "LayoutModel",
          "model_module_version": "1.2.0",
          "state": {
            "_model_module": "@jupyter-widgets/base",
            "_model_module_version": "1.2.0",
            "_model_name": "LayoutModel",
            "_view_count": null,
            "_view_module": "@jupyter-widgets/base",
            "_view_module_version": "1.2.0",
            "_view_name": "LayoutView",
            "align_content": null,
            "align_items": null,
            "align_self": null,
            "border": null,
            "bottom": null,
            "display": null,
            "flex": null,
            "flex_flow": null,
            "grid_area": null,
            "grid_auto_columns": null,
            "grid_auto_flow": null,
            "grid_auto_rows": null,
            "grid_column": null,
            "grid_gap": null,
            "grid_row": null,
            "grid_template_areas": null,
            "grid_template_columns": null,
            "grid_template_rows": null,
            "height": null,
            "justify_content": null,
            "justify_items": null,
            "left": null,
            "margin": null,
            "max_height": null,
            "max_width": null,
            "min_height": null,
            "min_width": null,
            "object_fit": null,
            "object_position": null,
            "order": null,
            "overflow": null,
            "overflow_x": null,
            "overflow_y": null,
            "padding": null,
            "right": null,
            "top": null,
            "visibility": null,
            "width": null
          }
        },
        "c2dd3dcfcb464df487f7e01b7fb70de2": {
          "model_module": "@jupyter-widgets/controls",
          "model_name": "TextareaModel",
          "model_module_version": "1.5.0",
          "state": {
            "_dom_classes": [],
            "_model_module": "@jupyter-widgets/controls",
            "_model_module_version": "1.5.0",
            "_model_name": "TextareaModel",
            "_view_count": null,
            "_view_module": "@jupyter-widgets/controls",
            "_view_module_version": "1.5.0",
            "_view_name": "TextareaView",
            "continuous_update": true,
            "description": "",
            "description_tooltip": null,
            "disabled": false,
            "layout": "IPY_MODEL_e5457d3ccbf04a5182ebb762d446a78c",
            "placeholder": "We want your feedback!",
            "rows": null,
            "style": "IPY_MODEL_5af6938d6bb64106a736c0b6923d757f",
            "value": ""
          }
        },
        "5a34e000dbb14aeb8224909b8d60253a": {
          "model_module": "@jupyter-widgets/controls",
          "model_name": "ButtonModel",
          "model_module_version": "1.5.0",
          "state": {
            "_dom_classes": [],
            "_model_module": "@jupyter-widgets/controls",
            "_model_module_version": "1.5.0",
            "_model_name": "ButtonModel",
            "_view_count": null,
            "_view_module": "@jupyter-widgets/controls",
            "_view_module_version": "1.5.0",
            "_view_name": "ButtonView",
            "button_style": "",
            "description": "Submit",
            "disabled": false,
            "icon": "",
            "layout": "IPY_MODEL_f25c132eae4f41d6994c08d6d2076910",
            "style": "IPY_MODEL_f14e471d01614e99bdd63788936a0645",
            "tooltip": ""
          }
        },
        "6dc91ccb1f2d4a78ab74c0205d83ce01": {
          "model_module": "@jupyter-widgets/base",
          "model_name": "LayoutModel",
          "model_module_version": "1.2.0",
          "state": {
            "_model_module": "@jupyter-widgets/base",
            "_model_module_version": "1.2.0",
            "_model_name": "LayoutModel",
            "_view_count": null,
            "_view_module": "@jupyter-widgets/base",
            "_view_module_version": "1.2.0",
            "_view_name": "LayoutView",
            "align_content": null,
            "align_items": null,
            "align_self": null,
            "border": null,
            "bottom": null,
            "display": "none",
            "flex": null,
            "flex_flow": null,
            "grid_area": null,
            "grid_auto_columns": null,
            "grid_auto_flow": null,
            "grid_auto_rows": null,
            "grid_column": null,
            "grid_gap": null,
            "grid_row": null,
            "grid_template_areas": null,
            "grid_template_columns": null,
            "grid_template_rows": null,
            "height": null,
            "justify_content": null,
            "justify_items": null,
            "left": null,
            "margin": null,
            "max_height": null,
            "max_width": null,
            "min_height": null,
            "min_width": null,
            "object_fit": null,
            "object_position": null,
            "order": null,
            "overflow": null,
            "overflow_x": null,
            "overflow_y": null,
            "padding": null,
            "right": null,
            "top": null,
            "visibility": null,
            "width": null
          }
        },
        "047f9a4332a54b198e068e2cf164cb37": {
          "model_module": "@jupyter-widgets/base",
          "model_name": "LayoutModel",
          "model_module_version": "1.2.0",
          "state": {
            "_model_module": "@jupyter-widgets/base",
            "_model_module_version": "1.2.0",
            "_model_name": "LayoutModel",
            "_view_count": null,
            "_view_module": "@jupyter-widgets/base",
            "_view_module_version": "1.2.0",
            "_view_name": "LayoutView",
            "align_content": null,
            "align_items": null,
            "align_self": null,
            "border": null,
            "bottom": null,
            "display": "none",
            "flex": null,
            "flex_flow": null,
            "grid_area": null,
            "grid_auto_columns": null,
            "grid_auto_flow": null,
            "grid_auto_rows": null,
            "grid_column": null,
            "grid_gap": null,
            "grid_row": null,
            "grid_template_areas": null,
            "grid_template_columns": null,
            "grid_template_rows": null,
            "height": null,
            "justify_content": null,
            "justify_items": null,
            "left": null,
            "margin": null,
            "max_height": null,
            "max_width": null,
            "min_height": null,
            "min_width": null,
            "object_fit": null,
            "object_position": null,
            "order": null,
            "overflow": null,
            "overflow_x": null,
            "overflow_y": null,
            "padding": null,
            "right": null,
            "top": null,
            "visibility": null,
            "width": null
          }
        },
        "681ae971ab1941ff98de1da01a02b121": {
          "model_module": "@jupyter-widgets/controls",
          "model_name": "DescriptionStyleModel",
          "model_module_version": "1.5.0",
          "state": {
            "_model_module": "@jupyter-widgets/controls",
            "_model_module_version": "1.5.0",
            "_model_name": "DescriptionStyleModel",
            "_view_count": null,
            "_view_module": "@jupyter-widgets/base",
            "_view_module_version": "1.2.0",
            "_view_name": "StyleView",
            "description_width": ""
          }
        },
        "83e0c8b4e738449eaadda2c6df253a53": {
          "model_module": "@jupyter-widgets/base",
          "model_name": "LayoutModel",
          "model_module_version": "1.2.0",
          "state": {
            "_model_module": "@jupyter-widgets/base",
            "_model_module_version": "1.2.0",
            "_model_name": "LayoutModel",
            "_view_count": null,
            "_view_module": "@jupyter-widgets/base",
            "_view_module_version": "1.2.0",
            "_view_name": "LayoutView",
            "align_content": null,
            "align_items": null,
            "align_self": null,
            "border": null,
            "bottom": null,
            "display": null,
            "flex": null,
            "flex_flow": null,
            "grid_area": null,
            "grid_auto_columns": null,
            "grid_auto_flow": null,
            "grid_auto_rows": null,
            "grid_column": null,
            "grid_gap": null,
            "grid_row": null,
            "grid_template_areas": null,
            "grid_template_columns": null,
            "grid_template_rows": null,
            "height": "auto",
            "justify_content": null,
            "justify_items": null,
            "left": null,
            "margin": null,
            "max_height": null,
            "max_width": null,
            "min_height": null,
            "min_width": null,
            "object_fit": null,
            "object_position": null,
            "order": null,
            "overflow": null,
            "overflow_x": null,
            "overflow_y": null,
            "padding": "0.5em",
            "right": null,
            "top": null,
            "visibility": null,
            "width": "auto"
          }
        },
        "6483bc76fa78404aba105c45927ded28": {
          "model_module": "@jupyter-widgets/controls",
          "model_name": "ButtonStyleModel",
          "model_module_version": "1.5.0",
          "state": {
            "_model_module": "@jupyter-widgets/controls",
            "_model_module_version": "1.5.0",
            "_model_name": "ButtonStyleModel",
            "_view_count": null,
            "_view_module": "@jupyter-widgets/base",
            "_view_module_version": "1.2.0",
            "_view_name": "StyleView",
            "button_color": "#aaffaa",
            "font_weight": ""
          }
        },
        "679db539c7e54d48b2b4750058b4461c": {
          "model_module": "@jupyter-widgets/base",
          "model_name": "LayoutModel",
          "model_module_version": "1.2.0",
          "state": {
            "_model_module": "@jupyter-widgets/base",
            "_model_module_version": "1.2.0",
            "_model_name": "LayoutModel",
            "_view_count": null,
            "_view_module": "@jupyter-widgets/base",
            "_view_module_version": "1.2.0",
            "_view_name": "LayoutView",
            "align_content": null,
            "align_items": null,
            "align_self": null,
            "border": null,
            "bottom": null,
            "display": null,
            "flex": null,
            "flex_flow": null,
            "grid_area": null,
            "grid_auto_columns": null,
            "grid_auto_flow": null,
            "grid_auto_rows": null,
            "grid_column": null,
            "grid_gap": null,
            "grid_row": null,
            "grid_template_areas": null,
            "grid_template_columns": null,
            "grid_template_rows": null,
            "height": "auto",
            "justify_content": null,
            "justify_items": null,
            "left": null,
            "margin": null,
            "max_height": null,
            "max_width": null,
            "min_height": null,
            "min_width": null,
            "object_fit": null,
            "object_position": null,
            "order": null,
            "overflow": null,
            "overflow_x": null,
            "overflow_y": null,
            "padding": "0.5em",
            "right": null,
            "top": null,
            "visibility": null,
            "width": "auto"
          }
        },
        "03e3202dceb643a9b576e311c30dcaeb": {
          "model_module": "@jupyter-widgets/controls",
          "model_name": "ButtonStyleModel",
          "model_module_version": "1.5.0",
          "state": {
            "_model_module": "@jupyter-widgets/controls",
            "_model_module_version": "1.5.0",
            "_model_name": "ButtonStyleModel",
            "_view_count": null,
            "_view_module": "@jupyter-widgets/base",
            "_view_module_version": "1.2.0",
            "_view_name": "StyleView",
            "button_color": "#dddd77",
            "font_weight": ""
          }
        },
        "6020243e437d4688a322102d53feb379": {
          "model_module": "@jupyter-widgets/base",
          "model_name": "LayoutModel",
          "model_module_version": "1.2.0",
          "state": {
            "_model_module": "@jupyter-widgets/base",
            "_model_module_version": "1.2.0",
            "_model_name": "LayoutModel",
            "_view_count": null,
            "_view_module": "@jupyter-widgets/base",
            "_view_module_version": "1.2.0",
            "_view_name": "LayoutView",
            "align_content": null,
            "align_items": null,
            "align_self": null,
            "border": null,
            "bottom": null,
            "display": null,
            "flex": null,
            "flex_flow": null,
            "grid_area": null,
            "grid_auto_columns": null,
            "grid_auto_flow": null,
            "grid_auto_rows": null,
            "grid_column": null,
            "grid_gap": null,
            "grid_row": null,
            "grid_template_areas": null,
            "grid_template_columns": null,
            "grid_template_rows": null,
            "height": "auto",
            "justify_content": null,
            "justify_items": null,
            "left": null,
            "margin": null,
            "max_height": null,
            "max_width": null,
            "min_height": null,
            "min_width": null,
            "object_fit": null,
            "object_position": null,
            "order": null,
            "overflow": null,
            "overflow_x": null,
            "overflow_y": null,
            "padding": "0.5em",
            "right": null,
            "top": null,
            "visibility": null,
            "width": "auto"
          }
        },
        "927da52a760646d0a8d602306cc6d3b2": {
          "model_module": "@jupyter-widgets/controls",
          "model_name": "ButtonStyleModel",
          "model_module_version": "1.5.0",
          "state": {
            "_model_module": "@jupyter-widgets/controls",
            "_model_module_version": "1.5.0",
            "_model_name": "ButtonStyleModel",
            "_view_count": null,
            "_view_module": "@jupyter-widgets/base",
            "_view_module_version": "1.2.0",
            "_view_name": "StyleView",
            "button_color": "#ffaaaa",
            "font_weight": ""
          }
        },
        "e5457d3ccbf04a5182ebb762d446a78c": {
          "model_module": "@jupyter-widgets/base",
          "model_name": "LayoutModel",
          "model_module_version": "1.2.0",
          "state": {
            "_model_module": "@jupyter-widgets/base",
            "_model_module_version": "1.2.0",
            "_model_name": "LayoutModel",
            "_view_count": null,
            "_view_module": "@jupyter-widgets/base",
            "_view_module_version": "1.2.0",
            "_view_name": "LayoutView",
            "align_content": null,
            "align_items": null,
            "align_self": null,
            "border": null,
            "bottom": null,
            "display": null,
            "flex": null,
            "flex_flow": null,
            "grid_area": null,
            "grid_auto_columns": null,
            "grid_auto_flow": null,
            "grid_auto_rows": null,
            "grid_column": null,
            "grid_gap": null,
            "grid_row": null,
            "grid_template_areas": null,
            "grid_template_columns": null,
            "grid_template_rows": null,
            "height": "auto",
            "justify_content": null,
            "justify_items": null,
            "left": null,
            "margin": null,
            "max_height": null,
            "max_width": null,
            "min_height": null,
            "min_width": null,
            "object_fit": null,
            "object_position": null,
            "order": null,
            "overflow": null,
            "overflow_x": null,
            "overflow_y": null,
            "padding": null,
            "right": null,
            "top": null,
            "visibility": null,
            "width": "auto"
          }
        },
        "5af6938d6bb64106a736c0b6923d757f": {
          "model_module": "@jupyter-widgets/controls",
          "model_name": "DescriptionStyleModel",
          "model_module_version": "1.5.0",
          "state": {
            "_model_module": "@jupyter-widgets/controls",
            "_model_module_version": "1.5.0",
            "_model_name": "DescriptionStyleModel",
            "_view_count": null,
            "_view_module": "@jupyter-widgets/base",
            "_view_module_version": "1.2.0",
            "_view_name": "StyleView",
            "description_width": ""
          }
        },
        "f25c132eae4f41d6994c08d6d2076910": {
          "model_module": "@jupyter-widgets/base",
          "model_name": "LayoutModel",
          "model_module_version": "1.2.0",
          "state": {
            "_model_module": "@jupyter-widgets/base",
            "_model_module_version": "1.2.0",
            "_model_name": "LayoutModel",
            "_view_count": null,
            "_view_module": "@jupyter-widgets/base",
            "_view_module_version": "1.2.0",
            "_view_name": "LayoutView",
            "align_content": null,
            "align_items": null,
            "align_self": null,
            "border": null,
            "bottom": null,
            "display": null,
            "flex": null,
            "flex_flow": null,
            "grid_area": null,
            "grid_auto_columns": null,
            "grid_auto_flow": null,
            "grid_auto_rows": null,
            "grid_column": null,
            "grid_gap": null,
            "grid_row": null,
            "grid_template_areas": null,
            "grid_template_columns": null,
            "grid_template_rows": null,
            "height": "auto",
            "justify_content": null,
            "justify_items": null,
            "left": null,
            "margin": null,
            "max_height": null,
            "max_width": null,
            "min_height": null,
            "min_width": null,
            "object_fit": null,
            "object_position": null,
            "order": null,
            "overflow": null,
            "overflow_x": null,
            "overflow_y": null,
            "padding": null,
            "right": null,
            "top": null,
            "visibility": null,
            "width": "auto"
          }
        },
        "f14e471d01614e99bdd63788936a0645": {
          "model_module": "@jupyter-widgets/controls",
          "model_name": "ButtonStyleModel",
          "model_module_version": "1.5.0",
          "state": {
            "_model_module": "@jupyter-widgets/controls",
            "_model_module_version": "1.5.0",
            "_model_name": "ButtonStyleModel",
            "_view_count": null,
            "_view_module": "@jupyter-widgets/base",
            "_view_module_version": "1.2.0",
            "_view_name": "StyleView",
            "button_color": null,
            "font_weight": ""
          }
        },
        "8ae0b10ab4d94d2e85504f6e86e7b06c": {
          "model_module": "@jupyter-widgets/controls",
          "model_name": "VBoxModel",
          "model_module_version": "1.5.0",
          "state": {
            "_dom_classes": [
              "widget-interact"
            ],
            "_model_module": "@jupyter-widgets/controls",
            "_model_module_version": "1.5.0",
            "_model_name": "VBoxModel",
            "_view_count": null,
            "_view_module": "@jupyter-widgets/controls",
            "_view_module_version": "1.5.0",
            "_view_name": "VBoxView",
            "box_style": "",
            "children": [
              "IPY_MODEL_92d9356390624a9ca0464132ca27eac8",
              "IPY_MODEL_60638695d412497da3b82b36948a9005",
              "IPY_MODEL_18f9e2ecbd7b406285d835a98835a9fb"
            ],
            "layout": "IPY_MODEL_5db5c7aa098a450685ce5dde7f7d87ff"
          }
        },
        "92d9356390624a9ca0464132ca27eac8": {
          "model_module": "@jupyter-widgets/controls",
          "model_name": "FloatSliderModel",
          "model_module_version": "1.5.0",
          "state": {
            "_dom_classes": [],
            "_model_module": "@jupyter-widgets/controls",
            "_model_module_version": "1.5.0",
            "_model_name": "FloatSliderModel",
            "_view_count": null,
            "_view_module": "@jupyter-widgets/controls",
            "_view_module_version": "1.5.0",
            "_view_name": "FloatSliderView",
            "continuous_update": true,
            "description": "mu",
            "description_tooltip": null,
            "disabled": false,
            "layout": "IPY_MODEL_9c9cfac909bb4482b5c6ce431ab84c2a",
            "max": 2,
            "min": -2,
            "orientation": "horizontal",
            "readout": true,
            "readout_format": ".2f",
            "step": 0.1,
            "style": "IPY_MODEL_0536e65ee31e4c2482fd09b7fc7166e9",
            "value": 0
          }
        },
        "60638695d412497da3b82b36948a9005": {
          "model_module": "@jupyter-widgets/controls",
          "model_name": "FloatSliderModel",
          "model_module_version": "1.5.0",
          "state": {
            "_dom_classes": [],
            "_model_module": "@jupyter-widgets/controls",
            "_model_module_version": "1.5.0",
            "_model_name": "FloatSliderModel",
            "_view_count": null,
            "_view_module": "@jupyter-widgets/controls",
            "_view_module_version": "1.5.0",
            "_view_name": "FloatSliderView",
            "continuous_update": true,
            "description": "sigma",
            "description_tooltip": null,
            "disabled": false,
            "layout": "IPY_MODEL_43da234474544d108a48f7a8cef86b29",
            "max": 2,
            "min": 0.5,
            "orientation": "horizontal",
            "readout": true,
            "readout_format": ".2f",
            "step": 0.1,
            "style": "IPY_MODEL_084618e4ab864ed9bbfa1a3d82a8c0e2",
            "value": 1
          }
        },
        "18f9e2ecbd7b406285d835a98835a9fb": {
          "model_module": "@jupyter-widgets/output",
          "model_name": "OutputModel",
          "model_module_version": "1.0.0",
          "state": {
            "_dom_classes": [],
            "_model_module": "@jupyter-widgets/output",
            "_model_module_version": "1.0.0",
            "_model_name": "OutputModel",
            "_view_count": null,
            "_view_module": "@jupyter-widgets/output",
            "_view_module_version": "1.0.0",
            "_view_name": "OutputView",
            "layout": "IPY_MODEL_a81c42aeb9044c6aad0eb4eb8be4398d",
            "msg_id": "",
            "outputs": [
              {
                "output_type": "display_data",
                "data": {
                  "text/plain": "<Figure size 800x600 with 1 Axes>",
                  "image/png": "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\n"
                },
                "metadata": {
                  "image/png": {
                    "width": 775,
                    "height": 575
                  }
                }
              }
            ]
          }
        },
        "5db5c7aa098a450685ce5dde7f7d87ff": {
          "model_module": "@jupyter-widgets/base",
          "model_name": "LayoutModel",
          "model_module_version": "1.2.0",
          "state": {
            "_model_module": "@jupyter-widgets/base",
            "_model_module_version": "1.2.0",
            "_model_name": "LayoutModel",
            "_view_count": null,
            "_view_module": "@jupyter-widgets/base",
            "_view_module_version": "1.2.0",
            "_view_name": "LayoutView",
            "align_content": null,
            "align_items": null,
            "align_self": null,
            "border": null,
            "bottom": null,
            "display": null,
            "flex": null,
            "flex_flow": null,
            "grid_area": null,
            "grid_auto_columns": null,
            "grid_auto_flow": null,
            "grid_auto_rows": null,
            "grid_column": null,
            "grid_gap": null,
            "grid_row": null,
            "grid_template_areas": null,
            "grid_template_columns": null,
            "grid_template_rows": null,
            "height": null,
            "justify_content": null,
            "justify_items": null,
            "left": null,
            "margin": null,
            "max_height": null,
            "max_width": null,
            "min_height": null,
            "min_width": null,
            "object_fit": null,
            "object_position": null,
            "order": null,
            "overflow": null,
            "overflow_x": null,
            "overflow_y": null,
            "padding": null,
            "right": null,
            "top": null,
            "visibility": null,
            "width": null
          }
        },
        "9c9cfac909bb4482b5c6ce431ab84c2a": {
          "model_module": "@jupyter-widgets/base",
          "model_name": "LayoutModel",
          "model_module_version": "1.2.0",
          "state": {
            "_model_module": "@jupyter-widgets/base",
            "_model_module_version": "1.2.0",
            "_model_name": "LayoutModel",
            "_view_count": null,
            "_view_module": "@jupyter-widgets/base",
            "_view_module_version": "1.2.0",
            "_view_name": "LayoutView",
            "align_content": null,
            "align_items": null,
            "align_self": null,
            "border": null,
            "bottom": null,
            "display": null,
            "flex": null,
            "flex_flow": null,
            "grid_area": null,
            "grid_auto_columns": null,
            "grid_auto_flow": null,
            "grid_auto_rows": null,
            "grid_column": null,
            "grid_gap": null,
            "grid_row": null,
            "grid_template_areas": null,
            "grid_template_columns": null,
            "grid_template_rows": null,
            "height": null,
            "justify_content": null,
            "justify_items": null,
            "left": null,
            "margin": null,
            "max_height": null,
            "max_width": null,
            "min_height": null,
            "min_width": null,
            "object_fit": null,
            "object_position": null,
            "order": null,
            "overflow": null,
            "overflow_x": null,
            "overflow_y": null,
            "padding": null,
            "right": null,
            "top": null,
            "visibility": null,
            "width": null
          }
        },
        "0536e65ee31e4c2482fd09b7fc7166e9": {
          "model_module": "@jupyter-widgets/controls",
          "model_name": "SliderStyleModel",
          "model_module_version": "1.5.0",
          "state": {
            "_model_module": "@jupyter-widgets/controls",
            "_model_module_version": "1.5.0",
            "_model_name": "SliderStyleModel",
            "_view_count": null,
            "_view_module": "@jupyter-widgets/base",
            "_view_module_version": "1.2.0",
            "_view_name": "StyleView",
            "description_width": "",
            "handle_color": null
          }
        },
        "43da234474544d108a48f7a8cef86b29": {
          "model_module": "@jupyter-widgets/base",
          "model_name": "LayoutModel",
          "model_module_version": "1.2.0",
          "state": {
            "_model_module": "@jupyter-widgets/base",
            "_model_module_version": "1.2.0",
            "_model_name": "LayoutModel",
            "_view_count": null,
            "_view_module": "@jupyter-widgets/base",
            "_view_module_version": "1.2.0",
            "_view_name": "LayoutView",
            "align_content": null,
            "align_items": null,
            "align_self": null,
            "border": null,
            "bottom": null,
            "display": null,
            "flex": null,
            "flex_flow": null,
            "grid_area": null,
            "grid_auto_columns": null,
            "grid_auto_flow": null,
            "grid_auto_rows": null,
            "grid_column": null,
            "grid_gap": null,
            "grid_row": null,
            "grid_template_areas": null,
            "grid_template_columns": null,
            "grid_template_rows": null,
            "height": null,
            "justify_content": null,
            "justify_items": null,
            "left": null,
            "margin": null,
            "max_height": null,
            "max_width": null,
            "min_height": null,
            "min_width": null,
            "object_fit": null,
            "object_position": null,
            "order": null,
            "overflow": null,
            "overflow_x": null,
            "overflow_y": null,
            "padding": null,
            "right": null,
            "top": null,
            "visibility": null,
            "width": null
          }
        },
        "084618e4ab864ed9bbfa1a3d82a8c0e2": {
          "model_module": "@jupyter-widgets/controls",
          "model_name": "SliderStyleModel",
          "model_module_version": "1.5.0",
          "state": {
            "_model_module": "@jupyter-widgets/controls",
            "_model_module_version": "1.5.0",
            "_model_name": "SliderStyleModel",
            "_view_count": null,
            "_view_module": "@jupyter-widgets/base",
            "_view_module_version": "1.2.0",
            "_view_name": "StyleView",
            "description_width": "",
            "handle_color": null
          }
        },
        "a81c42aeb9044c6aad0eb4eb8be4398d": {
          "model_module": "@jupyter-widgets/base",
          "model_name": "LayoutModel",
          "model_module_version": "1.2.0",
          "state": {
            "_model_module": "@jupyter-widgets/base",
            "_model_module_version": "1.2.0",
            "_model_name": "LayoutModel",
            "_view_count": null,
            "_view_module": "@jupyter-widgets/base",
            "_view_module_version": "1.2.0",
            "_view_name": "LayoutView",
            "align_content": null,
            "align_items": null,
            "align_self": null,
            "border": null,
            "bottom": null,
            "display": null,
            "flex": null,
            "flex_flow": null,
            "grid_area": null,
            "grid_auto_columns": null,
            "grid_auto_flow": null,
            "grid_auto_rows": null,
            "grid_column": null,
            "grid_gap": null,
            "grid_row": null,
            "grid_template_areas": null,
            "grid_template_columns": null,
            "grid_template_rows": null,
            "height": null,
            "justify_content": null,
            "justify_items": null,
            "left": null,
            "margin": null,
            "max_height": null,
            "max_width": null,
            "min_height": null,
            "min_width": null,
            "object_fit": null,
            "object_position": null,
            "order": null,
            "overflow": null,
            "overflow_x": null,
            "overflow_y": null,
            "padding": null,
            "right": null,
            "top": null,
            "visibility": null,
            "width": null
          }
        },
        "af0975db25ed4f8a9ddf1a2b5291bdbf": {
          "model_module": "@jupyter-widgets/controls",
          "model_name": "VBoxModel",
          "model_module_version": "1.5.0",
          "state": {
            "_dom_classes": [],
            "_model_module": "@jupyter-widgets/controls",
            "_model_module_version": "1.5.0",
            "_model_name": "VBoxModel",
            "_view_count": null,
            "_view_module": "@jupyter-widgets/controls",
            "_view_module_version": "1.5.0",
            "_view_name": "VBoxView",
            "box_style": "",
            "children": [
              "IPY_MODEL_3d74288139314d728c0b116e71871678"
            ],
            "layout": "IPY_MODEL_9569d718d36f461d93078dda98936e13"
          }
        },
        "3d74288139314d728c0b116e71871678": {
          "model_module": "@jupyter-widgets/controls",
          "model_name": "VBoxModel",
          "model_module_version": "1.5.0",
          "state": {
            "_dom_classes": [],
            "_model_module": "@jupyter-widgets/controls",
            "_model_module_version": "1.5.0",
            "_model_name": "VBoxModel",
            "_view_count": null,
            "_view_module": "@jupyter-widgets/controls",
            "_view_module_version": "1.5.0",
            "_view_name": "VBoxView",
            "box_style": "",
            "children": [
              "IPY_MODEL_486ef7a07acd4e7580cbd4c1213d5cc8",
              "IPY_MODEL_459fad2338e14b4280c6b77589303441",
              "IPY_MODEL_b40feaa2875d454888f847438e1085d6"
            ],
            "layout": "IPY_MODEL_2362b80427ed44a3bb1fb99f25332947"
          }
        },
        "9569d718d36f461d93078dda98936e13": {
          "model_module": "@jupyter-widgets/base",
          "model_name": "LayoutModel",
          "model_module_version": "1.2.0",
          "state": {
            "_model_module": "@jupyter-widgets/base",
            "_model_module_version": "1.2.0",
            "_model_name": "LayoutModel",
            "_view_count": null,
            "_view_module": "@jupyter-widgets/base",
            "_view_module_version": "1.2.0",
            "_view_name": "LayoutView",
            "align_content": null,
            "align_items": null,
            "align_self": null,
            "border": null,
            "bottom": null,
            "display": null,
            "flex": null,
            "flex_flow": null,
            "grid_area": null,
            "grid_auto_columns": null,
            "grid_auto_flow": null,
            "grid_auto_rows": null,
            "grid_column": null,
            "grid_gap": null,
            "grid_row": null,
            "grid_template_areas": null,
            "grid_template_columns": null,
            "grid_template_rows": null,
            "height": null,
            "justify_content": null,
            "justify_items": null,
            "left": null,
            "margin": null,
            "max_height": null,
            "max_width": null,
            "min_height": null,
            "min_width": null,
            "object_fit": null,
            "object_position": null,
            "order": null,
            "overflow": null,
            "overflow_x": null,
            "overflow_y": null,
            "padding": null,
            "right": null,
            "top": null,
            "visibility": null,
            "width": null
          }
        },
        "486ef7a07acd4e7580cbd4c1213d5cc8": {
          "model_module": "@jupyter-widgets/controls",
          "model_name": "HBoxModel",
          "model_module_version": "1.5.0",
          "state": {
            "_dom_classes": [],
            "_model_module": "@jupyter-widgets/controls",
            "_model_module_version": "1.5.0",
            "_model_name": "HBoxModel",
            "_view_count": null,
            "_view_module": "@jupyter-widgets/controls",
            "_view_module_version": "1.5.0",
            "_view_name": "HBoxView",
            "box_style": "",
            "children": [
              "IPY_MODEL_b3ef3a74d6814e81a257d23934392983",
              "IPY_MODEL_f1c5fa6c5c1b4783b2b6c927356f9f36",
              "IPY_MODEL_8cff0c3e2bc34469861a0480906b4239"
            ],
            "layout": "IPY_MODEL_99aa938bb213472e868aaf9efc87db99"
          }
        },
        "459fad2338e14b4280c6b77589303441": {
          "model_module": "@jupyter-widgets/controls",
          "model_name": "HBoxModel",
          "model_module_version": "1.5.0",
          "state": {
            "_dom_classes": [],
            "_model_module": "@jupyter-widgets/controls",
            "_model_module_version": "1.5.0",
            "_model_name": "HBoxModel",
            "_view_count": null,
            "_view_module": "@jupyter-widgets/controls",
            "_view_module_version": "1.5.0",
            "_view_name": "HBoxView",
            "box_style": "",
            "children": [
              "IPY_MODEL_788ba7e0b0e74c70a42980f9131ec775",
              "IPY_MODEL_df751d901fe74395aab07bf15c3809f6"
            ],
            "layout": "IPY_MODEL_9f72d6d4747249b9918c23c083767e9d"
          }
        },
        "b40feaa2875d454888f847438e1085d6": {
          "model_module": "@jupyter-widgets/controls",
          "model_name": "LabelModel",
          "model_module_version": "1.5.0",
          "state": {
            "_dom_classes": [],
            "_model_module": "@jupyter-widgets/controls",
            "_model_module_version": "1.5.0",
            "_model_name": "LabelModel",
            "_view_count": null,
            "_view_module": "@jupyter-widgets/controls",
            "_view_module_version": "1.5.0",
            "_view_name": "LabelView",
            "description": "",
            "description_tooltip": null,
            "layout": "IPY_MODEL_3a43132c38cd441ca15b7630e0715eba",
            "placeholder": "​",
            "style": "IPY_MODEL_03353266381e44fb979d097598e1ab03",
            "value": "Thanks for your feedback!"
          }
        },
        "2362b80427ed44a3bb1fb99f25332947": {
          "model_module": "@jupyter-widgets/base",
          "model_name": "LayoutModel",
          "model_module_version": "1.2.0",
          "state": {
            "_model_module": "@jupyter-widgets/base",
            "_model_module_version": "1.2.0",
            "_model_name": "LayoutModel",
            "_view_count": null,
            "_view_module": "@jupyter-widgets/base",
            "_view_module_version": "1.2.0",
            "_view_name": "LayoutView",
            "align_content": null,
            "align_items": null,
            "align_self": null,
            "border": null,
            "bottom": null,
            "display": null,
            "flex": null,
            "flex_flow": null,
            "grid_area": null,
            "grid_auto_columns": null,
            "grid_auto_flow": null,
            "grid_auto_rows": null,
            "grid_column": null,
            "grid_gap": null,
            "grid_row": null,
            "grid_template_areas": null,
            "grid_template_columns": null,
            "grid_template_rows": null,
            "height": null,
            "justify_content": null,
            "justify_items": null,
            "left": null,
            "margin": null,
            "max_height": null,
            "max_width": null,
            "min_height": null,
            "min_width": null,
            "object_fit": null,
            "object_position": null,
            "order": null,
            "overflow": null,
            "overflow_x": null,
            "overflow_y": null,
            "padding": null,
            "right": null,
            "top": null,
            "visibility": null,
            "width": null
          }
        },
        "b3ef3a74d6814e81a257d23934392983": {
          "model_module": "@jupyter-widgets/controls",
          "model_name": "ButtonModel",
          "model_module_version": "1.5.0",
          "state": {
            "_dom_classes": [
              "happy"
            ],
            "_model_module": "@jupyter-widgets/controls",
            "_model_module_version": "1.5.0",
            "_model_name": "ButtonModel",
            "_view_count": null,
            "_view_module": "@jupyter-widgets/controls",
            "_view_module_version": "1.5.0",
            "_view_name": "ButtonView",
            "button_style": "",
            "description": "🙂",
            "disabled": false,
            "icon": "",
            "layout": "IPY_MODEL_0eb42662da424e74a0a82fcd0b3f81fa",
            "style": "IPY_MODEL_4c8cf5ec49a746e69b0a45f057c35de4",
            "tooltip": "happy"
          }
        },
        "f1c5fa6c5c1b4783b2b6c927356f9f36": {
          "model_module": "@jupyter-widgets/controls",
          "model_name": "ButtonModel",
          "model_module_version": "1.5.0",
          "state": {
            "_dom_classes": [
              "medium"
            ],
            "_model_module": "@jupyter-widgets/controls",
            "_model_module_version": "1.5.0",
            "_model_name": "ButtonModel",
            "_view_count": null,
            "_view_module": "@jupyter-widgets/controls",
            "_view_module_version": "1.5.0",
            "_view_name": "ButtonView",
            "button_style": "",
            "description": "😐",
            "disabled": false,
            "icon": "",
            "layout": "IPY_MODEL_37d128b1d1d747f6a733672f2c18a32e",
            "style": "IPY_MODEL_136bed4e59e74a119e40ba943083a50b",
            "tooltip": "medium"
          }
        },
        "8cff0c3e2bc34469861a0480906b4239": {
          "model_module": "@jupyter-widgets/controls",
          "model_name": "ButtonModel",
          "model_module_version": "1.5.0",
          "state": {
            "_dom_classes": [
              "sad"
            ],
            "_model_module": "@jupyter-widgets/controls",
            "_model_module_version": "1.5.0",
            "_model_name": "ButtonModel",
            "_view_count": null,
            "_view_module": "@jupyter-widgets/controls",
            "_view_module_version": "1.5.0",
            "_view_name": "ButtonView",
            "button_style": "",
            "description": "🙁",
            "disabled": false,
            "icon": "",
            "layout": "IPY_MODEL_df5e26a396134c0da705313a077dc7ec",
            "style": "IPY_MODEL_9bea9ed524e147b0b4e5cb8a13b1d3c9",
            "tooltip": "sad"
          }
        },
        "99aa938bb213472e868aaf9efc87db99": {
          "model_module": "@jupyter-widgets/base",
          "model_name": "LayoutModel",
          "model_module_version": "1.2.0",
          "state": {
            "_model_module": "@jupyter-widgets/base",
            "_model_module_version": "1.2.0",
            "_model_name": "LayoutModel",
            "_view_count": null,
            "_view_module": "@jupyter-widgets/base",
            "_view_module_version": "1.2.0",
            "_view_name": "LayoutView",
            "align_content": null,
            "align_items": null,
            "align_self": null,
            "border": null,
            "bottom": null,
            "display": null,
            "flex": null,
            "flex_flow": null,
            "grid_area": null,
            "grid_auto_columns": null,
            "grid_auto_flow": null,
            "grid_auto_rows": null,
            "grid_column": null,
            "grid_gap": null,
            "grid_row": null,
            "grid_template_areas": null,
            "grid_template_columns": null,
            "grid_template_rows": null,
            "height": null,
            "justify_content": null,
            "justify_items": null,
            "left": null,
            "margin": null,
            "max_height": null,
            "max_width": null,
            "min_height": null,
            "min_width": null,
            "object_fit": null,
            "object_position": null,
            "order": null,
            "overflow": null,
            "overflow_x": null,
            "overflow_y": null,
            "padding": null,
            "right": null,
            "top": null,
            "visibility": null,
            "width": null
          }
        },
        "788ba7e0b0e74c70a42980f9131ec775": {
          "model_module": "@jupyter-widgets/controls",
          "model_name": "TextareaModel",
          "model_module_version": "1.5.0",
          "state": {
            "_dom_classes": [],
            "_model_module": "@jupyter-widgets/controls",
            "_model_module_version": "1.5.0",
            "_model_name": "TextareaModel",
            "_view_count": null,
            "_view_module": "@jupyter-widgets/controls",
            "_view_module_version": "1.5.0",
            "_view_name": "TextareaView",
            "continuous_update": true,
            "description": "",
            "description_tooltip": null,
            "disabled": false,
            "layout": "IPY_MODEL_46fd8a9a7dee4e3bbf3b885416585e2b",
            "placeholder": "We want your feedback!",
            "rows": null,
            "style": "IPY_MODEL_442172e23d4945ad8669e9d7ecfafaed",
            "value": ""
          }
        },
        "df751d901fe74395aab07bf15c3809f6": {
          "model_module": "@jupyter-widgets/controls",
          "model_name": "ButtonModel",
          "model_module_version": "1.5.0",
          "state": {
            "_dom_classes": [],
            "_model_module": "@jupyter-widgets/controls",
            "_model_module_version": "1.5.0",
            "_model_name": "ButtonModel",
            "_view_count": null,
            "_view_module": "@jupyter-widgets/controls",
            "_view_module_version": "1.5.0",
            "_view_name": "ButtonView",
            "button_style": "",
            "description": "Submit",
            "disabled": false,
            "icon": "",
            "layout": "IPY_MODEL_f6e635344fb947239775dcf6139ae786",
            "style": "IPY_MODEL_ee7bab9e38204373a2f9af09bdb29e40",
            "tooltip": ""
          }
        },
        "9f72d6d4747249b9918c23c083767e9d": {
          "model_module": "@jupyter-widgets/base",
          "model_name": "LayoutModel",
          "model_module_version": "1.2.0",
          "state": {
            "_model_module": "@jupyter-widgets/base",
            "_model_module_version": "1.2.0",
            "_model_name": "LayoutModel",
            "_view_count": null,
            "_view_module": "@jupyter-widgets/base",
            "_view_module_version": "1.2.0",
            "_view_name": "LayoutView",
            "align_content": null,
            "align_items": null,
            "align_self": null,
            "border": null,
            "bottom": null,
            "display": "none",
            "flex": null,
            "flex_flow": null,
            "grid_area": null,
            "grid_auto_columns": null,
            "grid_auto_flow": null,
            "grid_auto_rows": null,
            "grid_column": null,
            "grid_gap": null,
            "grid_row": null,
            "grid_template_areas": null,
            "grid_template_columns": null,
            "grid_template_rows": null,
            "height": null,
            "justify_content": null,
            "justify_items": null,
            "left": null,
            "margin": null,
            "max_height": null,
            "max_width": null,
            "min_height": null,
            "min_width": null,
            "object_fit": null,
            "object_position": null,
            "order": null,
            "overflow": null,
            "overflow_x": null,
            "overflow_y": null,
            "padding": null,
            "right": null,
            "top": null,
            "visibility": null,
            "width": null
          }
        },
        "3a43132c38cd441ca15b7630e0715eba": {
          "model_module": "@jupyter-widgets/base",
          "model_name": "LayoutModel",
          "model_module_version": "1.2.0",
          "state": {
            "_model_module": "@jupyter-widgets/base",
            "_model_module_version": "1.2.0",
            "_model_name": "LayoutModel",
            "_view_count": null,
            "_view_module": "@jupyter-widgets/base",
            "_view_module_version": "1.2.0",
            "_view_name": "LayoutView",
            "align_content": null,
            "align_items": null,
            "align_self": null,
            "border": null,
            "bottom": null,
            "display": "none",
            "flex": null,
            "flex_flow": null,
            "grid_area": null,
            "grid_auto_columns": null,
            "grid_auto_flow": null,
            "grid_auto_rows": null,
            "grid_column": null,
            "grid_gap": null,
            "grid_row": null,
            "grid_template_areas": null,
            "grid_template_columns": null,
            "grid_template_rows": null,
            "height": null,
            "justify_content": null,
            "justify_items": null,
            "left": null,
            "margin": null,
            "max_height": null,
            "max_width": null,
            "min_height": null,
            "min_width": null,
            "object_fit": null,
            "object_position": null,
            "order": null,
            "overflow": null,
            "overflow_x": null,
            "overflow_y": null,
            "padding": null,
            "right": null,
            "top": null,
            "visibility": null,
            "width": null
          }
        },
        "03353266381e44fb979d097598e1ab03": {
          "model_module": "@jupyter-widgets/controls",
          "model_name": "DescriptionStyleModel",
          "model_module_version": "1.5.0",
          "state": {
            "_model_module": "@jupyter-widgets/controls",
            "_model_module_version": "1.5.0",
            "_model_name": "DescriptionStyleModel",
            "_view_count": null,
            "_view_module": "@jupyter-widgets/base",
            "_view_module_version": "1.2.0",
            "_view_name": "StyleView",
            "description_width": ""
          }
        },
        "0eb42662da424e74a0a82fcd0b3f81fa": {
          "model_module": "@jupyter-widgets/base",
          "model_name": "LayoutModel",
          "model_module_version": "1.2.0",
          "state": {
            "_model_module": "@jupyter-widgets/base",
            "_model_module_version": "1.2.0",
            "_model_name": "LayoutModel",
            "_view_count": null,
            "_view_module": "@jupyter-widgets/base",
            "_view_module_version": "1.2.0",
            "_view_name": "LayoutView",
            "align_content": null,
            "align_items": null,
            "align_self": null,
            "border": null,
            "bottom": null,
            "display": null,
            "flex": null,
            "flex_flow": null,
            "grid_area": null,
            "grid_auto_columns": null,
            "grid_auto_flow": null,
            "grid_auto_rows": null,
            "grid_column": null,
            "grid_gap": null,
            "grid_row": null,
            "grid_template_areas": null,
            "grid_template_columns": null,
            "grid_template_rows": null,
            "height": "auto",
            "justify_content": null,
            "justify_items": null,
            "left": null,
            "margin": null,
            "max_height": null,
            "max_width": null,
            "min_height": null,
            "min_width": null,
            "object_fit": null,
            "object_position": null,
            "order": null,
            "overflow": null,
            "overflow_x": null,
            "overflow_y": null,
            "padding": "0.5em",
            "right": null,
            "top": null,
            "visibility": null,
            "width": "auto"
          }
        },
        "4c8cf5ec49a746e69b0a45f057c35de4": {
          "model_module": "@jupyter-widgets/controls",
          "model_name": "ButtonStyleModel",
          "model_module_version": "1.5.0",
          "state": {
            "_model_module": "@jupyter-widgets/controls",
            "_model_module_version": "1.5.0",
            "_model_name": "ButtonStyleModel",
            "_view_count": null,
            "_view_module": "@jupyter-widgets/base",
            "_view_module_version": "1.2.0",
            "_view_name": "StyleView",
            "button_color": "#aaffaa",
            "font_weight": ""
          }
        },
        "37d128b1d1d747f6a733672f2c18a32e": {
          "model_module": "@jupyter-widgets/base",
          "model_name": "LayoutModel",
          "model_module_version": "1.2.0",
          "state": {
            "_model_module": "@jupyter-widgets/base",
            "_model_module_version": "1.2.0",
            "_model_name": "LayoutModel",
            "_view_count": null,
            "_view_module": "@jupyter-widgets/base",
            "_view_module_version": "1.2.0",
            "_view_name": "LayoutView",
            "align_content": null,
            "align_items": null,
            "align_self": null,
            "border": null,
            "bottom": null,
            "display": null,
            "flex": null,
            "flex_flow": null,
            "grid_area": null,
            "grid_auto_columns": null,
            "grid_auto_flow": null,
            "grid_auto_rows": null,
            "grid_column": null,
            "grid_gap": null,
            "grid_row": null,
            "grid_template_areas": null,
            "grid_template_columns": null,
            "grid_template_rows": null,
            "height": "auto",
            "justify_content": null,
            "justify_items": null,
            "left": null,
            "margin": null,
            "max_height": null,
            "max_width": null,
            "min_height": null,
            "min_width": null,
            "object_fit": null,
            "object_position": null,
            "order": null,
            "overflow": null,
            "overflow_x": null,
            "overflow_y": null,
            "padding": "0.5em",
            "right": null,
            "top": null,
            "visibility": null,
            "width": "auto"
          }
        },
        "136bed4e59e74a119e40ba943083a50b": {
          "model_module": "@jupyter-widgets/controls",
          "model_name": "ButtonStyleModel",
          "model_module_version": "1.5.0",
          "state": {
            "_model_module": "@jupyter-widgets/controls",
            "_model_module_version": "1.5.0",
            "_model_name": "ButtonStyleModel",
            "_view_count": null,
            "_view_module": "@jupyter-widgets/base",
            "_view_module_version": "1.2.0",
            "_view_name": "StyleView",
            "button_color": "#dddd77",
            "font_weight": ""
          }
        },
        "df5e26a396134c0da705313a077dc7ec": {
          "model_module": "@jupyter-widgets/base",
          "model_name": "LayoutModel",
          "model_module_version": "1.2.0",
          "state": {
            "_model_module": "@jupyter-widgets/base",
            "_model_module_version": "1.2.0",
            "_model_name": "LayoutModel",
            "_view_count": null,
            "_view_module": "@jupyter-widgets/base",
            "_view_module_version": "1.2.0",
            "_view_name": "LayoutView",
            "align_content": null,
            "align_items": null,
            "align_self": null,
            "border": null,
            "bottom": null,
            "display": null,
            "flex": null,
            "flex_flow": null,
            "grid_area": null,
            "grid_auto_columns": null,
            "grid_auto_flow": null,
            "grid_auto_rows": null,
            "grid_column": null,
            "grid_gap": null,
            "grid_row": null,
            "grid_template_areas": null,
            "grid_template_columns": null,
            "grid_template_rows": null,
            "height": "auto",
            "justify_content": null,
            "justify_items": null,
            "left": null,
            "margin": null,
            "max_height": null,
            "max_width": null,
            "min_height": null,
            "min_width": null,
            "object_fit": null,
            "object_position": null,
            "order": null,
            "overflow": null,
            "overflow_x": null,
            "overflow_y": null,
            "padding": "0.5em",
            "right": null,
            "top": null,
            "visibility": null,
            "width": "auto"
          }
        },
        "9bea9ed524e147b0b4e5cb8a13b1d3c9": {
          "model_module": "@jupyter-widgets/controls",
          "model_name": "ButtonStyleModel",
          "model_module_version": "1.5.0",
          "state": {
            "_model_module": "@jupyter-widgets/controls",
            "_model_module_version": "1.5.0",
            "_model_name": "ButtonStyleModel",
            "_view_count": null,
            "_view_module": "@jupyter-widgets/base",
            "_view_module_version": "1.2.0",
            "_view_name": "StyleView",
            "button_color": "#ffaaaa",
            "font_weight": ""
          }
        },
        "46fd8a9a7dee4e3bbf3b885416585e2b": {
          "model_module": "@jupyter-widgets/base",
          "model_name": "LayoutModel",
          "model_module_version": "1.2.0",
          "state": {
            "_model_module": "@jupyter-widgets/base",
            "_model_module_version": "1.2.0",
            "_model_name": "LayoutModel",
            "_view_count": null,
            "_view_module": "@jupyter-widgets/base",
            "_view_module_version": "1.2.0",
            "_view_name": "LayoutView",
            "align_content": null,
            "align_items": null,
            "align_self": null,
            "border": null,
            "bottom": null,
            "display": null,
            "flex": null,
            "flex_flow": null,
            "grid_area": null,
            "grid_auto_columns": null,
            "grid_auto_flow": null,
            "grid_auto_rows": null,
            "grid_column": null,
            "grid_gap": null,
            "grid_row": null,
            "grid_template_areas": null,
            "grid_template_columns": null,
            "grid_template_rows": null,
            "height": "auto",
            "justify_content": null,
            "justify_items": null,
            "left": null,
            "margin": null,
            "max_height": null,
            "max_width": null,
            "min_height": null,
            "min_width": null,
            "object_fit": null,
            "object_position": null,
            "order": null,
            "overflow": null,
            "overflow_x": null,
            "overflow_y": null,
            "padding": null,
            "right": null,
            "top": null,
            "visibility": null,
            "width": "auto"
          }
        },
        "442172e23d4945ad8669e9d7ecfafaed": {
          "model_module": "@jupyter-widgets/controls",
          "model_name": "DescriptionStyleModel",
          "model_module_version": "1.5.0",
          "state": {
            "_model_module": "@jupyter-widgets/controls",
            "_model_module_version": "1.5.0",
            "_model_name": "DescriptionStyleModel",
            "_view_count": null,
            "_view_module": "@jupyter-widgets/base",
            "_view_module_version": "1.2.0",
            "_view_name": "StyleView",
            "description_width": ""
          }
        },
        "f6e635344fb947239775dcf6139ae786": {
          "model_module": "@jupyter-widgets/base",
          "model_name": "LayoutModel",
          "model_module_version": "1.2.0",
          "state": {
            "_model_module": "@jupyter-widgets/base",
            "_model_module_version": "1.2.0",
            "_model_name": "LayoutModel",
            "_view_count": null,
            "_view_module": "@jupyter-widgets/base",
            "_view_module_version": "1.2.0",
            "_view_name": "LayoutView",
            "align_content": null,
            "align_items": null,
            "align_self": null,
            "border": null,
            "bottom": null,
            "display": null,
            "flex": null,
            "flex_flow": null,
            "grid_area": null,
            "grid_auto_columns": null,
            "grid_auto_flow": null,
            "grid_auto_rows": null,
            "grid_column": null,
            "grid_gap": null,
            "grid_row": null,
            "grid_template_areas": null,
            "grid_template_columns": null,
            "grid_template_rows": null,
            "height": "auto",
            "justify_content": null,
            "justify_items": null,
            "left": null,
            "margin": null,
            "max_height": null,
            "max_width": null,
            "min_height": null,
            "min_width": null,
            "object_fit": null,
            "object_position": null,
            "order": null,
            "overflow": null,
            "overflow_x": null,
            "overflow_y": null,
            "padding": null,
            "right": null,
            "top": null,
            "visibility": null,
            "width": "auto"
          }
        },
        "ee7bab9e38204373a2f9af09bdb29e40": {
          "model_module": "@jupyter-widgets/controls",
          "model_name": "ButtonStyleModel",
          "model_module_version": "1.5.0",
          "state": {
            "_model_module": "@jupyter-widgets/controls",
            "_model_module_version": "1.5.0",
            "_model_name": "ButtonStyleModel",
            "_view_count": null,
            "_view_module": "@jupyter-widgets/base",
            "_view_module_version": "1.2.0",
            "_view_name": "StyleView",
            "button_color": null,
            "font_weight": ""
          }
        }
      }
    }
  },
  "nbformat": 4,
  "nbformat_minor": 0
}