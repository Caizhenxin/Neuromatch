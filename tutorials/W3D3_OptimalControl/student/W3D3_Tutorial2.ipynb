{
  "cells": [
    {
      "cell_type": "markdown",
      "metadata": {
        "id": "view-in-github",
        "colab_type": "text"
      },
      "source": [
        "<a href=\"https://colab.research.google.com/github/Caizhenxin/Neuromatch/blob/main/tutorials/W3D3_OptimalControl/student/W3D3_Tutorial2.ipynb\" target=\"_parent\"><img src=\"https://colab.research.google.com/assets/colab-badge.svg\" alt=\"Open In Colab\"/></a>"
      ]
    },
    {
      "cell_type": "markdown",
      "metadata": {
        "execution": {},
        "id": "mqX9NGIbKk7U"
      },
      "source": [
        "# Tutorial 2: Optimal Control for Continuous State\n",
        "\n",
        "**Week 3, Day 3: Optimal Control**\n",
        "\n",
        "**By Neuromatch Academy**\n",
        "\n",
        "**Content creators:** Zhengwei Wu, Shreya Saxena, Xaq Pitkow\n",
        "\n",
        "**Content reviewers:** Karolina Stosio, Roozbeh Farhoodi, Saeed Salehi, Ella Batty, Spiros Chavlis, Matt Krause and Michael Waskom\n",
        "\n",
        "**Production editors:** Spiros Chavlis"
      ]
    },
    {
      "cell_type": "markdown",
      "metadata": {
        "execution": {},
        "id": "Vf9WcanJKk7Y"
      },
      "source": [
        "---\n",
        "# Tutorial Objectives\n",
        "\n",
        "In this tutorial, we will implement a continuous control task. You will design control inputs for a linear dynamical system to reach a target state. The state here is continuous-valued, i.e., takes on any real number from $-\\infty$ to $\\infty$.\n",
        "\n",
        "You have already learned about control for binary states in Tutorial 1, and you have learned about stochastic dynamics, latent states, and measurements yesterday. Now we introduce you to the new concepts of designing a controller with full observation of the state (linear quadratic regulator - LQR), and under partial observability of the state (linear quadratic gaussian - LQG).\n",
        "\n",
        "The running example we consider throughout the tutorial is a cat trying to catch a mouse in space using its handy little jet pack to navigate.\n",
        "\n",
        "In this tutorial you will:\n",
        "\n",
        "* Apply the ideas of optimal control to solve a toy example: Astrocat catching mice in space\n",
        "* Design an optimal controller with a full observation of the state (linear quadratic regulator - LQR)\n",
        "* Design an optimal controller under partial observability of the state (linear quadratic gaussian - LQG)"
      ]
    },
    {
      "cell_type": "code",
      "execution_count": 1,
      "metadata": {
        "cellView": "form",
        "execution": {},
        "id": "AMSdak_LKk7Z",
        "outputId": "44ad044d-8d8f-475f-8c6e-5ddc949cf270",
        "colab": {
          "base_uri": "https://localhost:8080/",
          "height": 519
        }
      },
      "outputs": [
        {
          "output_type": "stream",
          "name": "stdout",
          "text": [
            "If you want to download the slides: https://osf.io/download/8j5rs/\n"
          ]
        },
        {
          "output_type": "execute_result",
          "data": {
            "text/plain": [
              "<IPython.lib.display.IFrame at 0x7d443037f250>"
            ],
            "text/html": [
              "\n",
              "        <iframe\n",
              "            width=\"854\"\n",
              "            height=\"480\"\n",
              "            src=\"https://mfr.ca-1.osf.io/render?url=https://osf.io/8j5rs/?direct%26mode=render%26action=download%26mode=render\"\n",
              "            frameborder=\"0\"\n",
              "            allowfullscreen\n",
              "            \n",
              "        ></iframe>\n",
              "        "
            ]
          },
          "metadata": {},
          "execution_count": 1
        }
      ],
      "source": [
        "# @title Tutorial slides\n",
        "# @markdown These are the slides for all videos in this tutorial.\n",
        "from IPython.display import IFrame\n",
        "link_id = \"8j5rs\"\n",
        "print(f\"If you want to download the slides: https://osf.io/download/{link_id}/\")\n",
        "IFrame(src=f\"https://mfr.ca-1.osf.io/render?url=https://osf.io/{link_id}/?direct%26mode=render%26action=download%26mode=render\", width=854, height=480)"
      ]
    },
    {
      "cell_type": "markdown",
      "metadata": {
        "execution": {},
        "id": "-1NCxq7jKk7b"
      },
      "source": [
        "---\n",
        "# Setup"
      ]
    },
    {
      "cell_type": "code",
      "execution_count": 2,
      "metadata": {
        "cellView": "form",
        "execution": {},
        "id": "CISY4HEgKk7b",
        "outputId": "abc86de4-0c86-446f-c34f-900016548551",
        "colab": {
          "base_uri": "https://localhost:8080/"
        }
      },
      "outputs": [
        {
          "output_type": "stream",
          "name": "stdout",
          "text": [
            "  Preparing metadata (setup.py) ... \u001b[?25l\u001b[?25hdone\n",
            "  Preparing metadata (setup.py) ... \u001b[?25l\u001b[?25hdone\n",
            "\u001b[2K   \u001b[90m━━━━━━━━━━━━━━━━━━━━━━━━━━━━━━━━━━━━━━━━\u001b[0m \u001b[32m1.6/1.6 MB\u001b[0m \u001b[31m37.9 MB/s\u001b[0m eta \u001b[36m0:00:00\u001b[0m\n",
            "\u001b[?25h  Building wheel for vibecheck (setup.py) ... \u001b[?25l\u001b[?25hdone\n",
            "  Building wheel for datatops (setup.py) ... \u001b[?25l\u001b[?25hdone\n"
          ]
        }
      ],
      "source": [
        "# @title Install and import feedback gadget\n",
        "\n",
        "!pip3 install vibecheck datatops --quiet\n",
        "\n",
        "from vibecheck import DatatopsContentReviewContainer\n",
        "def content_review(notebook_section: str):\n",
        "    return DatatopsContentReviewContainer(\n",
        "        \"\",  # No text prompt\n",
        "        notebook_section,\n",
        "        {\n",
        "            \"url\": \"https://pmyvdlilci.execute-api.us-east-1.amazonaws.com/klab\",\n",
        "            \"name\": \"neuromatch_cn\",\n",
        "            \"user_key\": \"y1x3mpx5\",\n",
        "        },\n",
        "    ).render()\n",
        "\n",
        "\n",
        "feedback_prefix = \"W3D3_T2\""
      ]
    },
    {
      "cell_type": "code",
      "execution_count": 3,
      "metadata": {
        "cellView": "both",
        "execution": {},
        "pycharm": {
          "is_executing": false
        },
        "id": "JyHqPXVUKk7c"
      },
      "outputs": [],
      "source": [
        "# Imports\n",
        "import numpy as np\n",
        "import matplotlib.pyplot as plt\n",
        "from matplotlib import gridspec\n",
        "from collections import namedtuple"
      ]
    },
    {
      "cell_type": "code",
      "execution_count": 4,
      "metadata": {
        "cellView": "form",
        "execution": {},
        "id": "gD0vTPM2Kk7c"
      },
      "outputs": [],
      "source": [
        "# @title Figure Settings\n",
        "import logging\n",
        "logging.getLogger('matplotlib.font_manager').disabled = True\n",
        "\n",
        "import ipywidgets as widgets\n",
        "from IPython.display import HTML\n",
        "%matplotlib inline\n",
        "%config InlineBackend.figure_format = 'retina'\n",
        "plt.style.use(\"https://raw.githubusercontent.com/NeuromatchAcademy/course-content/main/nma.mplstyle\")"
      ]
    },
    {
      "cell_type": "code",
      "execution_count": 5,
      "metadata": {
        "cellView": "form",
        "execution": {},
        "id": "bkAaMqP4Kk7c"
      },
      "outputs": [],
      "source": [
        "# @title Plotting Functions\n",
        "\n",
        "def plot_vs_time(s, slabel, color, goal=None, ylabel=None, show=True):\n",
        "  plt.plot(s, color, label=slabel)\n",
        "  if goal is not None:\n",
        "    plt.plot(goal, 'm--', label='goal $g$')\n",
        "  plt.xlabel(\"Time\", fontsize=14)\n",
        "  plt.legend(loc=\"upper right\")\n",
        "\n",
        "  if ylabel:\n",
        "    plt.ylabel(ylabel, fontsize=14)\n",
        "  if show:\n",
        "    plt.show()\n",
        "\n",
        "\n",
        "def plot_kf_state_vs_time(latent_states, estimates, title, goal=None):\n",
        "\n",
        "  fig = plt.figure(figsize=(12, 4))\n",
        "  plt.suptitle(title, y=1.05)\n",
        "  gs = gridspec.GridSpec(1, 2, width_ratios=[1, 2])\n",
        "\n",
        "  ax0 = plt.subplot(gs[0])\n",
        "  ax0.plot(latent_states, estimates, 'r.')\n",
        "  ax0.plot(latent_states, latent_states, 'b')\n",
        "  ax0.set_xlabel('Latent State')\n",
        "  ax0.set_ylabel('Estimated State')\n",
        "  ax0.set_aspect('equal')\n",
        "\n",
        "  ax1 = plt.subplot(gs[1])\n",
        "  ax1.plot(latent_states, 'b', label = 'Latent State')\n",
        "  ax1.plot(estimates, 'r', label = 'Estimated State')\n",
        "\n",
        "  if goal is not None:\n",
        "    ax1.plot(goal, 'm--', label = 'goal')\n",
        "\n",
        "  ax1.set_xlabel('Time')\n",
        "  ax1.set_ylabel('State')\n",
        "  ax1.legend(loc=\"upper right\")\n",
        "  plt.tight_layout()\n",
        "  plt.show()"
      ]
    },
    {
      "cell_type": "code",
      "execution_count": 6,
      "metadata": {
        "cellView": "form",
        "execution": {},
        "id": "J1QYkgfEKk7d"
      },
      "outputs": [],
      "source": [
        "# @title Helper Functions\n",
        "\n",
        "# Global variables\n",
        "T = 50\n",
        "standard_normal_noise = np.random.randn(T)\n",
        "standard_normal_noise_meas = np.random.randn(T)\n",
        "gaussian = namedtuple('Gaussian', ['mean', 'cov'])\n",
        "\n",
        "class ExerciseError(AssertionError):\n",
        "  pass\n",
        "\n",
        "\n",
        "def test_lds_class(lds_class):\n",
        "  from math import isclose\n",
        "  ldsys = lds_class(ini_state=2., noise_var=0.)\n",
        "  if not isclose(ldsys.dynamics(.9)[1], 1.8):\n",
        "    raise ExerciseError(\"'dynamics' method is not correctly implemented!\")\n",
        "  if not isclose(ldsys.dynamics_openloop(.9, 2., np.zeros(ldsys.T)-1.)[1], -0.2):\n",
        "    raise ExerciseError(\"'dynamics_openloop' method is not correctly implemented!\")\n",
        "  if not isclose(ldsys.dynamics_closedloop(.9, 2., np.zeros(ldsys.T)+.3)[0][1], 3.):\n",
        "    raise ExerciseError(\"s[t] in 'dynamics_closedloop' method is not correctly implemented!\")\n",
        "  if not isclose(ldsys.dynamics_closedloop(.9, 2., np.zeros(ldsys.T)+.3)[1][0], .6):\n",
        "    raise ExerciseError(\"a[t] in 'dynamics_closedloop' method is not correctly implemented!\")\n",
        "  ldsys.noise_var = 1.\n",
        "  if isclose(ldsys.dynamics(.9)[1], 1.8):\n",
        "    raise ExerciseError(\"Did you forget to add noise to your s[t+1] in 'dynamics'?\")\n",
        "  if isclose(ldsys.dynamics_openloop(.9, 2., np.zeros(ldsys.T)-1.)[1], -0.2):\n",
        "    raise ExerciseError(\"Did you forget to add noise to your s[t+1] in 'dynamics_openloop'?\")\n",
        "  if isclose(ldsys.dynamics_closedloop(.9, 2., np.zeros(ldsys.T)+.3)[0][1], 3.):\n",
        "    raise ExerciseError(\"Did you forget to add noise to your s[t+1] in 'dynamics_closedloop'?\")\n",
        "  if not isclose(ldsys.dynamics_closedloop(.9, 2., np.zeros(ldsys.T)+.3)[1][0], .6):\n",
        "    raise ExerciseError(\"Your input a[t] should not be noisy in 'dynamics_closedloop'.\")\n",
        "\n",
        "  print('Well Done!')\n",
        "\n",
        "\n",
        "def test_lqr_class(lqr_class):\n",
        "  from math import isclose\n",
        "  lqreg = lqr_class(ini_state=2., noise_var=0.)\n",
        "  lqreg.goal = np.array([-2, -2])\n",
        "  s = np.array([1, 2])\n",
        "  a = np.array([3, 4])\n",
        "  if not isclose(lqreg.calculate_J_state(s), 25):\n",
        "    raise ExerciseError(\"'calculate_J_state' method is not correctly implemented!\")\n",
        "  if not isclose(lqreg.calculate_J_control(a), 25):\n",
        "    raise ExerciseError(\"'calculate_J_control' method is not correctly implemented!\")\n",
        "\n",
        "  print('Well Done!')"
      ]
    },
    {
      "cell_type": "markdown",
      "metadata": {
        "execution": {},
        "id": "F8MOqYS-Kk7d"
      },
      "source": [
        "---\n",
        "# Section 1: Exploring a Linear Dynamical System (LDS) with Open-Loop and Closed-Loop Control"
      ]
    },
    {
      "cell_type": "code",
      "execution_count": 7,
      "metadata": {
        "cellView": "form",
        "execution": {},
        "id": "s7O89oJkKk7e",
        "outputId": "ebb2668a-97fb-40f0-accb-541f1f1ab7e8",
        "colab": {
          "base_uri": "https://localhost:8080/",
          "height": 581,
          "referenced_widgets": [
            "9e227db825774df1a00bd81ab56e857a",
            "0899bf06daae473eb87ead2fb9a496a2",
            "9bfebfa9da674fb4a1cf3cf84d8737fb",
            "69aab212d35d4b78a828ac9b9f1d8755",
            "a48bf4955e2b4b639cd37e385ebe7212",
            "81dde7426f0c469c94fe2aa7738a44be"
          ]
        }
      },
      "outputs": [
        {
          "output_type": "display_data",
          "data": {
            "text/plain": [
              "Tab(children=(Output(), Output()), _titles={'0': 'Youtube', '1': 'Bilibili'})"
            ],
            "application/vnd.jupyter.widget-view+json": {
              "version_major": 2,
              "version_minor": 0,
              "model_id": "9e227db825774df1a00bd81ab56e857a"
            }
          },
          "metadata": {}
        }
      ],
      "source": [
        "# @title Video 1: Flying Through Space\n",
        "from ipywidgets import widgets\n",
        "from IPython.display import YouTubeVideo\n",
        "from IPython.display import IFrame\n",
        "from IPython.display import display\n",
        "\n",
        "\n",
        "class PlayVideo(IFrame):\n",
        "  def __init__(self, id, source, page=1, width=400, height=300, **kwargs):\n",
        "    self.id = id\n",
        "    if source == 'Bilibili':\n",
        "      src = f'https://player.bilibili.com/player.html?bvid={id}&page={page}'\n",
        "    elif source == 'Osf':\n",
        "      src = f'https://mfr.ca-1.osf.io/render?url=https://osf.io/download/{id}/?direct%26mode=render'\n",
        "    super(PlayVideo, self).__init__(src, width, height, **kwargs)\n",
        "\n",
        "\n",
        "def display_videos(video_ids, W=400, H=300, fs=1):\n",
        "  tab_contents = []\n",
        "  for i, video_id in enumerate(video_ids):\n",
        "    out = widgets.Output()\n",
        "    with out:\n",
        "      if video_ids[i][0] == 'Youtube':\n",
        "        video = YouTubeVideo(id=video_ids[i][1], width=W,\n",
        "                             height=H, fs=fs, rel=0)\n",
        "        print(f'Video available at https://youtube.com/watch?v={video.id}')\n",
        "      else:\n",
        "        video = PlayVideo(id=video_ids[i][1], source=video_ids[i][0], width=W,\n",
        "                          height=H, fs=fs, autoplay=False)\n",
        "        if video_ids[i][0] == 'Bilibili':\n",
        "          print(f'Video available at https://www.bilibili.com/video/{video.id}')\n",
        "        elif video_ids[i][0] == 'Osf':\n",
        "          print(f'Video available at https://osf.io/{video.id}')\n",
        "      display(video)\n",
        "    tab_contents.append(out)\n",
        "  return tab_contents\n",
        "\n",
        "\n",
        "video_ids = [('Youtube', 'MLUTR8z16jI'), ('Bilibili', 'BV1Zv411B7WV')]\n",
        "tab_contents = display_videos(video_ids, W=854, H=480)\n",
        "tabs = widgets.Tab()\n",
        "tabs.children = tab_contents\n",
        "for i in range(len(tab_contents)):\n",
        "  tabs.set_title(i, video_ids[i][0])\n",
        "display(tabs)"
      ]
    },
    {
      "cell_type": "code",
      "execution_count": 8,
      "metadata": {
        "cellView": "form",
        "execution": {},
        "id": "X3H6NsGHKk7e",
        "outputId": "7621ce66-8327-48d7-b22c-40aa2d7c88a5",
        "colab": {
          "base_uri": "https://localhost:8080/",
          "height": 62,
          "referenced_widgets": [
            "9dfb5783bce14bb3ab27010890c520fa",
            "17c0aea33c6d483781f6b81668ea8cd5",
            "40b4b1a85bbd45e7b4ded514332a0fa1",
            "f26bfb0d0687454fad5d65c0d7a48de8",
            "d2615a60a04b4053b79e218e220cdeaf",
            "e186210252a84ff6928cef448d5e5a37",
            "7e9403edd79c4fcd920eb38f0768b8ff",
            "9b374c7244d24cdea0c7ca44c043321c",
            "e4478bc2497b46c8bf2307493f253b4d",
            "01b391d5906c4ed38ee3ee8c32a00741",
            "334b1d2939294fbab164752fa9ba2e1f",
            "90fc11b62484497aa8f07a0764a8636d",
            "c8aba904d1dd43c383a8a84dace9c54a",
            "adf4ea4433ec4f1cbdd0a806218ac67d",
            "45357c858d4c4d4d93ab42b8554c7a6b",
            "30c994ecdcda4bd3b8182029315ea93d",
            "0b858774adeb41dbb4e27ac99b833cb5",
            "5a0e2da441244dd79fa4f9f5a9c6e86e",
            "65f6a6e549554fb08712ce7c1e1fe538",
            "598d04feeac243188d58319b5b05eeeb",
            "92b98a32b2a549ecbe2fc884fc4c436f",
            "11b0f958248c4fee98b5a13403b4e090",
            "97d45408a1bb41e18d1548a280be397a",
            "eddced79a4fe44a5bac56575826d21a0",
            "d8ee889b438849199b614a266ba130e2",
            "c2dac7d83a804bca81b81ecf1b83b814"
          ]
        }
      },
      "outputs": [
        {
          "output_type": "display_data",
          "data": {
            "text/plain": [
              "VBox(children=(VBox(children=(HBox(children=(Button(description='🙂', layout=Layout(height='auto', padding='0.5…"
            ],
            "application/vnd.jupyter.widget-view+json": {
              "version_major": 2,
              "version_minor": 0,
              "model_id": "9dfb5783bce14bb3ab27010890c520fa"
            }
          },
          "metadata": {}
        }
      ],
      "source": [
        "# @title Submit your feedback\n",
        "content_review(f\"{feedback_prefix}_Flying_Through_Space_Video\")"
      ]
    },
    {
      "cell_type": "markdown",
      "metadata": {
        "execution": {},
        "id": "Wv6b_W7-Kk7e"
      },
      "source": [
        "\n",
        "In this example, a cat is trying to catch a mouse in space. The location of the mouse is the goal state $g$, here a static goal. Later on, we will make the goal time-varying, i.e., $g(t)$. The cat's location is the state of the system $s_t$. The state has its internal dynamics: think of the cat drifting slowly in space. These dynamics are such that the state at the next time step $s_{t+1}$ are a linear function of the current state $s_t$. There is some process noise affecting the state (think about engine corrosions on the little jetpack causing unintended movements) here modeled as Gaussian noise $w_t$.\n",
        "\n",
        "The control input or action $a_t$ is the action of the jet pack, which has an effect $Ba_t$ on the state at the next time step $s_{t+1}$. In this tutorial, we will be designing the action $a_t$ to reach the goal $g$, with known state dynamics.\n",
        "\n",
        "Thus, our linear discrete-time system evolves according to the following equation:\n",
        "\n",
        "\\begin{align}\n",
        "s_{t+1} &= Ds_t + Ba_t + w_t \\tag{1}\\\\\n",
        "s_{0} &= s_{init}\n",
        "\\end{align}\n",
        "\n",
        "with\n",
        "\n",
        "$t$: time step, ranging from $1$ to $T$, where $T$ is the time horizon.\n",
        "\n",
        "$s_t$: state at time $t$.\n",
        "\n",
        "$a_t$: action at time $t$ (also known as \"control input\").\n",
        "\n",
        "$w_t$: gaussian noise at time $t$.\n",
        "\n",
        "$D$: transition matrix.\n",
        "\n",
        "$B$: input matrix.\n",
        "\n",
        "<br>\n",
        "\n",
        "For simplicity, we will consider the 1D case, where the matrices reduce to scalars, and the states, control and noise are one-dimensional as well. Specifically, $D$ and $B$ are scalars.\n",
        "\n",
        "We will consider the goal $g$ to be the origin, i.e., $g=0$, for Exercises 1 and 2.2. Later on, we will explore scenarios where the goal state changes over time $g(t)$.\n",
        "\n",
        "<br>\n",
        "\n",
        "**Stability**\n",
        "\n",
        "The system is stable, i.e., the output remains finite for any finite initial condition $s_{init}$, if $|D| < 1$. Note that if the state dynamics are stable, the state eventually reaches $0$ (No control is needed!). However, when $|D|>1$ or the goal $g \\neq 0$ selecting an appropriate sequence of actions becomes essential to completing the task.\n",
        "\n",
        "<br>\n",
        "\n",
        "**Open-loop control and Closed-loop linear control**\n",
        "\n",
        "In *open-loop control*, $a_t$ is not a function of $s_t$. In *closed-loop linear control*, $a_t$ is a linear function of the state $s_t$. Specifically, $a_t$ is the control gain, $L_t$, multiplied by $s_t$, i.e., $a_t=L_t s_t$.\n",
        "\n",
        "In the next exercise, you will explore what happens when nothing is controlling the system, when the system is being controlled following an open-loop control policy, and when the system is under closed-loop linear control."
      ]
    },
    {
      "cell_type": "markdown",
      "metadata": {
        "execution": {},
        "id": "bdKUAii_Kk7e"
      },
      "source": [
        "### Coding Exercise 1: Implement state evolution equations\n",
        "\n",
        "Implement the state evolution equations in the class methods as provided below, for the following cases:\n",
        "\n",
        "(a) no control: `def dynamics`\n",
        "\n",
        "(b) open-loop control: `def dynamics_openloop`\n",
        "\n",
        "(c) closed-loop control: `def dynamics_closedloop`\n",
        "\n",
        "<br>\n",
        "\n",
        "**Tip:** refer to Equation (1) above. The provided code uses the same notation."
      ]
    },
    {
      "cell_type": "code",
      "execution_count": 11,
      "metadata": {
        "execution": {},
        "id": "GxJG7ZdxKk7e",
        "outputId": "676fe71d-8ab3-48ea-bdf7-dca5203242f2",
        "colab": {
          "base_uri": "https://localhost:8080/"
        }
      },
      "outputs": [
        {
          "output_type": "stream",
          "name": "stdout",
          "text": [
            "Well Done!\n"
          ]
        }
      ],
      "source": [
        "class LDS:\n",
        "  \"\"\"\n",
        "    T: Length of timeline (global, fixed variable)\n",
        "    standard_normal_noise: Global noise of length T drawn from N(0, 1)\n",
        "    noise: Gaussian noise N(mean, var) = mean + sqrt(var) * standard_normal_noise\n",
        "    ...\n",
        "  \"\"\"\n",
        "  def __init__(self, ini_state: float, noise_var: float, static_noise=False):\n",
        "    self.ini_state = ini_state\n",
        "    self.noise_var = noise_var\n",
        "    self.T = T\n",
        "    self.static_noise = static_noise\n",
        "\n",
        "  def dynamics(self, D: float):\n",
        "    s = np.zeros(T)  # states initialization\n",
        "    s[0] = self.ini_state\n",
        "    if self.static_noise:\n",
        "      noise = np.sqrt(self.noise_var) * standard_normal_noise\n",
        "    else:\n",
        "      noise = np.sqrt(self.noise_var) * np.random.randn(T)\n",
        "\n",
        "    for t in range(T - 1):\n",
        "      ####################################################################\n",
        "      ## Insert your code here to fill with the state dynamics equation\n",
        "      ## without any control input\n",
        "      ## complete the function and remove\n",
        "      ## raise NotImplementedError(\"Exercise: Please complete 'dynamics'\")\n",
        "      ####################################################################\n",
        "      # calculate the state of t+1\n",
        "      s[t + 1] = D * s[t] + noise[t]\n",
        "\n",
        "    return s\n",
        "\n",
        "  def dynamics_openloop(self, D: float, B: float, a: np.ndarray):\n",
        "\n",
        "    s = np.zeros(T)  # states initialization\n",
        "    s[0] = self.ini_state\n",
        "    if self.static_noise:\n",
        "      noise = np.sqrt(self.noise_var) * standard_normal_noise\n",
        "    else:\n",
        "      noise = np.sqrt(self.noise_var) * np.random.randn(T)\n",
        "\n",
        "    for t in range(T - 1):\n",
        "      ####################################################################\n",
        "      ## Insert your code here to fill with the state dynamics equation\n",
        "      ## with open-loop control input a[t]\n",
        "      ## complete the function and remove\n",
        "      ## raise NotImplementedError(\"Please complete 'dynamics_openloop'\")\n",
        "      ####################################################################\n",
        "      # calculate the state of t+1\n",
        "      s[t + 1] = D * s[t] + B * a[t] + noise[t]\n",
        "\n",
        "    return s\n",
        "\n",
        "  def dynamics_closedloop(self, D: float, B: float, L: np.ndarray):\n",
        "\n",
        "    s = np.zeros(T)  # states initialization\n",
        "    a = np.zeros(T - 1)\n",
        "    s[0] = self.ini_state\n",
        "\n",
        "    if self.static_noise:\n",
        "      noise = np.sqrt(self.noise_var) * standard_normal_noise\n",
        "    else:\n",
        "      noise = np.sqrt(self.noise_var) * np.random.randn(T)\n",
        "\n",
        "    for t in range(T - 1):\n",
        "      ####################################################################\n",
        "      ## Insert your code here to fill with the state dynamics equation\n",
        "      ## with closed-loop control input as a function of control gain L.\n",
        "      ## complete the function and remove\n",
        "      ## raise NotImplementedError(\"Please complete 'dynamics_closedloop'\")\n",
        "      ####################################################################\n",
        "      # calculate the current action\n",
        "      a[t] = L[t] * s[t]\n",
        "      # calculate the next state\n",
        "      s[t + 1] = D * s[t] + B * a[t] + noise[t]\n",
        "\n",
        "    return s, a\n",
        "\n",
        "\n",
        "# Test your function\n",
        "test_lds_class(LDS)"
      ]
    },
    {
      "cell_type": "markdown",
      "metadata": {
        "execution": {},
        "id": "6HG2HF-wKk7f"
      },
      "source": [
        "You should see\n",
        "\n",
        "```Well Done!```"
      ]
    },
    {
      "cell_type": "markdown",
      "metadata": {
        "execution": {},
        "id": "Cwa6EEFmKk7f"
      },
      "source": [
        "[*Click for solution*](https://github.com/NeuromatchAcademy/course-content/tree/main/tutorials/W3D3_OptimalControl/solutions/W3D3_Tutorial2_Solution_2a1f976e.py)\n",
        "\n"
      ]
    },
    {
      "cell_type": "code",
      "execution_count": null,
      "metadata": {
        "cellView": "form",
        "execution": {},
        "id": "n_xePyBSKk7f"
      },
      "outputs": [],
      "source": [
        "# @title Submit your feedback\n",
        "content_review(f\"{feedback_prefix}_Implement_state_evolution_equations_Exercise\")"
      ]
    },
    {
      "cell_type": "markdown",
      "metadata": {
        "execution": {},
        "id": "w4GecFHWKk7f"
      },
      "source": [
        "### Interactive Demo 1.1: Explore no control vs. open-loop control vs. closed-loop control\n",
        "\n",
        "Once your code above passes the test, use the interactive demo below to visualize the effects of different kinds of control inputs.\n",
        "\n",
        "(a) For the no-control case, can you identify two distinct outcomes, depending on the value of D? Why?\n",
        "\n",
        "(b) The open-loop controller works well--or does it? Are there any problems in in challenging (high noise) conditions.\n",
        "\n",
        "(c) Does the closed-loop controller fare better with the noise? Vary the values of $L$ and find a range where it quickly reaches the goal."
      ]
    },
    {
      "cell_type": "code",
      "execution_count": 17,
      "metadata": {
        "cellView": "form",
        "execution": {},
        "id": "tAkhK9fHKk7f",
        "outputId": "5aca25d0-4d1b-4169-fd50-b20a8220c0ce",
        "colab": {
          "base_uri": "https://localhost:8080/",
          "height": 784,
          "referenced_widgets": [
            "df85612b386a4ec9b23006dd55fab29b",
            "2f40e2b6e9774986bce13cdd9637fe90",
            "f7e781a1a1b44ac0851a03ddfe71baa7",
            "53ae7bd8f52d477ebd8ce646f830d56d",
            "db3afbb45e674f718c54dda80b5570ac",
            "88770d62a17b4612928a3b6f850ccf00",
            "543f550e88be4a6e9000ef07120c3bbc",
            "a1b2848323c54284aeed43b953392fd0",
            "fbabe0592e334f70bbae6e93850f72c5",
            "02d00365db6e4bf6a9ba0ad630647c86",
            "b89153ce0f7a4ffcaac6304060ab48bb",
            "ccb8cfa2dcea49718116ac0fb049536a",
            "7d81b9470d9e4652a8420feb87abbbbf",
            "33b3c47150cb4f44ac4c65299141445e",
            "6f1ae1fc06e4450a8303bf03a9b1fd54",
            "42ddda2c44224ccc93bb779d6225a875",
            "5f98c2b4c19e4c14987253be00822519",
            "3d221dba3ca74a528f50bd5837cbce33",
            "8524de9fed4949d39a0dbc8ccd0d29ba",
            "d3e8d02a14924098bedc747a60511771",
            "885fd188bc38498c8cb503a6961d7e01",
            "d92bda737ca64a9a80fcff7b7e3a786d"
          ]
        }
      },
      "outputs": [
        {
          "output_type": "display_data",
          "data": {
            "text/plain": [
              "<IPython.core.display.HTML object>"
            ],
            "text/html": [
              "<style>.widget-label { min-width: 15ex !important; }</style>"
            ]
          },
          "metadata": {}
        },
        {
          "output_type": "display_data",
          "data": {
            "text/plain": [
              "interactive(children=(FloatSlider(value=0.95, description='D', max=1.05, min=0.85), FloatSlider(value=-0.3, de…"
            ],
            "application/vnd.jupyter.widget-view+json": {
              "version_major": 2,
              "version_minor": 0,
              "model_id": "df85612b386a4ec9b23006dd55fab29b"
            }
          },
          "metadata": {}
        }
      ],
      "source": [
        "# @markdown Make sure you execute this cell to enable the widget!\n",
        "\n",
        "# @markdown Play around (attentively) with `a` and `L` to see the effect on the open-loop controlled and closed-loop controlled state.\n",
        "\n",
        "display(HTML('''<style>.widget-label { min-width: 15ex !important; }</style>'''))\n",
        "\n",
        "@widgets.interact(D=widgets.FloatSlider(0.95, description=\"D\", min=0.85, max=1.05),\n",
        "                  L=widgets.FloatSlider(-0.3, description=\"L\", min=-0.6, max=0.),\n",
        "                  a=widgets.FloatSlider(-1., description=\"a\", min=-2., max=1.),\n",
        "                  B=widgets.FloatSlider(2., description=\"B\", min=1., max=3.),\n",
        "                  noise_var=widgets.FloatSlider(.1, description=\"noise_var\", min=0., max=.2),\n",
        "                  ini_state=widgets.FloatSlider(2., description=\"ini_state\", min=2., max=10.))\n",
        "\n",
        "def simulate_lds(D=0.95, L=-0.3, a=-1., B=2., noise_var=0.1, ini_state=2.):\n",
        "  \"\"\"\n",
        "    ...\n",
        "  \"\"\"\n",
        "  static_noise = True\n",
        "\n",
        "  # linear dynamical system\n",
        "  lds = LDS(ini_state, noise_var, static_noise)\n",
        "\n",
        "  # No control\n",
        "  s_no_control=lds.dynamics(D)\n",
        "\n",
        "  # Open loop control\n",
        "  at = np.append(a, np.zeros(T - 1))\n",
        "  s_open_loop = lds.dynamics_openloop(D, B, at)\n",
        "\n",
        "  # Closed loop control\n",
        "  Lt =  np.zeros(T) + L\n",
        "  s_closed_loop, a_closed_loop = lds.dynamics_closedloop(D, B, Lt)\n",
        "\n",
        "  plt.figure(figsize=(10, 6))\n",
        "  plt.plot(s_no_control, 'b', label='No control')\n",
        "  plt.plot(s_open_loop, 'g', label='Open Loop with a = {}'.format(a))\n",
        "  plt.plot(s_closed_loop, 'r', label='Closed Loop with L = {}'.format(L))\n",
        "  plt.plot(np.zeros(T), 'm--', label='goal')\n",
        "  plt.title('LDS State Evolution')\n",
        "  plt.ylabel('State', fontsize=14)\n",
        "  plt.xlabel('Time', fontsize=14)\n",
        "  plt.legend(loc=\"upper right\")\n",
        "  plt.show()"
      ]
    },
    {
      "cell_type": "markdown",
      "metadata": {
        "execution": {},
        "id": "roP-odLXKk7f"
      },
      "source": [
        "[*Click for solution*](https://github.com/NeuromatchAcademy/course-content/tree/main/tutorials/W3D3_OptimalControl/solutions/W3D3_Tutorial2_Solution_f62a6bbc.py)\n",
        "\n"
      ]
    },
    {
      "cell_type": "code",
      "execution_count": null,
      "metadata": {
        "cellView": "form",
        "execution": {},
        "id": "1Qs9jM-xKk7f"
      },
      "outputs": [],
      "source": [
        "# @title Submit your feedback\n",
        "content_review(f\"{feedback_prefix}_No_control_closed_lopp_open_loop_Interactive_Demo_and_Discussion\")"
      ]
    },
    {
      "cell_type": "markdown",
      "metadata": {
        "execution": {},
        "id": "Vrd-bYXiKk7g"
      },
      "source": [
        "### Interactive Demo 1.2: Exploring the closed-loop setting further\n",
        "Execute the cell below to visualize the MSE between the state and goal, as a function of control gain $L$. You should see a U-shaped curve, with a minimum MSE. The control gain at which the minimum MSE is reached, is the 'optimal' constant control gain for minimizing MSE, here called the numerical optimum.\n",
        "\n",
        "A green dashed line is shown $L = -\\frac{D}{B}$ with $D=1.1$ and $B=2$. Why is this the theoretical optimal control gain for minimizing MSE of the state $s$ to the goal $g=0$? Examine how the states evolve with a constant gain $L$.\n",
        "\n",
        "\\begin{align}\n",
        "s_{t+1} &= Ds_t + Ba_t + w_t \\\\\n",
        "&= Ds_t + B(Ls_t) + w_t \\\\\n",
        "&= (D+BL)s_t + w_t \\tag{2}\n",
        "\\end{align}"
      ]
    },
    {
      "cell_type": "code",
      "execution_count": null,
      "metadata": {
        "cellView": "form",
        "execution": {},
        "id": "l6y3wKqoKk7g"
      },
      "outputs": [],
      "source": [
        "# @markdown Execute this cell to visualize MSE between state and goal, as a function of control gain\n",
        "def calculate_plot_mse():\n",
        "  D, B, noise_var, ini_state = 1.1, 2., 0.1, 2.\n",
        "  num_iterations = 50\n",
        "  num_candidates = 100\n",
        "\n",
        "  control_gain_array = np.linspace(0.1, 1., num_candidates)\n",
        "  mse_array = np.zeros([num_candidates, num_iterations])\n",
        "\n",
        "  for j in range(num_iterations):\n",
        "    for i in range(num_candidates):\n",
        "      lds = LDS(ini_state, noise_var)\n",
        "      L = - np.ones(T) * control_gain_array[i]\n",
        "      s, a = lds.dynamics_closedloop(D, B, L)\n",
        "      mse_array[i, j] = np.sum(s**2)\n",
        "\n",
        "  opt = -control_gain_array[np.argmin(np.mean(mse_array, axis=1))]\n",
        "  plt.figure()\n",
        "  plt.plot(-control_gain_array, np.mean(mse_array, axis=1), 'b')\n",
        "  plt.axvline(x=-D/B, color='g', linestyle='--')\n",
        "  plt.xlabel(\"control gain (L)\", fontsize=14)\n",
        "  plt.ylabel(\"MSE between state and goal\" , fontsize=14)\n",
        "  plt.title(f\"MSE vs control gain, L*={opt:0.2f}\", fontsize=20)\n",
        "  plt.show()\n",
        "  return opt\n",
        "\n",
        "\n",
        "opt = calculate_plot_mse()"
      ]
    },
    {
      "cell_type": "markdown",
      "metadata": {
        "execution": {},
        "id": "8JB1bvtvKk7g"
      },
      "source": [
        "Now, let's visualize the evolution of the system as we change the control gain.\n",
        "\n",
        "Using the next demo, explore the behavior of the system when over- and under- ambitious values of $L$ are used. The initial position of the slider corresponds to the optimal control gain $L^*$, the one that gets us the minimum MSE."
      ]
    },
    {
      "cell_type": "code",
      "execution_count": null,
      "metadata": {
        "cellView": "form",
        "execution": {},
        "id": "lEPekWLXKk7g"
      },
      "outputs": [],
      "source": [
        "# @markdown Make sure you execute this cell to enable the widget!\n",
        "\n",
        "# @markdown Explore different values of control gain `L` (close to optimal, over- and under- ambitious) \\\\\n",
        "\n",
        "display(HTML('''<style>.widget-label { min-width: 15ex !important; }</style>'''))\n",
        "\n",
        "@widgets.interact(L=widgets.FloatSlider(opt, description=\"L\",\n",
        "                                        min=-1.05, max=0.051))\n",
        "\n",
        "def simulate_L(L):\n",
        "  D, B, noise_var, ini_state = 1.1, 2., 0.1, 2.\n",
        "  static_noise  = True\n",
        "  lds = LDS(ini_state, noise_var, static_noise)\n",
        "  # Closed loop control with the numerical optimal control gain\n",
        "  Lt = np.ones(T) * L\n",
        "  s_closed_loop_choice, _ = lds.dynamics_closedloop(D, B, Lt)\n",
        "  # Closed loop control with the theoretical optimal control gain\n",
        "  L_theory = - D / B * np.ones(T)\n",
        "  s_closed_loop_theoretical, _ = lds.dynamics_closedloop(D, B, L_theory)\n",
        "  # Plotting closed loop state evolution with both theoretical and numerical optimal control gains\n",
        "  plt.figure(figsize=(10, 6))\n",
        "  plot_vs_time(s_closed_loop_theoretical,\n",
        "               'Closed Loop (Theoretical optimal control gain)', 'b',\n",
        "               show=False)\n",
        "  plot_vs_time(s_closed_loop_choice,\n",
        "               f'Closed Loop (your choice of L = {L:.2f})', 'g',\n",
        "               goal=np.zeros(T), ylabel=\"State\", show=False)\n",
        "  plt.title(f'Closed-loop State Evolution. L* = {opt:.2f}')\n",
        "  plt.show()"
      ]
    },
    {
      "cell_type": "markdown",
      "metadata": {
        "execution": {},
        "id": "1oYrc53HKk7g"
      },
      "source": [
        "[*Click for solution*](https://github.com/NeuromatchAcademy/course-content/tree/main/tutorials/W3D3_OptimalControl/solutions/W3D3_Tutorial2_Solution_f883b5b2.py)\n",
        "\n"
      ]
    },
    {
      "cell_type": "code",
      "execution_count": null,
      "metadata": {
        "cellView": "form",
        "execution": {},
        "id": "5tt0vqhDKk7g"
      },
      "outputs": [],
      "source": [
        "# @title Submit your feedback\n",
        "content_review(f\"{feedback_prefix}_Closed_loop_exploration_Interactive_Demo_and_Discussion\")"
      ]
    },
    {
      "cell_type": "markdown",
      "metadata": {
        "execution": {},
        "id": "81yDoBRsKk7g"
      },
      "source": [
        "---\n",
        "# Section 2: Designing an optimal control input using a linear quadratic regulator (LQR)"
      ]
    },
    {
      "cell_type": "code",
      "execution_count": null,
      "metadata": {
        "cellView": "form",
        "execution": {},
        "id": "iSkCHztJKk7g"
      },
      "outputs": [],
      "source": [
        "# @title Video 2: Linear quadratic regulator (LQR)\n",
        "from ipywidgets import widgets\n",
        "from IPython.display import YouTubeVideo\n",
        "from IPython.display import IFrame\n",
        "from IPython.display import display\n",
        "\n",
        "\n",
        "class PlayVideo(IFrame):\n",
        "  def __init__(self, id, source, page=1, width=400, height=300, **kwargs):\n",
        "    self.id = id\n",
        "    if source == 'Bilibili':\n",
        "      src = f'https://player.bilibili.com/player.html?bvid={id}&page={page}'\n",
        "    elif source == 'Osf':\n",
        "      src = f'https://mfr.ca-1.osf.io/render?url=https://osf.io/download/{id}/?direct%26mode=render'\n",
        "    super(PlayVideo, self).__init__(src, width, height, **kwargs)\n",
        "\n",
        "\n",
        "def display_videos(video_ids, W=400, H=300, fs=1):\n",
        "  tab_contents = []\n",
        "  for i, video_id in enumerate(video_ids):\n",
        "    out = widgets.Output()\n",
        "    with out:\n",
        "      if video_ids[i][0] == 'Youtube':\n",
        "        video = YouTubeVideo(id=video_ids[i][1], width=W,\n",
        "                             height=H, fs=fs, rel=0)\n",
        "        print(f'Video available at https://youtube.com/watch?v={video.id}')\n",
        "      else:\n",
        "        video = PlayVideo(id=video_ids[i][1], source=video_ids[i][0], width=W,\n",
        "                          height=H, fs=fs, autoplay=False)\n",
        "        if video_ids[i][0] == 'Bilibili':\n",
        "          print(f'Video available at https://www.bilibili.com/video/{video.id}')\n",
        "        elif video_ids[i][0] == 'Osf':\n",
        "          print(f'Video available at https://osf.io/{video.id}')\n",
        "      display(video)\n",
        "    tab_contents.append(out)\n",
        "  return tab_contents\n",
        "\n",
        "\n",
        "video_ids = [('Youtube', 'NZSwDy7wtIs'), ('Bilibili', 'BV1sz411v7za')]\n",
        "tab_contents = display_videos(video_ids, W=854, H=480)\n",
        "tabs = widgets.Tab()\n",
        "tabs.children = tab_contents\n",
        "for i in range(len(tab_contents)):\n",
        "  tabs.set_title(i, video_ids[i][0])\n",
        "display(tabs)"
      ]
    },
    {
      "cell_type": "code",
      "execution_count": null,
      "metadata": {
        "cellView": "form",
        "execution": {},
        "id": "1mMFMjc1Kk7h"
      },
      "outputs": [],
      "source": [
        "# @title Submit your feedback\n",
        "content_review(f\"{feedback_prefix}_LQR_Video\")"
      ]
    },
    {
      "cell_type": "markdown",
      "metadata": {
        "execution": {},
        "id": "EHzpyIr2Kk7h"
      },
      "source": [
        "## Section 2.1 Constraints on the system\n",
        "Now we will start imposing additional constraints on our system. For example, if you explored different values for $s_{init}$ above, you would have seen very large values for $a_t$ in order to get to the mouse in a short amount of time. However, perhaps the design of our jetpack makes it dangerous to use large amounts of fuel in a single timestep. We certainly do not want to explode, so we would like to keep the actions $a_t$ as small as possible while still maintaining good control.\n",
        "\n",
        "Moreover, in Exercise 1, we had restricted ourselves to a static control gain $L_t \\equiv L$. How would we vary it if we could?\n",
        "\n",
        "This leads us to a more principled way of designing the optimal control input."
      ]
    },
    {
      "cell_type": "markdown",
      "metadata": {
        "execution": {},
        "id": "rso0mmmHKk7h"
      },
      "source": [
        "### Setting up a cost function\n",
        "\n",
        "In a finite-horizon LQR problem,  the cost function is defined as:\n",
        "\n",
        "\\begin{eqnarray}\n",
        "J({\\bf s},{\\bf a}) &=& J_{state}({\\bf s}) + \\rho J_{control}({\\bf a}) \\\\\n",
        " &=& \\sum_{t = 0}^{T} (s_{t}-g)^2 + \\rho \\sum_{t=0}^{T-1}a_{t}^2 \\tag{3}\n",
        "\\end{eqnarray}\n",
        "\n",
        "where $\\rho$ is the weight on the control effort cost, as compared to the cost of not being at the goal. Here, ${\\bf a} = \\{a_t\\}_{t=0}^{T-1}$, ${\\bf s} = \\{s_t\\}_{t=0}^{T}$. This is a quadratic cost function. In Exercise $2$, we will only explore $g=0$, in which case $J_{state}({\\bf s})$ can also be expressed as $\\sum_{t = 0}^{T} s_{t}^2$. In Exercise $3$, we will explore a non-zero time-varying goal.\n",
        "\n",
        "<br>\n",
        "\n",
        "The goal of the LQR problem is to find control ${\\bf a}$ such that $J({\\bf s},{\\bf a})$ is minimized. The goal is then to find the control gain at each time point, i.e.,\n",
        "\n",
        "\\begin{equation}\n",
        "\\text{argmin} _{\\{L_t\\}_{t=0}^{T-1}}  J({\\bf s},{\\bf a}) \\tag{4}\n",
        "\\end{equation}\n",
        "\n",
        "where $a_t = L_t s_t$."
      ]
    },
    {
      "cell_type": "markdown",
      "metadata": {
        "execution": {},
        "id": "15UlpWzsKk7i"
      },
      "source": [
        "## Section 2.2 Solving LQR\n",
        "\n",
        "The solution to Equation (4), i.e., LQR for a finite time horizon, can be obtained via Dynamic Programming. For details, check out [this lecture by Stephen Boyd](https://stanford.edu/class/ee363/lectures/dlqr.pdf).\n",
        "\n",
        "For an infinite time horizon, one can obtain a closed-form solution using Riccati equations, and the solution for the control gain becomes time-invariant, i.e., $L_t \\equiv L$. We will use this in Exercise 4. For  details, check out [this other lecture by Stephen Boyd](https://stanford.edu/class/ee363/lectures/dlqr-ss.pdf).\n",
        "\n",
        "<br>\n",
        "\n",
        "Additional reference for entire section:\n",
        "\n",
        "[Bertsekas, Dimitri P. _Dynamic programming and optimal control_. Vol. 1. No. 2. Belmont, MA: Athena scientific, 1995](http://www.athenasc.com/dpbook.html)."
      ]
    },
    {
      "cell_type": "markdown",
      "metadata": {
        "execution": {},
        "id": "CTaW_czdKk7i"
      },
      "source": [
        "### Coding Exercise 2.2: Implement the cost function\n",
        "\n",
        "The cost function $J({\\bf s}, {\\bf a})$ can be divided into two parts: $J_{state}({\\bf s})$ and $J_{control}({\\bf a})$.\n",
        "\n",
        "Code up these two parts in the class methods `def calculate_J_state` and `def calculate_J_control` in the following helper class for LQR."
      ]
    },
    {
      "cell_type": "code",
      "execution_count": 14,
      "metadata": {
        "execution": {},
        "id": "XaCwyDPKKk7i",
        "outputId": "7c79f70d-8623-460a-aa5c-d7250ada55e3",
        "colab": {
          "base_uri": "https://localhost:8080/"
        }
      },
      "outputs": [
        {
          "output_type": "stream",
          "name": "stdout",
          "text": [
            "Well Done!\n"
          ]
        }
      ],
      "source": [
        "class LQR(LDS):\n",
        "  def __init__(self, ini_state, noise_var, static_noise=False):\n",
        "    super().__init__(ini_state, noise_var, static_noise)\n",
        "    self.T = T\n",
        "    self.goal = np.zeros(T)  # The class LQR only supports g=0\n",
        "\n",
        "  def control_gain_LQR(self, D, B, rho):\n",
        "    P = np.zeros(self.T)  # Dynamic programming variable\n",
        "    L = np.zeros(self.T - 1)  # control gain\n",
        "    P[-1] = 1\n",
        "    for t in range(self.T - 1):\n",
        "        P_t_1 = P[self.T - t - 1]\n",
        "        P[self.T - t-2] = (1 + P_t_1 * D**2 - D * P_t_1 * B / (rho + P_t_1 * B**2) * B * P_t_1 * D)\n",
        "        L[self.T - t-2] = - (1 / (rho + P_t_1 * B**2) * B * P_t_1 * D)\n",
        "    return L\n",
        "\n",
        "  def calculate_J_state(self, s:np.ndarray):\n",
        "    ########################################################################\n",
        "    ## Insert your code here to calculate J_state(s) (see Eq. 3)\n",
        "    ## complete the function and remove\n",
        "    ## raise NotImplementedError(\"Please complete 'calculate_J_state'\")\n",
        "    ########################################################################\n",
        "    # calculate the state\n",
        "    J_state = np.sum((s - self.goal)**2)\n",
        "\n",
        "    return J_state\n",
        "\n",
        "  def calculate_J_control(self, a:np.ndarray):\n",
        "    ########################################################################\n",
        "    ## Insert your code here to calculate J_control(a) (see Eq. 3).\n",
        "    ## complete the function and remove\n",
        "    ## raise NotImplementedError(\"Please complete 'calculate_J_control'\")\n",
        "    ########################################################################\n",
        "    # calculate the control\n",
        "    J_control = np.sum(a**2)\n",
        "\n",
        "    return J_control\n",
        "\n",
        "\n",
        "# Test class\n",
        "test_lqr_class(LQR)"
      ]
    },
    {
      "cell_type": "markdown",
      "metadata": {
        "execution": {},
        "id": "0CW8tlCcKk7i"
      },
      "source": [
        "You should see\n",
        "\n",
        "```Well Done!```"
      ]
    },
    {
      "cell_type": "markdown",
      "metadata": {
        "execution": {},
        "id": "s0KhjMsdKk7i"
      },
      "source": [
        "[*Click for solution*](https://github.com/NeuromatchAcademy/course-content/tree/main/tutorials/W3D3_OptimalControl/solutions/W3D3_Tutorial2_Solution_1aa39d33.py)\n",
        "\n"
      ]
    },
    {
      "cell_type": "code",
      "execution_count": null,
      "metadata": {
        "cellView": "form",
        "execution": {},
        "id": "N6sfdQ8LKk7i"
      },
      "outputs": [],
      "source": [
        "# @title Submit your feedback\n",
        "content_review(f\"{feedback_prefix}_Implement_the_cost_function_Exercise\")"
      ]
    },
    {
      "cell_type": "markdown",
      "metadata": {
        "execution": {},
        "id": "_-6_QFVGKk7o"
      },
      "source": [
        "### Interactive Demo 2.2: LQR to the origin\n",
        "\n",
        "In this exercise, we will use your new LQR controller to track a static goal at $g=0$. Here, we will explore how varying $\\rho$ (the weight on the control effort cost) affects the state trajectory, actions selected, and control gain.\n",
        "\n",
        "1. Play around with the value of $\\rho$ and see the effects on the sequence of states, the magnitude of the actions, and variability of control gain.\n",
        "2. What do you notice on the control gain when $\\rho$ is too large? and too small?\n",
        "3. For different values of $\\rho$, how does the magnitude of the actions change?"
      ]
    },
    {
      "cell_type": "code",
      "execution_count": null,
      "metadata": {
        "cellView": "form",
        "execution": {},
        "id": "PcsXDnQpKk7p"
      },
      "outputs": [],
      "source": [
        "# @markdown Make sure you execute this cell to enable the widget!\n",
        "\n",
        "# @markdown Explore different values of control gain `L` (close to optimal, over- and under- ambitious) \\\\\n",
        "\n",
        "display(HTML('''<style>.widget-label { min-width: 15ex !important; }</style>'''))\n",
        "\n",
        "@widgets.interact(rho=widgets.FloatSlider(25.,\n",
        "                                          description=\"ρ\",\n",
        "                                          min=0., max=50.))\n",
        "\n",
        "def simulate_rho(rho=1.):\n",
        "  D, B, ini_state, noise_var = 1.1, 2., 1., .1  # state parameter\n",
        "  static_noise = True\n",
        "  lqr = LQR(ini_state, noise_var, static_noise)\n",
        "  L = lqr.control_gain_LQR(D, B, rho)\n",
        "  s_lqr, a_lqr = lqr.dynamics_closedloop(D, B, L)\n",
        "\n",
        "  plt.figure(figsize=(14, 4))\n",
        "  plt.suptitle('LQR Control for rho = {}'.format(rho), y=1.05)\n",
        "\n",
        "  plt.subplot(1, 3, 1)\n",
        "  plot_vs_time(s_lqr,'State evolution','b',goal=np.zeros(T), show=False)\n",
        "  plt.ylabel('State $s_t$')\n",
        "\n",
        "  plt.subplot(1, 3, 2)\n",
        "  plot_vs_time(a_lqr,'LQR Action','b', show=False)\n",
        "  plt.ylabel('Action $a_t$')\n",
        "\n",
        "  plt.subplot(1, 3, 3)\n",
        "  plot_vs_time(L,'Control Gain','b', show=False)\n",
        "  plt.ylabel('Control Gain $L_t$')\n",
        "\n",
        "  plt.tight_layout()\n",
        "  plt.show()"
      ]
    },
    {
      "cell_type": "markdown",
      "metadata": {
        "execution": {},
        "id": "3tvBcKfVKk7p"
      },
      "source": [
        "[*Click for solution*](https://github.com/NeuromatchAcademy/course-content/tree/main/tutorials/W3D3_OptimalControl/solutions/W3D3_Tutorial2_Solution_4bfba957.py)\n",
        "\n"
      ]
    },
    {
      "cell_type": "code",
      "execution_count": null,
      "metadata": {
        "cellView": "form",
        "execution": {},
        "id": "kY4pr9sTKk7q"
      },
      "outputs": [],
      "source": [
        "# @title Submit your feedback\n",
        "content_review(f\"{feedback_prefix}_LQR_to_the_origin_Interactive_Demo_and_Discussion\")"
      ]
    },
    {
      "cell_type": "markdown",
      "metadata": {
        "execution": {},
        "id": "Ih7zVw93Kk7q"
      },
      "source": [
        "## Section 2.3: The tradeoff between state cost and control cost\n",
        "\n",
        "In Exercise 2.1, you implemented code to calculate for $J_{state}$ and $J_{control}$ in the class methods for the class LQR.\n",
        "\n",
        "We will now plot them against each other for varying values of $\\rho$ to explore the tradeoff between state cost and control cost."
      ]
    },
    {
      "cell_type": "code",
      "execution_count": null,
      "metadata": {
        "cellView": "form",
        "execution": {},
        "id": "KHgze6hGKk7q"
      },
      "outputs": [],
      "source": [
        "# @markdown Execute this cell to visualize the tradeoff between state and control cost\n",
        "def calculate_plot_costs():\n",
        "\n",
        "  D, B, noise_var, ini_state = 1.1, 2., 0.1, 10.\n",
        "  num_iterations = 50\n",
        "  num_candidates = 100\n",
        "\n",
        "  rho_array = np.linspace(0.2, 40, num_candidates)\n",
        "  J_state = np.zeros([num_candidates, num_iterations])\n",
        "  J_control = np.zeros([num_candidates, num_iterations])\n",
        "\n",
        "  for j in range(num_iterations):\n",
        "    for i in np.arange(len(rho_array)):\n",
        "      lqr = LQR(ini_state, noise_var)\n",
        "      L = lqr.control_gain_LQR(D, B, rho_array[i])\n",
        "      s_lqr, a_lqr = lqr.dynamics_closedloop(D, B, L)\n",
        "      J_state[i, j] = lqr.calculate_J_state(s_lqr)\n",
        "      J_control[i, j] = lqr.calculate_J_control(a_lqr)\n",
        "  J_state = np.mean(J_state, axis=1)\n",
        "  J_control = np.mean(J_control, axis=1)\n",
        "\n",
        "  fig = plt.figure(figsize=(6, 6))\n",
        "  plt.plot(J_state, J_control, '.b')\n",
        "  plt.xlabel(\"$J_{state} = \\sum_{t = 0}^{T} (s_{t}-g)^2$\", fontsize=14)\n",
        "  plt.ylabel(\"$J_{control} = \\sum_{t=0}^{T-1}a_{t}^2$\" , fontsize=14)\n",
        "  plt.title(\"Error vs control effort\", fontsize=20)\n",
        "  plt.show()\n",
        "\n",
        "\n",
        "calculate_plot_costs()"
      ]
    },
    {
      "cell_type": "markdown",
      "metadata": {
        "execution": {},
        "id": "MJVn2QhtKk7q"
      },
      "source": [
        "You should notice the bottom half of a 'C' shaped curve, forming the tradeoff between the state cost and the control cost under optimal closed-loop linear control.\n",
        "\n",
        "For a desired value of the state cost, we cannot reach a lower control cost than the curve in the above plot. Similarly, for a desired value of the control cost, we must accept that amount of state cost. For example, if you know that you have a limited amount of fuel, which determines your maximum control cost to be $J_{control}^{max}$.\n",
        "\n",
        "You will be able to show that you will not be able to track your state with higher accuracy than the corresponding $J_{state}$ as given by the graph above. This is thus an important curve when designing a system and exploring its control."
      ]
    },
    {
      "cell_type": "markdown",
      "metadata": {
        "execution": {},
        "id": "1d1AkOSBKk7q"
      },
      "source": [
        "---\n",
        "# Section 3: LQR for tracking a time-varying goal"
      ]
    },
    {
      "cell_type": "code",
      "execution_count": null,
      "metadata": {
        "cellView": "form",
        "execution": {},
        "id": "Yy_HrQYoKk7q"
      },
      "outputs": [],
      "source": [
        "# @title Video 3: Tracking a moving goal\n",
        "from ipywidgets import widgets\n",
        "from IPython.display import YouTubeVideo\n",
        "from IPython.display import IFrame\n",
        "from IPython.display import display\n",
        "\n",
        "\n",
        "class PlayVideo(IFrame):\n",
        "  def __init__(self, id, source, page=1, width=400, height=300, **kwargs):\n",
        "    self.id = id\n",
        "    if source == 'Bilibili':\n",
        "      src = f'https://player.bilibili.com/player.html?bvid={id}&page={page}'\n",
        "    elif source == 'Osf':\n",
        "      src = f'https://mfr.ca-1.osf.io/render?url=https://osf.io/download/{id}/?direct%26mode=render'\n",
        "    super(PlayVideo, self).__init__(src, width, height, **kwargs)\n",
        "\n",
        "\n",
        "def display_videos(video_ids, W=400, H=300, fs=1):\n",
        "  tab_contents = []\n",
        "  for i, video_id in enumerate(video_ids):\n",
        "    out = widgets.Output()\n",
        "    with out:\n",
        "      if video_ids[i][0] == 'Youtube':\n",
        "        video = YouTubeVideo(id=video_ids[i][1], width=W,\n",
        "                             height=H, fs=fs, rel=0)\n",
        "        print(f'Video available at https://youtube.com/watch?v={video.id}')\n",
        "      else:\n",
        "        video = PlayVideo(id=video_ids[i][1], source=video_ids[i][0], width=W,\n",
        "                          height=H, fs=fs, autoplay=False)\n",
        "        if video_ids[i][0] == 'Bilibili':\n",
        "          print(f'Video available at https://www.bilibili.com/video/{video.id}')\n",
        "        elif video_ids[i][0] == 'Osf':\n",
        "          print(f'Video available at https://osf.io/{video.id}')\n",
        "      display(video)\n",
        "    tab_contents.append(out)\n",
        "  return tab_contents\n",
        "\n",
        "\n",
        "video_ids = [('Youtube', 'HOoqM7kBWSY'), ('Bilibili', 'BV1up4y1S7gg')]\n",
        "tab_contents = display_videos(video_ids, W=854, H=480)\n",
        "tabs = widgets.Tab()\n",
        "tabs.children = tab_contents\n",
        "for i in range(len(tab_contents)):\n",
        "  tabs.set_title(i, video_ids[i][0])\n",
        "display(tabs)"
      ]
    },
    {
      "cell_type": "code",
      "execution_count": null,
      "metadata": {
        "cellView": "form",
        "execution": {},
        "id": "wcuArow8Kk7r"
      },
      "outputs": [],
      "source": [
        "# @title Submit your feedback\n",
        "content_review(f\"{feedback_prefix}_Tracking_a_moving_goal_Video\")"
      ]
    },
    {
      "cell_type": "markdown",
      "metadata": {
        "execution": {},
        "id": "eMYTer1DKk7r"
      },
      "source": [
        "In a more realistic situation, the mouse would move around constantly. Suppose you were able to predict the movement of the mouse as it bounces from one place to another. This becomes your goal trajectory $g_t$.\n",
        "\n",
        "When the target state, denoted as $g_t$, is not $0$, the cost function becomes\n",
        "\n",
        "\\begin{equation}\n",
        "J({\\bf a}) = \\sum_{t = 0}^{T} (s_{t}- g_t) ^2 + \\rho \\sum_{t=0}^{T-1}(a_{t}-\\bar a_t)^2\n",
        "\\end{equation}\n",
        "\n",
        "Here, $\\bar a_t$ is the desired action based on the goal trajectory. In other words, the controller considers the goal for the next time step, and designs a preliminary control action that gets the state at the next time step to the desired goal. Specifically, without taking into account noise $w_t$, we would like to design $\\bar a_t$ such that $s_{t+1}=g_{t+1}$. Thus, from Equation $(1)$,\n",
        "\n",
        "\\begin{eqnarray}\n",
        "g_{t+1} &=& Ds_t + B \\bar a_t\\\\\n",
        "\\bar a_{t} &=& \\frac{- Ds_t + g_{t+1}}{B}\n",
        "\\end{eqnarray}\n",
        "\n",
        "The final control action $a_t$ is produced by adding this desired action $\\bar a_t$ with the term with the control gain $L_t(s_t - g_t)$."
      ]
    },
    {
      "cell_type": "code",
      "execution_count": null,
      "metadata": {
        "cellView": "form",
        "execution": {},
        "id": "4y4QlgvxKk7r"
      },
      "outputs": [],
      "source": [
        "# @markdown Execute this cell to include class for LQR control to desired time-varying goal\n",
        "\n",
        "class LQR_tracking(LQR):\n",
        "  def __init__(self, ini_state, noise_var, goal):\n",
        "    super().__init__(ini_state, noise_var)\n",
        "    self.T = T\n",
        "    self.goal = goal\n",
        "\n",
        "  def dynamics_tracking(self, D, B, L):\n",
        "\n",
        "    s = np.zeros(self.T) # states initialization\n",
        "    s[0] = self.ini_state\n",
        "\n",
        "    noise = np.sqrt(self.noise_var) * standard_normal_noise\n",
        "\n",
        "    a = np.zeros(self.T) # control initialization\n",
        "    a_bar = np.zeros(self.T)\n",
        "    for t in range(self.T - 1):\n",
        "      a_bar[t] = ( - D * s[t] + self.goal[t + 1]) / B\n",
        "      a[t] =  L[t] * (s[t] - self.goal[t]) + a_bar[t]\n",
        "      s[t + 1] = D * s[t] + B * a[t] + noise[t]\n",
        "\n",
        "    return s, a, a_bar\n",
        "\n",
        "  def calculate_J_state(self,s):\n",
        "    J_state = np.sum((s-self.g)**2)\n",
        "    return J_state\n",
        "\n",
        "  def calculate_J_control(self, a, a_bar):\n",
        "    J_control = np.sum((a-a_bar)**2)\n",
        "    return J_control"
      ]
    },
    {
      "cell_type": "markdown",
      "metadata": {
        "execution": {},
        "id": "eX0jVJhoKk7r"
      },
      "source": [
        "### Interactive Demo 3: LQR control to desired time-varying goal\n",
        "\n",
        "Use the demo below to explore how LQR tracks a time-varying goal. Starting with the sinusoidal goal function `sin`, investigate how the system reacts with different values of $\\rho$ and process noise variance. Next, explore other time-varying goals, such as a step function and ramp."
      ]
    },
    {
      "cell_type": "code",
      "execution_count": null,
      "metadata": {
        "cellView": "form",
        "execution": {},
        "id": "4rzcbVW0Kk7r"
      },
      "outputs": [],
      "source": [
        "# @markdown Make sure you execute this cell to enable the widget!\n",
        "\n",
        "# @markdown Explore different values of control gain `L` (close to optimal, over- and under- ambitious) \\\\\n",
        "\n",
        "display(HTML('''<style>.widget-label { min-width: 15ex !important; }</style>'''))\n",
        "\n",
        "@widgets.interact(rho=widgets.FloatSlider(20., description=\"ρ\", min=0.1, max=40.),\n",
        "                  noise_var=widgets.FloatSlider(0.1, description=\"noise_var\", min=0., max=1.),\n",
        "                  goal_func=widgets.RadioButtons(options=['sin', 'step', 'ramp'],\n",
        "                                                 description='goal_func:',\n",
        "                                                 disabled=False))\n",
        "\n",
        "def simulate_tracking(rho, noise_var, goal_func):\n",
        "  D, B, ini_state = 1.1, 1., 0.\n",
        "  if goal_func == 'sin':\n",
        "    goal = np.sin(np.arange(T) * 2 * np.pi * 5 / T)\n",
        "  elif goal_func == 'step':\n",
        "    goal = np.zeros(T)\n",
        "    goal[int(T / 3):] = 1.\n",
        "  elif goal_func == 'ramp':\n",
        "    goal = np.zeros(T)\n",
        "    goal[int(T / 3):] = np.arange(T - int(T / 3)) / (T - int(T / 3))\n",
        "\n",
        "  lqr_time = LQR_tracking(ini_state, noise_var, goal)\n",
        "  L = lqr_time.control_gain_LQR(D, B, rho)\n",
        "  s_lqr_time, a_lqr_time, a_bar_lqr_time = lqr_time.dynamics_tracking(D, B, L)\n",
        "\n",
        "  plt.figure(figsize=(13, 5))\n",
        "  plt.suptitle('LQR Control for time-varying goal', y=1.05)\n",
        "  plt.subplot(1, 2, 1)\n",
        "  plot_vs_time(s_lqr_time, 'State evolution $s_t$', 'b',\n",
        "               goal, ylabel=\"State\", show=False)\n",
        "  plt.subplot(1, 2, 2)\n",
        "  plot_vs_time(a_lqr_time, 'Action $a_t$', 'b',\n",
        "               ylabel=\"Action\", show=False)\n",
        "  plt.show()"
      ]
    },
    {
      "cell_type": "markdown",
      "metadata": {
        "execution": {},
        "id": "AB0b7MbCKk7r"
      },
      "source": [
        "[*Click for solution*](https://github.com/NeuromatchAcademy/course-content/tree/main/tutorials/W3D3_OptimalControl/solutions/W3D3_Tutorial2_Solution_a8d8aea7.py)\n",
        "\n"
      ]
    },
    {
      "cell_type": "code",
      "execution_count": null,
      "metadata": {
        "cellView": "form",
        "execution": {},
        "id": "9g0zWaMRKk7r"
      },
      "outputs": [],
      "source": [
        "# @title Submit your feedback\n",
        "content_review(f\"{feedback_prefix}_ LQR_control_to_desired_time_varying_goal_Interactive_Demo_and_Discussion\")"
      ]
    },
    {
      "cell_type": "markdown",
      "metadata": {
        "execution": {},
        "id": "E7NvttshKk7r"
      },
      "source": [
        "---\n",
        "# Section 4: Control of an partially observed state using a Linear Quadratic Gaussian (LQG) controller\n"
      ]
    },
    {
      "cell_type": "markdown",
      "metadata": {
        "execution": {},
        "id": "uQnbusx7Kk7r"
      },
      "source": [
        "## Section 4.1 Introducing the LQG Controller"
      ]
    },
    {
      "cell_type": "code",
      "execution_count": null,
      "metadata": {
        "cellView": "form",
        "execution": {},
        "id": "xwMKp3eyKk7s"
      },
      "outputs": [],
      "source": [
        "# @title Video 4: Linear Quadratic Gaussian (LQG) Control\n",
        "from ipywidgets import widgets\n",
        "from IPython.display import YouTubeVideo\n",
        "from IPython.display import IFrame\n",
        "from IPython.display import display\n",
        "\n",
        "\n",
        "class PlayVideo(IFrame):\n",
        "  def __init__(self, id, source, page=1, width=400, height=300, **kwargs):\n",
        "    self.id = id\n",
        "    if source == 'Bilibili':\n",
        "      src = f'https://player.bilibili.com/player.html?bvid={id}&page={page}'\n",
        "    elif source == 'Osf':\n",
        "      src = f'https://mfr.ca-1.osf.io/render?url=https://osf.io/download/{id}/?direct%26mode=render'\n",
        "    super(PlayVideo, self).__init__(src, width, height, **kwargs)\n",
        "\n",
        "\n",
        "def display_videos(video_ids, W=400, H=300, fs=1):\n",
        "  tab_contents = []\n",
        "  for i, video_id in enumerate(video_ids):\n",
        "    out = widgets.Output()\n",
        "    with out:\n",
        "      if video_ids[i][0] == 'Youtube':\n",
        "        video = YouTubeVideo(id=video_ids[i][1], width=W,\n",
        "                             height=H, fs=fs, rel=0)\n",
        "        print(f'Video available at https://youtube.com/watch?v={video.id}')\n",
        "      else:\n",
        "        video = PlayVideo(id=video_ids[i][1], source=video_ids[i][0], width=W,\n",
        "                          height=H, fs=fs, autoplay=False)\n",
        "        if video_ids[i][0] == 'Bilibili':\n",
        "          print(f'Video available at https://www.bilibili.com/video/{video.id}')\n",
        "        elif video_ids[i][0] == 'Osf':\n",
        "          print(f'Video available at https://osf.io/{video.id}')\n",
        "      display(video)\n",
        "    tab_contents.append(out)\n",
        "  return tab_contents\n",
        "\n",
        "\n",
        "video_ids = [('Youtube', 'c_D7iDLT_bw'), ('Bilibili', 'BV1xZ4y1u73B')]\n",
        "tab_contents = display_videos(video_ids, W=854, H=480)\n",
        "tabs = widgets.Tab()\n",
        "tabs.children = tab_contents\n",
        "for i in range(len(tab_contents)):\n",
        "  tabs.set_title(i, video_ids[i][0])\n",
        "display(tabs)"
      ]
    },
    {
      "cell_type": "code",
      "execution_count": null,
      "metadata": {
        "cellView": "form",
        "execution": {},
        "id": "UA9wdmqUKk7s"
      },
      "outputs": [],
      "source": [
        "# @title Submit your feedback\n",
        "content_review(f\"{feedback_prefix}_LQG_Video\")"
      ]
    },
    {
      "cell_type": "markdown",
      "metadata": {
        "execution": {},
        "id": "FqPlaZplKk7s"
      },
      "source": [
        "In practice, the controller does not have full access to the state. For example, your jet pack in space may be controlled by Mission Control back on earth!  In this case, noisy measurements $m_t$ of the state $s_t$ are taken via radar, and the controller needs to (1) estimate the true state, and (2) design an action based on this estimate.\n",
        "\n",
        "Fortunately, the separation principle tells us that it is optimal to do (1) and (2) separately. This makes our problem much easier, since we already know how to do each step.\n",
        "\n",
        "1) *State Estimation*\n",
        "Can we recover the state from the measurement?\n",
        "yesterday you learned that the states $\\hat{s}_t$ can be estimated from the measurements $m_t$ using the **Kalman filter**.\n",
        "\n",
        "2) *Design Action*\n",
        "In Sections 2 and 3 above, we just learned about the LQR controller which designs an action based on the state. The separation principle tells us that it is sufficient to replace the use of the state in LQR with the *estimated* state, i.e.,\n",
        "\n",
        "\\begin{equation}\n",
        "a_t = L_t \\hat s_t\n",
        "\\end{equation}\n",
        "\n",
        "The state dynamics will then be:\n",
        "\n",
        "\\begin{equation}\n",
        "s_{t+1} = D s_t + B a_t + w_t\n",
        "\\end{equation}\n",
        "\n",
        "where $w_t$ is the process noise (proc_noise), and the observation / measurement is:\n",
        "\n",
        "\\begin{equation}\n",
        "m_t = C s_t + v_t\n",
        "\\end{equation}\n",
        "\n",
        "with $C$ is the observation matrix and $v_t$ is the measurement noise (meas_noise).\n",
        "\n",
        "The combination of (1) state estimation and (2) action design using LQR is known as a **linear quadratic gaussian (LQG)**. Yesterday, you completed the code for the Kalman filter. Based on that, you will code up the LQG controller. For these exercises, we will return to using the goal $g=0$, as in Section 2."
      ]
    },
    {
      "cell_type": "markdown",
      "metadata": {
        "execution": {},
        "id": "KWw-VjiVKk7s"
      },
      "source": [
        "### Interactive Demo 4.1: The Kalman filter in conjunction with a linear closed-loop controller (LQG Control)\n",
        "\n",
        "Inspect the `KalmanFilter` class, its method `get_estimate(self, m)` will help you refresh your understanding of how the filtering mechanism works. The only difference from yesterday's implementation is that today's Kalman filter takes into account the action when computing the estimates.\n",
        "\n",
        "Also, inspect the `LQG` class. You will find that the only difference between this class and the `LQR` class is that the system now returns a noisy measurement of the state."
      ]
    },
    {
      "cell_type": "code",
      "execution_count": 15,
      "metadata": {
        "execution": {},
        "id": "5fLc50tnKk7s"
      },
      "outputs": [],
      "source": [
        "class KalmanFilter():\n",
        "  def __init__(self, transition_matrix, transition_covariance,\n",
        "               observation_matrix, observation_covariance,\n",
        "               initial_state_mean, initial_state_covariance):\n",
        "    self.D = transition_matrix\n",
        "    self.Q = transition_covariance\n",
        "    self.C = observation_matrix\n",
        "    self.R = observation_covariance\n",
        "    self.prior = gaussian(initial_state_mean, initial_state_covariance)\n",
        "\n",
        "  def get_estimate(self, m, a):\n",
        "\n",
        "    predicted_estimate = self.D * self.prior.mean + a\n",
        "    predicted_covariance = self.D**2 * self.prior.cov + self.Q\n",
        "\n",
        "    innovation_estimate = m - self.C * predicted_estimate\n",
        "    innovation_covariance = self.C**2 * predicted_covariance + self.R\n",
        "\n",
        "    # Kalman gain is the weight given to the innovation (ie., the difference between the measurement and the predicted measurement)\n",
        "    K = predicted_covariance * self.C / innovation_covariance\n",
        "    updated_mean = predicted_estimate + K * innovation_estimate\n",
        "    updated_cov = (1 - K * self.C) * predicted_covariance\n",
        "    posterior = gaussian(updated_mean, updated_cov)\n",
        "\n",
        "    # Current posterior becomes next-step prior\n",
        "    self.prior = posterior\n",
        "\n",
        "    return posterior.mean\n",
        "\n",
        "\n",
        "class LQG():\n",
        "  def __init__(self, transition_matrix, transition_covariance,\n",
        "               observation_matrix, observation_covariance, initial_state_mean,\n",
        "               initial_state_covariance, ntrials=1, static_noise=False):\n",
        "    self.D = transition_matrix\n",
        "    self.Q = transition_covariance\n",
        "    self.C = observation_matrix\n",
        "    self.R = observation_covariance\n",
        "    self.static_noise = static_noise\n",
        "    self.ntrials = ntrials\n",
        "    self.t = 0\n",
        "    self.latent_states = np.zeros([T, ntrials])\n",
        "    self.latent_states[0] = initial_state_mean + np.sqrt(initial_state_covariance) * standard_normal_noise[0]\n",
        "\n",
        "  def step(self, action):\n",
        "    self.t += 1\n",
        "    if self.static_noise:\n",
        "      self.latent_states[self.t] = self.D * self.latent_states[self.t-1] + action + np.sqrt(self.Q) * standard_normal_noise[self.t-1]\n",
        "      measurement = self.C * self.latent_states[self.t] + np.sqrt(self.R) * standard_normal_noise_meas[self.t]\n",
        "    else:\n",
        "      self.latent_states[self.t] = self.D * self.latent_states[self.t-1] + action + np.sqrt(self.Q) * np.random.randn(self.ntrials)\n",
        "      measurement = self.C * self.latent_states[self.t] + np.sqrt(self.R) * np.random.randn(self.ntrials)\n",
        "    return measurement\n",
        "\n",
        "  def get_control_gain_infinite(self, rho):\n",
        "    P = np.zeros(T)\n",
        "    L = np.zeros(T - 1)\n",
        "    P[-1] = 1\n",
        "\n",
        "    for t in range(T - 1):\n",
        "        P_t_1 = P[T - t - 1]\n",
        "        P[T - t-2] = (1 + P_t_1 * self.D**2 - self.D * P_t_1 / (rho + P_t_1) * P_t_1 * self.D)\n",
        "        L[T - t-2] = - (1 / (rho + P_t_1)* P_t_1 * self.D)\n",
        "\n",
        "    return L[0]\n",
        "\n",
        "\n",
        "def control_policy_LQG(control_gain, estimated_state):\n",
        "  current_action =  control_gain * estimated_state\n",
        "  return current_action"
      ]
    },
    {
      "cell_type": "markdown",
      "metadata": {
        "execution": {},
        "id": "LXTppPPhKk7s"
      },
      "source": [
        "Use interactive demo below and observe the performance of the Kalman filter. Remember, the parameter `C` scales the observation matrix.\n",
        "\n",
        "What happens when `C=0`?"
      ]
    },
    {
      "cell_type": "code",
      "execution_count": 16,
      "metadata": {
        "cellView": "form",
        "execution": {},
        "id": "JT3wIel-Kk7s",
        "outputId": "ccd1963f-8146-466f-df5d-274b38c120aa",
        "colab": {
          "base_uri": "https://localhost:8080/",
          "height": 582,
          "referenced_widgets": [
            "37163c36a3e04c6d8bd41421841d1909",
            "dcd7a263e8454486a54a65570b6ae090",
            "9595de814df74d6fafa572b47edb1ae8",
            "5a5db3dbb848416988ca2fc075ef767a",
            "0b07aa35b0dd4df88571162991db76eb",
            "f8f4705c361a4c0fb8ef65f2932cc024",
            "3a9c021ea880425db1c1221787faf901",
            "5bee7db5fa2d4ab49dcb69fe59f8daab",
            "176d8a6e590847bbadf400742007d8b0",
            "105ef2068cca475e8843019ce0993784",
            "cae35fe01357429184bafbb2c6ab2fff",
            "e950aac142804131a420285bbf2245ed",
            "d884516e372b4c27bff6659040b10521"
          ]
        }
      },
      "outputs": [
        {
          "output_type": "display_data",
          "data": {
            "text/plain": [
              "<IPython.core.display.HTML object>"
            ],
            "text/html": [
              "<style>.widget-label { min-width: 15ex !important; }</style>"
            ]
          },
          "metadata": {}
        },
        {
          "output_type": "display_data",
          "data": {
            "text/plain": [
              "interactive(children=(FloatSlider(value=1.0, description='C', max=3.0), FloatSlider(value=0.1, description='pr…"
            ],
            "application/vnd.jupyter.widget-view+json": {
              "version_major": 2,
              "version_minor": 0,
              "model_id": "37163c36a3e04c6d8bd41421841d1909"
            }
          },
          "metadata": {}
        }
      ],
      "source": [
        "# @markdown Make sure you execute this cell to enable the widget!\n",
        "display(HTML('''<style>.widget-label { min-width: 15ex !important; }</style>'''))\n",
        "\n",
        "@widgets.interact(C = widgets.FloatSlider(1., description=\"C\", min=0., max=3.),\n",
        "                  proc_noise = widgets.FloatSlider(.1, description=\"proc_noise\", min=0.0, max=1.),\n",
        "                  meas_noise = widgets.FloatSlider(.2, description=\"meas_noise\", min=0.1, max=1.))\n",
        "\n",
        "def simulate_kf_no_control(C, proc_noise, meas_noise):\n",
        "\n",
        "  D = 0.9\n",
        "  ini_state_mean = 5.\n",
        "  ini_state_cov = .1\n",
        "  estimates = np.zeros(T)\n",
        "  estimates[0] = ini_state_mean\n",
        "\n",
        "  filter = KalmanFilter(transition_matrix=D,\n",
        "                        transition_covariance=proc_noise,\n",
        "                        observation_matrix=C,\n",
        "                        observation_covariance=meas_noise,\n",
        "                        initial_state_mean=ini_state_mean,\n",
        "                        initial_state_covariance=ini_state_cov)\n",
        "\n",
        "  system = LQG(transition_matrix=D,\n",
        "               transition_covariance=proc_noise,\n",
        "               observation_matrix=C,\n",
        "               observation_covariance=meas_noise,\n",
        "               initial_state_mean=ini_state_mean,\n",
        "               initial_state_covariance=ini_state_cov,\n",
        "               static_noise=False)\n",
        "\n",
        "  action = 0\n",
        "  for t in range(1, T):\n",
        "    measurement = system.step(action)\n",
        "    estimates[t] = filter.get_estimate(measurement, action)\n",
        "\n",
        "  plot_kf_state_vs_time(system.latent_states, estimates,\n",
        "                        'State estimation with KF (Stable system without control input)')"
      ]
    },
    {
      "cell_type": "markdown",
      "metadata": {
        "execution": {},
        "id": "EXB63PJDKk7s"
      },
      "source": [
        "[*Click for solution*](https://github.com/NeuromatchAcademy/course-content/tree/main/tutorials/W3D3_OptimalControl/solutions/W3D3_Tutorial2_Solution_96f17d3f.py)\n",
        "\n"
      ]
    },
    {
      "cell_type": "code",
      "execution_count": null,
      "metadata": {
        "cellView": "form",
        "execution": {},
        "id": "Rnk9XXp7Kk7s"
      },
      "outputs": [],
      "source": [
        "# @title Submit your feedback\n",
        "content_review(f\"{feedback_prefix}_LQG_Control_Interactive_Demo_and_Discussion\")"
      ]
    },
    {
      "cell_type": "markdown",
      "metadata": {
        "execution": {},
        "id": "S8oT-xRjKk7t"
      },
      "source": [
        "### Interactive Demo 4.2: LQG controller output with varying control gains\n",
        "\n",
        "Now let's implement the Kalman filter with closed-loop feedback with the controller. We will first use an arbitrary control gain and a fixed value for measurement noise. We will then use the control gain that we calculated for the LQR system given different values for $\\rho$ (weight on the control effort).\n",
        "\n",
        "1. Visualize the system dynamics $s_t$ in closed-loop control with an arbitrary constant control gain. Vary this control gain.\n",
        "\n",
        "2. Play around with the remaining sliders. What happens when the process noise is high (low)? How about the measurement noise?\n"
      ]
    },
    {
      "cell_type": "code",
      "execution_count": null,
      "metadata": {
        "cellView": "form",
        "execution": {},
        "id": "3SZ-8yYKKk7t"
      },
      "outputs": [],
      "source": [
        "# @markdown Make sure you execute this cell to enable the widget!\n",
        "\n",
        "display(HTML('''<style>.widget-label { min-width: 15ex !important; }</style>'''))\n",
        "\n",
        "@widgets.interact(C = widgets.FloatSlider(1., description=\"C\", min=0., max=3.),\n",
        "                  L = widgets.FloatSlider(-.3, description=\"L\", min=-.5, max=0.),\n",
        "                  proc_noise = widgets.FloatSlider(.1, description=\"proc_noise\", min=0.0, max=1.),\n",
        "                  meas_noise = widgets.FloatSlider(.2, description=\"meas_noise\", min=0.1, max=1.))\n",
        "\n",
        "\n",
        "def simulate_kf_with_control(C, L, proc_noise, meas_noise):\n",
        "\n",
        "  D = 1.1\n",
        "  ini_state_mean = 5.\n",
        "  ini_state_cov = .1\n",
        "  estimates = np.zeros(T)\n",
        "  estimates[0] = ini_state_mean\n",
        "  control_gain = L\n",
        "\n",
        "  filter = KalmanFilter(transition_matrix=D,\n",
        "                        transition_covariance=proc_noise,\n",
        "                        observation_matrix=C,\n",
        "                        observation_covariance=meas_noise,\n",
        "                        initial_state_mean=ini_state_mean,\n",
        "                        initial_state_covariance=ini_state_cov)\n",
        "\n",
        "  system = LQG(transition_matrix=D,\n",
        "               transition_covariance=proc_noise,\n",
        "               observation_matrix=C,\n",
        "               observation_covariance=meas_noise,\n",
        "               initial_state_mean=ini_state_mean,\n",
        "               initial_state_covariance=ini_state_cov,\n",
        "               static_noise=True)\n",
        "\n",
        "  action = 0\n",
        "  for t in range(1, T):\n",
        "    measurement = system.step(action)\n",
        "    estimates[t] = filter.get_estimate(measurement, action)\n",
        "    action = control_policy_LQG(control_gain, estimates[t])\n",
        "\n",
        "  title = f'State estimation with KF (control gain = {control_gain})'\n",
        "  plot_kf_state_vs_time(system.latent_states, estimates, title,\n",
        "                        goal=np.zeros(T))"
      ]
    },
    {
      "cell_type": "code",
      "execution_count": null,
      "metadata": {
        "cellView": "form",
        "execution": {},
        "id": "SW34064PKk7t"
      },
      "outputs": [],
      "source": [
        "# @title Submit your feedback\n",
        "content_review(f\"{feedback_prefix}_LQC_controller_varying_gains_Interactive_Demo\")"
      ]
    },
    {
      "cell_type": "markdown",
      "metadata": {
        "execution": {},
        "id": "a6Q0DMe4Kk7t"
      },
      "source": [
        "### Interactive Demo 4.3: LQG controller with varying weight on the control effort costs\n",
        "\n",
        "Now let's see the performance of the LQG controller as the parameter $\\rho$ changes. We will use an LQG controller gain, where the control gain is from a system with an infinite horizon; in this case, the optimal control gain turns out to be a constant.\n",
        "\n",
        "Vary the value of $\\rho$ from $0$ to large values, to see the effect on the state."
      ]
    },
    {
      "cell_type": "code",
      "execution_count": null,
      "metadata": {
        "cellView": "form",
        "execution": {},
        "id": "NzMiA-JfKk7t"
      },
      "outputs": [],
      "source": [
        "# @markdown Make sure you execute this cell to enable the widget!\n",
        "\n",
        "display(HTML('''<style>.widget-label { min-width: 15ex !important; }</style>'''))\n",
        "\n",
        "@widgets.interact(rho=widgets.FloatSlider(25., description=\"ρ\", min=0., max=50.))\n",
        "\n",
        "def simulate_kf_with_lqg(rho):\n",
        "\n",
        "  D=1.1\n",
        "  C=1.\n",
        "  ini_state_mean = 1.\n",
        "  ini_state_cov = 2.\n",
        "  proc_noise=0.1\n",
        "  meas_noise=0.2\n",
        "  estimates = np.zeros(T)\n",
        "  estimates[0] = ini_state_mean\n",
        "\n",
        "\n",
        "  filter = KalmanFilter(transition_matrix=D,\n",
        "                      transition_covariance=proc_noise,\n",
        "                      observation_matrix=C,\n",
        "                      observation_covariance=meas_noise,\n",
        "                      initial_state_mean=ini_state_mean,\n",
        "                      initial_state_covariance=ini_state_cov)\n",
        "\n",
        "  system = LQG(transition_matrix=D,\n",
        "              transition_covariance=proc_noise,\n",
        "              observation_matrix=C,\n",
        "              observation_covariance=meas_noise,\n",
        "              initial_state_mean=ini_state_mean,\n",
        "              initial_state_covariance=ini_state_cov,\n",
        "              static_noise=True)\n",
        "\n",
        "  control_gain = system.get_control_gain_infinite(rho)\n",
        "\n",
        "  action = 0\n",
        "  for t in range(1, T):\n",
        "    measurement = system.step(action)\n",
        "    estimates[t] = filter.get_estimate(measurement, action)\n",
        "    action = control_policy_LQG(control_gain, estimates[t])\n",
        "\n",
        "  title = 'State estimation with KF (LQG controller)'\n",
        "  plot_kf_state_vs_time(system.latent_states, estimates, title,\n",
        "                        goal=np.zeros(T))"
      ]
    },
    {
      "cell_type": "code",
      "execution_count": null,
      "metadata": {
        "cellView": "form",
        "execution": {},
        "id": "lTU9sxa4Kk7t"
      },
      "outputs": [],
      "source": [
        "# @title Submit your feedback\n",
        "content_review(f\"{feedback_prefix}_LQC_controller_varying_weight_Interactive_Demo\")"
      ]
    },
    {
      "cell_type": "markdown",
      "metadata": {
        "execution": {},
        "id": "AmM-FIsDKk7t"
      },
      "source": [
        "### Interactive Demo 4.4: How does the process noise and the measurement noise influence the controlled state and desired action?\n",
        "\n",
        "Process noise $w_t$ (proc_noise) and measurement noise $v_t$ (meas_noise) have very different effects on the controlled state.\n",
        "\n",
        "To visualize this, play with the sliders to get an intuition for how to process noise and measurement noise influences the controlled state. How are these two sources of noise different?"
      ]
    },
    {
      "cell_type": "code",
      "execution_count": null,
      "metadata": {
        "cellView": "form",
        "execution": {},
        "id": "d0JCs2VoKk7t"
      },
      "outputs": [],
      "source": [
        "# @markdown Make sure you execute this cell to enable the widget!\n",
        "\n",
        "display(HTML('''<style>.widget-label { min-width: 15ex !important; }</style>'''))\n",
        "\n",
        "@widgets.interact(proc_noise=widgets.FloatSlider(.1, description=\"proc_noise\",\n",
        "                                                 min=0.1, max=1.),\n",
        "                  meas_noise=widgets.FloatSlider(.2, description=\"meas_noise\",\n",
        "                                                 min=0.1, max=1.)\n",
        "                  )\n",
        "\n",
        "def lqg_slider(proc_noise, meas_noise):\n",
        "\n",
        "  D = 1.1\n",
        "  C = 1.\n",
        "  rho = 1.\n",
        "  ini_state_mean = 1.\n",
        "  ini_state_cov = 2.\n",
        "  estimates = np.zeros(T)\n",
        "  estimates[0] = ini_state_mean\n",
        "\n",
        "  filter = KalmanFilter(transition_matrix=D,\n",
        "                      transition_covariance=proc_noise,\n",
        "                      observation_matrix=C,\n",
        "                      observation_covariance=meas_noise,\n",
        "                      initial_state_mean=ini_state_mean,\n",
        "                      initial_state_covariance=ini_state_cov)\n",
        "\n",
        "  system = LQG(transition_matrix=D,\n",
        "              transition_covariance=proc_noise,\n",
        "              observation_matrix=C,\n",
        "              observation_covariance=meas_noise,\n",
        "              initial_state_mean=ini_state_mean,\n",
        "              initial_state_covariance=ini_state_cov,\n",
        "              static_noise=True)\n",
        "\n",
        "  control_gain = system.get_control_gain_infinite(rho)\n",
        "\n",
        "  action = 0\n",
        "  for t in range(1, T):\n",
        "    measurement = system.step(action)\n",
        "    estimates[t] = filter.get_estimate(measurement, action)\n",
        "    action = control_policy_LQG(control_gain, estimates[t])\n",
        "\n",
        "  title = 'State estimation with KF (LQG controller)'\n",
        "  plot_kf_state_vs_time(system.latent_states, estimates, title,\n",
        "                        goal=np.zeros(T))"
      ]
    },
    {
      "cell_type": "markdown",
      "metadata": {
        "execution": {},
        "id": "aJdXFv-lKk7u"
      },
      "source": [
        "[*Click for solution*](https://github.com/NeuromatchAcademy/course-content/tree/main/tutorials/W3D3_OptimalControl/solutions/W3D3_Tutorial2_Solution_53dea2ba.py)\n",
        "\n"
      ]
    },
    {
      "cell_type": "code",
      "execution_count": null,
      "metadata": {
        "cellView": "form",
        "execution": {},
        "id": "3WyzwxFyKk7u"
      },
      "outputs": [],
      "source": [
        "# @title Submit your feedback\n",
        "content_review(f\"{feedback_prefix}_Process_noise_measurements_noise_Interactive_Demo\")"
      ]
    },
    {
      "cell_type": "markdown",
      "metadata": {
        "execution": {},
        "id": "FBoyW1pHKk7u"
      },
      "source": [
        "## Section 4.2 Noise effects on the LQG\n",
        "\n",
        "Finally, we will quantify how the state cost and control costs change when we change the process and measurement noise levels. To do so, we will run many simulations, stepping through levels of process and measurement noise, tracking MSE and cost of control for each.\n",
        "\n",
        "Observe the effects of increasing the process and measurement noises in an unstable system. How do you interpret the results?"
      ]
    },
    {
      "cell_type": "code",
      "execution_count": null,
      "metadata": {
        "cellView": "form",
        "execution": {},
        "id": "LYcy6c1EKk7u"
      },
      "outputs": [],
      "source": [
        "# @markdown Execute this cell to to quantify the dependence of state and control\n",
        "\n",
        "# @markdown Note: Running many simulations takes time, you need to wait ~2 seconds before observing the consequences of changing the parameter D\n",
        "\n",
        "display(HTML('''<style>.widget-label { min-width: 15ex !important; }</style>'''))\n",
        "\n",
        "@widgets.interact(D=widgets.FloatSlider(description=\"D\",\n",
        "                                        min=0.01, max=4., value=1.1,\n",
        "                                        step=0.01)\n",
        "                  )\n",
        "\n",
        "def transit_matrix_slider(D):\n",
        "  C = 1  # observation matrix\n",
        "  ini_state = 5  # initial state mean\n",
        "  ini_state_cov = 1  # initial state covariance\n",
        "  rho = 1  # control effort parameter\n",
        "  n_iter = 50\n",
        "  n_ops = 20\n",
        "  process_noise_var = .1\n",
        "  measurement_noise_var = .2\n",
        "\n",
        "  # Implement LQG control over n_iter iterations, and record the MSE between state and goal\n",
        "  MSE_array_N_meas = []\n",
        "  MSE_array_N_proc = []\n",
        "  Jcontrol_array_N_meas = []\n",
        "  Jcontrol_array_N_proc = []\n",
        "\n",
        "  meas_noise_array = np.linspace(0.1, 3, n_ops)\n",
        "  proc_noise_array = np.linspace(0.1, 3, n_ops)\n",
        "\n",
        "  # Try several proc noises, but same measurement var\n",
        "  MSE_array_proc = []\n",
        "  Jcontrol_array_proc = []\n",
        "\n",
        "  for proc_noise in proc_noise_array:\n",
        "    transition_covariance = proc_noise\n",
        "    observation_covariance = measurement_noise_var\n",
        "\n",
        "    # Controller\n",
        "    lqg = LQG(D, transition_covariance, C, observation_covariance, ini_state, ini_state_cov, n_iter)\n",
        "    control_gain_lqg = lqg.get_control_gain_infinite(rho)\n",
        "\n",
        "    # Filtering\n",
        "    filter = KalmanFilter(D, transition_covariance, C, observation_covariance, ini_state, ini_state_cov)\n",
        "\n",
        "    filtered_state_means_impl = np.zeros([T, n_iter])\n",
        "    filtered_state_covariances_impl = np.zeros([T, n_iter])\n",
        "    measurement = np.zeros([T, n_iter])\n",
        "    action_cost = np.zeros([T, n_iter])\n",
        "\n",
        "    action = np.zeros(n_iter)\n",
        "    for t in range(1, T):\n",
        "      measurement[t] = lqg.step(action)\n",
        "\n",
        "      filter.get_estimate(measurement[t], action)\n",
        "\n",
        "      filtered_state_means_impl[t] = filter.prior.mean\n",
        "      filtered_state_covariances_impl = filter.prior.cov\n",
        "\n",
        "      action = control_gain_lqg * filter.prior.mean\n",
        "      action_cost[t] = rho * action**2\n",
        "\n",
        "    state_cost = lqg.latent_states**2\n",
        "\n",
        "    MSE_array_proc.append(np.cumsum(state_cost))\n",
        "    Jcontrol_array_proc.append(np.cumsum(action_cost))\n",
        "\n",
        "  MSE_array_proc = np.array(MSE_array_proc)\n",
        "  Jcontrol_array_proc = np.array(Jcontrol_array_proc)\n",
        "\n",
        "  # Try several measurement noises, but same proc var\n",
        "  MSE_array_meas = []\n",
        "  Jcontrol_array_meas = []\n",
        "\n",
        "  for meas_noise in meas_noise_array:\n",
        "    transition_covariance = process_noise_var\n",
        "    observation_covariance = meas_noise\n",
        "\n",
        "    # Controller\n",
        "    lqg = LQG(D, transition_covariance, C, observation_covariance, ini_state, ini_state_cov, n_iter)\n",
        "    control_gain_lqg = lqg.get_control_gain_infinite(rho)\n",
        "\n",
        "    # Filtering\n",
        "    filter = KalmanFilter(D, transition_covariance, C, observation_covariance, ini_state, ini_state_cov)\n",
        "\n",
        "    filtered_state_means_impl = np.zeros([T, n_iter])\n",
        "    filtered_state_covariances_impl = np.zeros([T, n_iter])\n",
        "    measurement = np.zeros([T, n_iter])\n",
        "    action_cost = np.zeros([T, n_iter])\n",
        "\n",
        "    action = np.zeros(n_iter)\n",
        "    for t in range(1, T):\n",
        "      measurement[t] = lqg.step(action)\n",
        "\n",
        "      filter.get_estimate(measurement[t], action)\n",
        "      filtered_state_means_impl[t] = filter.prior.mean\n",
        "      filtered_state_covariances_impl = filter.prior.cov\n",
        "\n",
        "      action = control_gain_lqg * filter.prior.mean\n",
        "      action_cost[t] = rho * action**2\n",
        "\n",
        "    state_cost = lqg.latent_states**2\n",
        "\n",
        "    MSE_array_meas.append(np.cumsum(state_cost))\n",
        "    Jcontrol_array_meas.append(np.cumsum(action_cost))\n",
        "\n",
        "  MSE_array_meas = np.array(MSE_array_meas)\n",
        "  Jcontrol_array_meas = np.array(Jcontrol_array_meas)\n",
        "\n",
        "  # Compute statistics\n",
        "  MSE_array_proc_mean = np.mean(np.array(MSE_array_proc), axis = 1)\n",
        "  MSE_array_proc_std = np.std(np.array(MSE_array_proc), axis = 1)\n",
        "  MSE_array_meas_mean = np.mean(np.array(MSE_array_meas), axis = 1)\n",
        "  MSE_array_meas_std = np.std(np.array(MSE_array_meas), axis = 1)\n",
        "\n",
        "  Jcontrol_array_proc_mean = np.mean(np.array(Jcontrol_array_proc), axis = 1)\n",
        "  Jcontrol_array_proc_std = np.std(np.array(Jcontrol_array_proc), axis = 1)\n",
        "  Jcontrol_array_meas_mean = np.mean(np.array(Jcontrol_array_meas), axis = 1)\n",
        "  Jcontrol_array_meas_std = np.std(np.array(Jcontrol_array_meas), axis = 1)\n",
        "\n",
        "  # Visualize the quantification\n",
        "  f, axs = plt.subplots(2, 2, sharex=True, sharey=True, figsize=(10, 8))\n",
        "\n",
        "  axs[0, 0].plot(proc_noise_array, MSE_array_proc_mean, 'r-')\n",
        "  axs[0, 0].fill_between(proc_noise_array,\n",
        "                        MSE_array_proc_mean+MSE_array_proc_std,\n",
        "                        MSE_array_proc_mean-MSE_array_proc_std,\n",
        "                        facecolor='tab:gray', alpha=0.5)\n",
        "  axs[0, 0].set_title('Effect of process noise')\n",
        "  axs[0, 0].set_ylabel('State Cost\\n(MSE between state and goal)')\n",
        "\n",
        "  axs[0, 1].plot(meas_noise_array, MSE_array_meas_mean, 'r-')\n",
        "  axs[0, 1].fill_between(meas_noise_array,\n",
        "                        MSE_array_meas_mean + MSE_array_meas_std,\n",
        "                        MSE_array_meas_mean - MSE_array_meas_std,\n",
        "                        facecolor='tab:gray', alpha=0.5)\n",
        "  axs[0, 1].set_title('Effect of measurement noise')\n",
        "\n",
        "  axs[1, 0].plot(proc_noise_array, Jcontrol_array_proc_mean, 'r-')\n",
        "  axs[1, 0].fill_between(proc_noise_array,\n",
        "                        Jcontrol_array_proc_mean + Jcontrol_array_proc_std,\n",
        "                        Jcontrol_array_proc_mean - Jcontrol_array_proc_std,\n",
        "                        facecolor='tab:gray', alpha=0.5)\n",
        "  axs[1, 0].set_xlabel('Process Noise')\n",
        "  axs[1, 0].set_ylabel('Cost of Control')\n",
        "\n",
        "  axs[1, 1].plot(meas_noise_array, Jcontrol_array_meas_mean, 'r-')\n",
        "  axs[1, 1].fill_between(meas_noise_array,\n",
        "                        Jcontrol_array_meas_mean + Jcontrol_array_meas_std,\n",
        "                        Jcontrol_array_meas_mean - Jcontrol_array_meas_std,\n",
        "                        facecolor='tab:gray', alpha=0.5)\n",
        "  axs[1, 1].set_xlabel('Measurement Noise')\n",
        "\n",
        "  plt.show()"
      ]
    },
    {
      "cell_type": "markdown",
      "metadata": {
        "execution": {},
        "id": "oI7NME_CKk7u"
      },
      "source": [
        "[*Click for solution*](https://github.com/NeuromatchAcademy/course-content/tree/main/tutorials/W3D3_OptimalControl/solutions/W3D3_Tutorial2_Solution_377b4dee.py)\n",
        "\n"
      ]
    },
    {
      "cell_type": "code",
      "execution_count": null,
      "metadata": {
        "cellView": "form",
        "execution": {},
        "id": "EaArhB8GKk7u"
      },
      "outputs": [],
      "source": [
        "# @title Submit your feedback\n",
        "content_review(f\"{feedback_prefix}_Noise_effects_on_the_LQG_Discussion\")"
      ]
    },
    {
      "cell_type": "markdown",
      "metadata": {
        "execution": {},
        "id": "KU7KkRrRKk7u"
      },
      "source": [
        "---\n",
        "# Summary\n",
        "\n",
        "In this tutorial, you have extended the idea of optimal policy to the Astrocat example. You have learned about how to design an optimal controller with a full observation of the state (linear quadratic regulator - LQR) and under partial observability of the state (linear quadratic gaussian - LQG)."
      ]
    }
  ],
  "metadata": {
    "colab": {
      "collapsed_sections": [
        "epMkHVHL7uo3"
      ],
      "name": "W3D3_Tutorial2",
      "provenance": [],
      "toc_visible": true,
      "include_colab_link": true
    },
    "kernel": {
      "display_name": "Python 3",
      "language": "python",
      "name": "python3"
    },
    "kernelspec": {
      "display_name": "Python 3",
      "language": "python",
      "name": "python3"
    },
    "language_info": {
      "codemirror_mode": {
        "name": "ipython",
        "version": 3
      },
      "file_extension": ".py",
      "mimetype": "text/x-python",
      "name": "python",
      "nbconvert_exporter": "python",
      "pygments_lexer": "ipython3",
      "version": "3.9.21"
    },
    "widgets": {
      "application/vnd.jupyter.widget-state+json": {
        "9e227db825774df1a00bd81ab56e857a": {
          "model_module": "@jupyter-widgets/controls",
          "model_name": "TabModel",
          "model_module_version": "1.5.0",
          "state": {
            "_dom_classes": [],
            "_model_module": "@jupyter-widgets/controls",
            "_model_module_version": "1.5.0",
            "_model_name": "TabModel",
            "_titles": {
              "0": "Youtube",
              "1": "Bilibili"
            },
            "_view_count": null,
            "_view_module": "@jupyter-widgets/controls",
            "_view_module_version": "1.5.0",
            "_view_name": "TabView",
            "box_style": "",
            "children": [
              "IPY_MODEL_0899bf06daae473eb87ead2fb9a496a2",
              "IPY_MODEL_9bfebfa9da674fb4a1cf3cf84d8737fb"
            ],
            "layout": "IPY_MODEL_69aab212d35d4b78a828ac9b9f1d8755",
            "selected_index": 0
          }
        },
        "0899bf06daae473eb87ead2fb9a496a2": {
          "model_module": "@jupyter-widgets/output",
          "model_name": "OutputModel",
          "model_module_version": "1.0.0",
          "state": {
            "_dom_classes": [],
            "_model_module": "@jupyter-widgets/output",
            "_model_module_version": "1.0.0",
            "_model_name": "OutputModel",
            "_view_count": null,
            "_view_module": "@jupyter-widgets/output",
            "_view_module_version": "1.0.0",
            "_view_name": "OutputView",
            "layout": "IPY_MODEL_a48bf4955e2b4b639cd37e385ebe7212",
            "msg_id": "",
            "outputs": [
              {
                "output_type": "stream",
                "name": "stdout",
                "text": [
                  "Video available at https://youtube.com/watch?v=MLUTR8z16jI\n"
                ]
              },
              {
                "output_type": "display_data",
                "data": {
                  "text/plain": "<IPython.lib.display.YouTubeVideo at 0x7d43faf6a290>",
                  "text/html": "\n        <iframe\n            width=\"854\"\n            height=\"480\"\n            src=\"https://www.youtube.com/embed/MLUTR8z16jI?fs=1&rel=0\"\n            frameborder=\"0\"\n            allowfullscreen\n            \n        ></iframe>\n        ",
                  "image/jpeg": "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\n"
                },
                "metadata": {}
              }
            ]
          }
        },
        "9bfebfa9da674fb4a1cf3cf84d8737fb": {
          "model_module": "@jupyter-widgets/output",
          "model_name": "OutputModel",
          "model_module_version": "1.0.0",
          "state": {
            "_dom_classes": [],
            "_model_module": "@jupyter-widgets/output",
            "_model_module_version": "1.0.0",
            "_model_name": "OutputModel",
            "_view_count": null,
            "_view_module": "@jupyter-widgets/output",
            "_view_module_version": "1.0.0",
            "_view_name": "OutputView",
            "layout": "IPY_MODEL_81dde7426f0c469c94fe2aa7738a44be",
            "msg_id": "",
            "outputs": [
              {
                "output_type": "stream",
                "name": "stdout",
                "text": [
                  "Video available at https://www.bilibili.com/video/BV1Zv411B7WV\n"
                ]
              },
              {
                "output_type": "display_data",
                "data": {
                  "text/plain": "<__main__.PlayVideo at 0x7d43fa433e50>",
                  "text/html": "\n        <iframe\n            width=\"854\"\n            height=\"480\"\n            src=\"https://player.bilibili.com/player.html?bvid=BV1Zv411B7WV&page=1?fs=1&autoplay=False\"\n            frameborder=\"0\"\n            allowfullscreen\n            \n        ></iframe>\n        "
                },
                "metadata": {}
              }
            ]
          }
        },
        "69aab212d35d4b78a828ac9b9f1d8755": {
          "model_module": "@jupyter-widgets/base",
          "model_name": "LayoutModel",
          "model_module_version": "1.2.0",
          "state": {
            "_model_module": "@jupyter-widgets/base",
            "_model_module_version": "1.2.0",
            "_model_name": "LayoutModel",
            "_view_count": null,
            "_view_module": "@jupyter-widgets/base",
            "_view_module_version": "1.2.0",
            "_view_name": "LayoutView",
            "align_content": null,
            "align_items": null,
            "align_self": null,
            "border": null,
            "bottom": null,
            "display": null,
            "flex": null,
            "flex_flow": null,
            "grid_area": null,
            "grid_auto_columns": null,
            "grid_auto_flow": null,
            "grid_auto_rows": null,
            "grid_column": null,
            "grid_gap": null,
            "grid_row": null,
            "grid_template_areas": null,
            "grid_template_columns": null,
            "grid_template_rows": null,
            "height": null,
            "justify_content": null,
            "justify_items": null,
            "left": null,
            "margin": null,
            "max_height": null,
            "max_width": null,
            "min_height": null,
            "min_width": null,
            "object_fit": null,
            "object_position": null,
            "order": null,
            "overflow": null,
            "overflow_x": null,
            "overflow_y": null,
            "padding": null,
            "right": null,
            "top": null,
            "visibility": null,
            "width": null
          }
        },
        "a48bf4955e2b4b639cd37e385ebe7212": {
          "model_module": "@jupyter-widgets/base",
          "model_name": "LayoutModel",
          "model_module_version": "1.2.0",
          "state": {
            "_model_module": "@jupyter-widgets/base",
            "_model_module_version": "1.2.0",
            "_model_name": "LayoutModel",
            "_view_count": null,
            "_view_module": "@jupyter-widgets/base",
            "_view_module_version": "1.2.0",
            "_view_name": "LayoutView",
            "align_content": null,
            "align_items": null,
            "align_self": null,
            "border": null,
            "bottom": null,
            "display": null,
            "flex": null,
            "flex_flow": null,
            "grid_area": null,
            "grid_auto_columns": null,
            "grid_auto_flow": null,
            "grid_auto_rows": null,
            "grid_column": null,
            "grid_gap": null,
            "grid_row": null,
            "grid_template_areas": null,
            "grid_template_columns": null,
            "grid_template_rows": null,
            "height": null,
            "justify_content": null,
            "justify_items": null,
            "left": null,
            "margin": null,
            "max_height": null,
            "max_width": null,
            "min_height": null,
            "min_width": null,
            "object_fit": null,
            "object_position": null,
            "order": null,
            "overflow": null,
            "overflow_x": null,
            "overflow_y": null,
            "padding": null,
            "right": null,
            "top": null,
            "visibility": null,
            "width": null
          }
        },
        "81dde7426f0c469c94fe2aa7738a44be": {
          "model_module": "@jupyter-widgets/base",
          "model_name": "LayoutModel",
          "model_module_version": "1.2.0",
          "state": {
            "_model_module": "@jupyter-widgets/base",
            "_model_module_version": "1.2.0",
            "_model_name": "LayoutModel",
            "_view_count": null,
            "_view_module": "@jupyter-widgets/base",
            "_view_module_version": "1.2.0",
            "_view_name": "LayoutView",
            "align_content": null,
            "align_items": null,
            "align_self": null,
            "border": null,
            "bottom": null,
            "display": null,
            "flex": null,
            "flex_flow": null,
            "grid_area": null,
            "grid_auto_columns": null,
            "grid_auto_flow": null,
            "grid_auto_rows": null,
            "grid_column": null,
            "grid_gap": null,
            "grid_row": null,
            "grid_template_areas": null,
            "grid_template_columns": null,
            "grid_template_rows": null,
            "height": null,
            "justify_content": null,
            "justify_items": null,
            "left": null,
            "margin": null,
            "max_height": null,
            "max_width": null,
            "min_height": null,
            "min_width": null,
            "object_fit": null,
            "object_position": null,
            "order": null,
            "overflow": null,
            "overflow_x": null,
            "overflow_y": null,
            "padding": null,
            "right": null,
            "top": null,
            "visibility": null,
            "width": null
          }
        },
        "9dfb5783bce14bb3ab27010890c520fa": {
          "model_module": "@jupyter-widgets/controls",
          "model_name": "VBoxModel",
          "model_module_version": "1.5.0",
          "state": {
            "_dom_classes": [],
            "_model_module": "@jupyter-widgets/controls",
            "_model_module_version": "1.5.0",
            "_model_name": "VBoxModel",
            "_view_count": null,
            "_view_module": "@jupyter-widgets/controls",
            "_view_module_version": "1.5.0",
            "_view_name": "VBoxView",
            "box_style": "",
            "children": [
              "IPY_MODEL_17c0aea33c6d483781f6b81668ea8cd5"
            ],
            "layout": "IPY_MODEL_40b4b1a85bbd45e7b4ded514332a0fa1"
          }
        },
        "17c0aea33c6d483781f6b81668ea8cd5": {
          "model_module": "@jupyter-widgets/controls",
          "model_name": "VBoxModel",
          "model_module_version": "1.5.0",
          "state": {
            "_dom_classes": [],
            "_model_module": "@jupyter-widgets/controls",
            "_model_module_version": "1.5.0",
            "_model_name": "VBoxModel",
            "_view_count": null,
            "_view_module": "@jupyter-widgets/controls",
            "_view_module_version": "1.5.0",
            "_view_name": "VBoxView",
            "box_style": "",
            "children": [
              "IPY_MODEL_f26bfb0d0687454fad5d65c0d7a48de8",
              "IPY_MODEL_d2615a60a04b4053b79e218e220cdeaf",
              "IPY_MODEL_e186210252a84ff6928cef448d5e5a37"
            ],
            "layout": "IPY_MODEL_7e9403edd79c4fcd920eb38f0768b8ff"
          }
        },
        "40b4b1a85bbd45e7b4ded514332a0fa1": {
          "model_module": "@jupyter-widgets/base",
          "model_name": "LayoutModel",
          "model_module_version": "1.2.0",
          "state": {
            "_model_module": "@jupyter-widgets/base",
            "_model_module_version": "1.2.0",
            "_model_name": "LayoutModel",
            "_view_count": null,
            "_view_module": "@jupyter-widgets/base",
            "_view_module_version": "1.2.0",
            "_view_name": "LayoutView",
            "align_content": null,
            "align_items": null,
            "align_self": null,
            "border": null,
            "bottom": null,
            "display": null,
            "flex": null,
            "flex_flow": null,
            "grid_area": null,
            "grid_auto_columns": null,
            "grid_auto_flow": null,
            "grid_auto_rows": null,
            "grid_column": null,
            "grid_gap": null,
            "grid_row": null,
            "grid_template_areas": null,
            "grid_template_columns": null,
            "grid_template_rows": null,
            "height": null,
            "justify_content": null,
            "justify_items": null,
            "left": null,
            "margin": null,
            "max_height": null,
            "max_width": null,
            "min_height": null,
            "min_width": null,
            "object_fit": null,
            "object_position": null,
            "order": null,
            "overflow": null,
            "overflow_x": null,
            "overflow_y": null,
            "padding": null,
            "right": null,
            "top": null,
            "visibility": null,
            "width": null
          }
        },
        "f26bfb0d0687454fad5d65c0d7a48de8": {
          "model_module": "@jupyter-widgets/controls",
          "model_name": "HBoxModel",
          "model_module_version": "1.5.0",
          "state": {
            "_dom_classes": [],
            "_model_module": "@jupyter-widgets/controls",
            "_model_module_version": "1.5.0",
            "_model_name": "HBoxModel",
            "_view_count": null,
            "_view_module": "@jupyter-widgets/controls",
            "_view_module_version": "1.5.0",
            "_view_name": "HBoxView",
            "box_style": "",
            "children": [
              "IPY_MODEL_9b374c7244d24cdea0c7ca44c043321c",
              "IPY_MODEL_e4478bc2497b46c8bf2307493f253b4d",
              "IPY_MODEL_01b391d5906c4ed38ee3ee8c32a00741"
            ],
            "layout": "IPY_MODEL_334b1d2939294fbab164752fa9ba2e1f"
          }
        },
        "d2615a60a04b4053b79e218e220cdeaf": {
          "model_module": "@jupyter-widgets/controls",
          "model_name": "HBoxModel",
          "model_module_version": "1.5.0",
          "state": {
            "_dom_classes": [],
            "_model_module": "@jupyter-widgets/controls",
            "_model_module_version": "1.5.0",
            "_model_name": "HBoxModel",
            "_view_count": null,
            "_view_module": "@jupyter-widgets/controls",
            "_view_module_version": "1.5.0",
            "_view_name": "HBoxView",
            "box_style": "",
            "children": [
              "IPY_MODEL_90fc11b62484497aa8f07a0764a8636d",
              "IPY_MODEL_c8aba904d1dd43c383a8a84dace9c54a"
            ],
            "layout": "IPY_MODEL_adf4ea4433ec4f1cbdd0a806218ac67d"
          }
        },
        "e186210252a84ff6928cef448d5e5a37": {
          "model_module": "@jupyter-widgets/controls",
          "model_name": "LabelModel",
          "model_module_version": "1.5.0",
          "state": {
            "_dom_classes": [],
            "_model_module": "@jupyter-widgets/controls",
            "_model_module_version": "1.5.0",
            "_model_name": "LabelModel",
            "_view_count": null,
            "_view_module": "@jupyter-widgets/controls",
            "_view_module_version": "1.5.0",
            "_view_name": "LabelView",
            "description": "",
            "description_tooltip": null,
            "layout": "IPY_MODEL_45357c858d4c4d4d93ab42b8554c7a6b",
            "placeholder": "​",
            "style": "IPY_MODEL_30c994ecdcda4bd3b8182029315ea93d",
            "value": "Thanks for your feedback!"
          }
        },
        "7e9403edd79c4fcd920eb38f0768b8ff": {
          "model_module": "@jupyter-widgets/base",
          "model_name": "LayoutModel",
          "model_module_version": "1.2.0",
          "state": {
            "_model_module": "@jupyter-widgets/base",
            "_model_module_version": "1.2.0",
            "_model_name": "LayoutModel",
            "_view_count": null,
            "_view_module": "@jupyter-widgets/base",
            "_view_module_version": "1.2.0",
            "_view_name": "LayoutView",
            "align_content": null,
            "align_items": null,
            "align_self": null,
            "border": null,
            "bottom": null,
            "display": null,
            "flex": null,
            "flex_flow": null,
            "grid_area": null,
            "grid_auto_columns": null,
            "grid_auto_flow": null,
            "grid_auto_rows": null,
            "grid_column": null,
            "grid_gap": null,
            "grid_row": null,
            "grid_template_areas": null,
            "grid_template_columns": null,
            "grid_template_rows": null,
            "height": null,
            "justify_content": null,
            "justify_items": null,
            "left": null,
            "margin": null,
            "max_height": null,
            "max_width": null,
            "min_height": null,
            "min_width": null,
            "object_fit": null,
            "object_position": null,
            "order": null,
            "overflow": null,
            "overflow_x": null,
            "overflow_y": null,
            "padding": null,
            "right": null,
            "top": null,
            "visibility": null,
            "width": null
          }
        },
        "9b374c7244d24cdea0c7ca44c043321c": {
          "model_module": "@jupyter-widgets/controls",
          "model_name": "ButtonModel",
          "model_module_version": "1.5.0",
          "state": {
            "_dom_classes": [
              "happy"
            ],
            "_model_module": "@jupyter-widgets/controls",
            "_model_module_version": "1.5.0",
            "_model_name": "ButtonModel",
            "_view_count": null,
            "_view_module": "@jupyter-widgets/controls",
            "_view_module_version": "1.5.0",
            "_view_name": "ButtonView",
            "button_style": "",
            "description": "🙂",
            "disabled": false,
            "icon": "",
            "layout": "IPY_MODEL_0b858774adeb41dbb4e27ac99b833cb5",
            "style": "IPY_MODEL_5a0e2da441244dd79fa4f9f5a9c6e86e",
            "tooltip": "happy"
          }
        },
        "e4478bc2497b46c8bf2307493f253b4d": {
          "model_module": "@jupyter-widgets/controls",
          "model_name": "ButtonModel",
          "model_module_version": "1.5.0",
          "state": {
            "_dom_classes": [
              "medium"
            ],
            "_model_module": "@jupyter-widgets/controls",
            "_model_module_version": "1.5.0",
            "_model_name": "ButtonModel",
            "_view_count": null,
            "_view_module": "@jupyter-widgets/controls",
            "_view_module_version": "1.5.0",
            "_view_name": "ButtonView",
            "button_style": "",
            "description": "😐",
            "disabled": false,
            "icon": "",
            "layout": "IPY_MODEL_65f6a6e549554fb08712ce7c1e1fe538",
            "style": "IPY_MODEL_598d04feeac243188d58319b5b05eeeb",
            "tooltip": "medium"
          }
        },
        "01b391d5906c4ed38ee3ee8c32a00741": {
          "model_module": "@jupyter-widgets/controls",
          "model_name": "ButtonModel",
          "model_module_version": "1.5.0",
          "state": {
            "_dom_classes": [
              "sad"
            ],
            "_model_module": "@jupyter-widgets/controls",
            "_model_module_version": "1.5.0",
            "_model_name": "ButtonModel",
            "_view_count": null,
            "_view_module": "@jupyter-widgets/controls",
            "_view_module_version": "1.5.0",
            "_view_name": "ButtonView",
            "button_style": "",
            "description": "🙁",
            "disabled": false,
            "icon": "",
            "layout": "IPY_MODEL_92b98a32b2a549ecbe2fc884fc4c436f",
            "style": "IPY_MODEL_11b0f958248c4fee98b5a13403b4e090",
            "tooltip": "sad"
          }
        },
        "334b1d2939294fbab164752fa9ba2e1f": {
          "model_module": "@jupyter-widgets/base",
          "model_name": "LayoutModel",
          "model_module_version": "1.2.0",
          "state": {
            "_model_module": "@jupyter-widgets/base",
            "_model_module_version": "1.2.0",
            "_model_name": "LayoutModel",
            "_view_count": null,
            "_view_module": "@jupyter-widgets/base",
            "_view_module_version": "1.2.0",
            "_view_name": "LayoutView",
            "align_content": null,
            "align_items": null,
            "align_self": null,
            "border": null,
            "bottom": null,
            "display": null,
            "flex": null,
            "flex_flow": null,
            "grid_area": null,
            "grid_auto_columns": null,
            "grid_auto_flow": null,
            "grid_auto_rows": null,
            "grid_column": null,
            "grid_gap": null,
            "grid_row": null,
            "grid_template_areas": null,
            "grid_template_columns": null,
            "grid_template_rows": null,
            "height": null,
            "justify_content": null,
            "justify_items": null,
            "left": null,
            "margin": null,
            "max_height": null,
            "max_width": null,
            "min_height": null,
            "min_width": null,
            "object_fit": null,
            "object_position": null,
            "order": null,
            "overflow": null,
            "overflow_x": null,
            "overflow_y": null,
            "padding": null,
            "right": null,
            "top": null,
            "visibility": null,
            "width": null
          }
        },
        "90fc11b62484497aa8f07a0764a8636d": {
          "model_module": "@jupyter-widgets/controls",
          "model_name": "TextareaModel",
          "model_module_version": "1.5.0",
          "state": {
            "_dom_classes": [],
            "_model_module": "@jupyter-widgets/controls",
            "_model_module_version": "1.5.0",
            "_model_name": "TextareaModel",
            "_view_count": null,
            "_view_module": "@jupyter-widgets/controls",
            "_view_module_version": "1.5.0",
            "_view_name": "TextareaView",
            "continuous_update": true,
            "description": "",
            "description_tooltip": null,
            "disabled": false,
            "layout": "IPY_MODEL_97d45408a1bb41e18d1548a280be397a",
            "placeholder": "We want your feedback!",
            "rows": null,
            "style": "IPY_MODEL_eddced79a4fe44a5bac56575826d21a0",
            "value": ""
          }
        },
        "c8aba904d1dd43c383a8a84dace9c54a": {
          "model_module": "@jupyter-widgets/controls",
          "model_name": "ButtonModel",
          "model_module_version": "1.5.0",
          "state": {
            "_dom_classes": [],
            "_model_module": "@jupyter-widgets/controls",
            "_model_module_version": "1.5.0",
            "_model_name": "ButtonModel",
            "_view_count": null,
            "_view_module": "@jupyter-widgets/controls",
            "_view_module_version": "1.5.0",
            "_view_name": "ButtonView",
            "button_style": "",
            "description": "Submit",
            "disabled": false,
            "icon": "",
            "layout": "IPY_MODEL_d8ee889b438849199b614a266ba130e2",
            "style": "IPY_MODEL_c2dac7d83a804bca81b81ecf1b83b814",
            "tooltip": ""
          }
        },
        "adf4ea4433ec4f1cbdd0a806218ac67d": {
          "model_module": "@jupyter-widgets/base",
          "model_name": "LayoutModel",
          "model_module_version": "1.2.0",
          "state": {
            "_model_module": "@jupyter-widgets/base",
            "_model_module_version": "1.2.0",
            "_model_name": "LayoutModel",
            "_view_count": null,
            "_view_module": "@jupyter-widgets/base",
            "_view_module_version": "1.2.0",
            "_view_name": "LayoutView",
            "align_content": null,
            "align_items": null,
            "align_self": null,
            "border": null,
            "bottom": null,
            "display": "none",
            "flex": null,
            "flex_flow": null,
            "grid_area": null,
            "grid_auto_columns": null,
            "grid_auto_flow": null,
            "grid_auto_rows": null,
            "grid_column": null,
            "grid_gap": null,
            "grid_row": null,
            "grid_template_areas": null,
            "grid_template_columns": null,
            "grid_template_rows": null,
            "height": null,
            "justify_content": null,
            "justify_items": null,
            "left": null,
            "margin": null,
            "max_height": null,
            "max_width": null,
            "min_height": null,
            "min_width": null,
            "object_fit": null,
            "object_position": null,
            "order": null,
            "overflow": null,
            "overflow_x": null,
            "overflow_y": null,
            "padding": null,
            "right": null,
            "top": null,
            "visibility": null,
            "width": null
          }
        },
        "45357c858d4c4d4d93ab42b8554c7a6b": {
          "model_module": "@jupyter-widgets/base",
          "model_name": "LayoutModel",
          "model_module_version": "1.2.0",
          "state": {
            "_model_module": "@jupyter-widgets/base",
            "_model_module_version": "1.2.0",
            "_model_name": "LayoutModel",
            "_view_count": null,
            "_view_module": "@jupyter-widgets/base",
            "_view_module_version": "1.2.0",
            "_view_name": "LayoutView",
            "align_content": null,
            "align_items": null,
            "align_self": null,
            "border": null,
            "bottom": null,
            "display": "none",
            "flex": null,
            "flex_flow": null,
            "grid_area": null,
            "grid_auto_columns": null,
            "grid_auto_flow": null,
            "grid_auto_rows": null,
            "grid_column": null,
            "grid_gap": null,
            "grid_row": null,
            "grid_template_areas": null,
            "grid_template_columns": null,
            "grid_template_rows": null,
            "height": null,
            "justify_content": null,
            "justify_items": null,
            "left": null,
            "margin": null,
            "max_height": null,
            "max_width": null,
            "min_height": null,
            "min_width": null,
            "object_fit": null,
            "object_position": null,
            "order": null,
            "overflow": null,
            "overflow_x": null,
            "overflow_y": null,
            "padding": null,
            "right": null,
            "top": null,
            "visibility": null,
            "width": null
          }
        },
        "30c994ecdcda4bd3b8182029315ea93d": {
          "model_module": "@jupyter-widgets/controls",
          "model_name": "DescriptionStyleModel",
          "model_module_version": "1.5.0",
          "state": {
            "_model_module": "@jupyter-widgets/controls",
            "_model_module_version": "1.5.0",
            "_model_name": "DescriptionStyleModel",
            "_view_count": null,
            "_view_module": "@jupyter-widgets/base",
            "_view_module_version": "1.2.0",
            "_view_name": "StyleView",
            "description_width": ""
          }
        },
        "0b858774adeb41dbb4e27ac99b833cb5": {
          "model_module": "@jupyter-widgets/base",
          "model_name": "LayoutModel",
          "model_module_version": "1.2.0",
          "state": {
            "_model_module": "@jupyter-widgets/base",
            "_model_module_version": "1.2.0",
            "_model_name": "LayoutModel",
            "_view_count": null,
            "_view_module": "@jupyter-widgets/base",
            "_view_module_version": "1.2.0",
            "_view_name": "LayoutView",
            "align_content": null,
            "align_items": null,
            "align_self": null,
            "border": null,
            "bottom": null,
            "display": null,
            "flex": null,
            "flex_flow": null,
            "grid_area": null,
            "grid_auto_columns": null,
            "grid_auto_flow": null,
            "grid_auto_rows": null,
            "grid_column": null,
            "grid_gap": null,
            "grid_row": null,
            "grid_template_areas": null,
            "grid_template_columns": null,
            "grid_template_rows": null,
            "height": "auto",
            "justify_content": null,
            "justify_items": null,
            "left": null,
            "margin": null,
            "max_height": null,
            "max_width": null,
            "min_height": null,
            "min_width": null,
            "object_fit": null,
            "object_position": null,
            "order": null,
            "overflow": null,
            "overflow_x": null,
            "overflow_y": null,
            "padding": "0.5em",
            "right": null,
            "top": null,
            "visibility": null,
            "width": "auto"
          }
        },
        "5a0e2da441244dd79fa4f9f5a9c6e86e": {
          "model_module": "@jupyter-widgets/controls",
          "model_name": "ButtonStyleModel",
          "model_module_version": "1.5.0",
          "state": {
            "_model_module": "@jupyter-widgets/controls",
            "_model_module_version": "1.5.0",
            "_model_name": "ButtonStyleModel",
            "_view_count": null,
            "_view_module": "@jupyter-widgets/base",
            "_view_module_version": "1.2.0",
            "_view_name": "StyleView",
            "button_color": "#aaffaa",
            "font_weight": ""
          }
        },
        "65f6a6e549554fb08712ce7c1e1fe538": {
          "model_module": "@jupyter-widgets/base",
          "model_name": "LayoutModel",
          "model_module_version": "1.2.0",
          "state": {
            "_model_module": "@jupyter-widgets/base",
            "_model_module_version": "1.2.0",
            "_model_name": "LayoutModel",
            "_view_count": null,
            "_view_module": "@jupyter-widgets/base",
            "_view_module_version": "1.2.0",
            "_view_name": "LayoutView",
            "align_content": null,
            "align_items": null,
            "align_self": null,
            "border": null,
            "bottom": null,
            "display": null,
            "flex": null,
            "flex_flow": null,
            "grid_area": null,
            "grid_auto_columns": null,
            "grid_auto_flow": null,
            "grid_auto_rows": null,
            "grid_column": null,
            "grid_gap": null,
            "grid_row": null,
            "grid_template_areas": null,
            "grid_template_columns": null,
            "grid_template_rows": null,
            "height": "auto",
            "justify_content": null,
            "justify_items": null,
            "left": null,
            "margin": null,
            "max_height": null,
            "max_width": null,
            "min_height": null,
            "min_width": null,
            "object_fit": null,
            "object_position": null,
            "order": null,
            "overflow": null,
            "overflow_x": null,
            "overflow_y": null,
            "padding": "0.5em",
            "right": null,
            "top": null,
            "visibility": null,
            "width": "auto"
          }
        },
        "598d04feeac243188d58319b5b05eeeb": {
          "model_module": "@jupyter-widgets/controls",
          "model_name": "ButtonStyleModel",
          "model_module_version": "1.5.0",
          "state": {
            "_model_module": "@jupyter-widgets/controls",
            "_model_module_version": "1.5.0",
            "_model_name": "ButtonStyleModel",
            "_view_count": null,
            "_view_module": "@jupyter-widgets/base",
            "_view_module_version": "1.2.0",
            "_view_name": "StyleView",
            "button_color": "#dddd77",
            "font_weight": ""
          }
        },
        "92b98a32b2a549ecbe2fc884fc4c436f": {
          "model_module": "@jupyter-widgets/base",
          "model_name": "LayoutModel",
          "model_module_version": "1.2.0",
          "state": {
            "_model_module": "@jupyter-widgets/base",
            "_model_module_version": "1.2.0",
            "_model_name": "LayoutModel",
            "_view_count": null,
            "_view_module": "@jupyter-widgets/base",
            "_view_module_version": "1.2.0",
            "_view_name": "LayoutView",
            "align_content": null,
            "align_items": null,
            "align_self": null,
            "border": null,
            "bottom": null,
            "display": null,
            "flex": null,
            "flex_flow": null,
            "grid_area": null,
            "grid_auto_columns": null,
            "grid_auto_flow": null,
            "grid_auto_rows": null,
            "grid_column": null,
            "grid_gap": null,
            "grid_row": null,
            "grid_template_areas": null,
            "grid_template_columns": null,
            "grid_template_rows": null,
            "height": "auto",
            "justify_content": null,
            "justify_items": null,
            "left": null,
            "margin": null,
            "max_height": null,
            "max_width": null,
            "min_height": null,
            "min_width": null,
            "object_fit": null,
            "object_position": null,
            "order": null,
            "overflow": null,
            "overflow_x": null,
            "overflow_y": null,
            "padding": "0.5em",
            "right": null,
            "top": null,
            "visibility": null,
            "width": "auto"
          }
        },
        "11b0f958248c4fee98b5a13403b4e090": {
          "model_module": "@jupyter-widgets/controls",
          "model_name": "ButtonStyleModel",
          "model_module_version": "1.5.0",
          "state": {
            "_model_module": "@jupyter-widgets/controls",
            "_model_module_version": "1.5.0",
            "_model_name": "ButtonStyleModel",
            "_view_count": null,
            "_view_module": "@jupyter-widgets/base",
            "_view_module_version": "1.2.0",
            "_view_name": "StyleView",
            "button_color": "#ffaaaa",
            "font_weight": ""
          }
        },
        "97d45408a1bb41e18d1548a280be397a": {
          "model_module": "@jupyter-widgets/base",
          "model_name": "LayoutModel",
          "model_module_version": "1.2.0",
          "state": {
            "_model_module": "@jupyter-widgets/base",
            "_model_module_version": "1.2.0",
            "_model_name": "LayoutModel",
            "_view_count": null,
            "_view_module": "@jupyter-widgets/base",
            "_view_module_version": "1.2.0",
            "_view_name": "LayoutView",
            "align_content": null,
            "align_items": null,
            "align_self": null,
            "border": null,
            "bottom": null,
            "display": null,
            "flex": null,
            "flex_flow": null,
            "grid_area": null,
            "grid_auto_columns": null,
            "grid_auto_flow": null,
            "grid_auto_rows": null,
            "grid_column": null,
            "grid_gap": null,
            "grid_row": null,
            "grid_template_areas": null,
            "grid_template_columns": null,
            "grid_template_rows": null,
            "height": "auto",
            "justify_content": null,
            "justify_items": null,
            "left": null,
            "margin": null,
            "max_height": null,
            "max_width": null,
            "min_height": null,
            "min_width": null,
            "object_fit": null,
            "object_position": null,
            "order": null,
            "overflow": null,
            "overflow_x": null,
            "overflow_y": null,
            "padding": null,
            "right": null,
            "top": null,
            "visibility": null,
            "width": "auto"
          }
        },
        "eddced79a4fe44a5bac56575826d21a0": {
          "model_module": "@jupyter-widgets/controls",
          "model_name": "DescriptionStyleModel",
          "model_module_version": "1.5.0",
          "state": {
            "_model_module": "@jupyter-widgets/controls",
            "_model_module_version": "1.5.0",
            "_model_name": "DescriptionStyleModel",
            "_view_count": null,
            "_view_module": "@jupyter-widgets/base",
            "_view_module_version": "1.2.0",
            "_view_name": "StyleView",
            "description_width": ""
          }
        },
        "d8ee889b438849199b614a266ba130e2": {
          "model_module": "@jupyter-widgets/base",
          "model_name": "LayoutModel",
          "model_module_version": "1.2.0",
          "state": {
            "_model_module": "@jupyter-widgets/base",
            "_model_module_version": "1.2.0",
            "_model_name": "LayoutModel",
            "_view_count": null,
            "_view_module": "@jupyter-widgets/base",
            "_view_module_version": "1.2.0",
            "_view_name": "LayoutView",
            "align_content": null,
            "align_items": null,
            "align_self": null,
            "border": null,
            "bottom": null,
            "display": null,
            "flex": null,
            "flex_flow": null,
            "grid_area": null,
            "grid_auto_columns": null,
            "grid_auto_flow": null,
            "grid_auto_rows": null,
            "grid_column": null,
            "grid_gap": null,
            "grid_row": null,
            "grid_template_areas": null,
            "grid_template_columns": null,
            "grid_template_rows": null,
            "height": "auto",
            "justify_content": null,
            "justify_items": null,
            "left": null,
            "margin": null,
            "max_height": null,
            "max_width": null,
            "min_height": null,
            "min_width": null,
            "object_fit": null,
            "object_position": null,
            "order": null,
            "overflow": null,
            "overflow_x": null,
            "overflow_y": null,
            "padding": null,
            "right": null,
            "top": null,
            "visibility": null,
            "width": "auto"
          }
        },
        "c2dac7d83a804bca81b81ecf1b83b814": {
          "model_module": "@jupyter-widgets/controls",
          "model_name": "ButtonStyleModel",
          "model_module_version": "1.5.0",
          "state": {
            "_model_module": "@jupyter-widgets/controls",
            "_model_module_version": "1.5.0",
            "_model_name": "ButtonStyleModel",
            "_view_count": null,
            "_view_module": "@jupyter-widgets/base",
            "_view_module_version": "1.2.0",
            "_view_name": "StyleView",
            "button_color": null,
            "font_weight": ""
          }
        },
        "df85612b386a4ec9b23006dd55fab29b": {
          "model_module": "@jupyter-widgets/controls",
          "model_name": "VBoxModel",
          "model_module_version": "1.5.0",
          "state": {
            "_dom_classes": [
              "widget-interact"
            ],
            "_model_module": "@jupyter-widgets/controls",
            "_model_module_version": "1.5.0",
            "_model_name": "VBoxModel",
            "_view_count": null,
            "_view_module": "@jupyter-widgets/controls",
            "_view_module_version": "1.5.0",
            "_view_name": "VBoxView",
            "box_style": "",
            "children": [
              "IPY_MODEL_2f40e2b6e9774986bce13cdd9637fe90",
              "IPY_MODEL_f7e781a1a1b44ac0851a03ddfe71baa7",
              "IPY_MODEL_53ae7bd8f52d477ebd8ce646f830d56d",
              "IPY_MODEL_db3afbb45e674f718c54dda80b5570ac",
              "IPY_MODEL_88770d62a17b4612928a3b6f850ccf00",
              "IPY_MODEL_543f550e88be4a6e9000ef07120c3bbc",
              "IPY_MODEL_a1b2848323c54284aeed43b953392fd0"
            ],
            "layout": "IPY_MODEL_fbabe0592e334f70bbae6e93850f72c5"
          }
        },
        "2f40e2b6e9774986bce13cdd9637fe90": {
          "model_module": "@jupyter-widgets/controls",
          "model_name": "FloatSliderModel",
          "model_module_version": "1.5.0",
          "state": {
            "_dom_classes": [],
            "_model_module": "@jupyter-widgets/controls",
            "_model_module_version": "1.5.0",
            "_model_name": "FloatSliderModel",
            "_view_count": null,
            "_view_module": "@jupyter-widgets/controls",
            "_view_module_version": "1.5.0",
            "_view_name": "FloatSliderView",
            "continuous_update": true,
            "description": "D",
            "description_tooltip": null,
            "disabled": false,
            "layout": "IPY_MODEL_02d00365db6e4bf6a9ba0ad630647c86",
            "max": 1.05,
            "min": 0.85,
            "orientation": "horizontal",
            "readout": true,
            "readout_format": ".2f",
            "step": 0.1,
            "style": "IPY_MODEL_b89153ce0f7a4ffcaac6304060ab48bb",
            "value": 0.95
          }
        },
        "f7e781a1a1b44ac0851a03ddfe71baa7": {
          "model_module": "@jupyter-widgets/controls",
          "model_name": "FloatSliderModel",
          "model_module_version": "1.5.0",
          "state": {
            "_dom_classes": [],
            "_model_module": "@jupyter-widgets/controls",
            "_model_module_version": "1.5.0",
            "_model_name": "FloatSliderModel",
            "_view_count": null,
            "_view_module": "@jupyter-widgets/controls",
            "_view_module_version": "1.5.0",
            "_view_name": "FloatSliderView",
            "continuous_update": true,
            "description": "L",
            "description_tooltip": null,
            "disabled": false,
            "layout": "IPY_MODEL_ccb8cfa2dcea49718116ac0fb049536a",
            "max": 0,
            "min": -0.6,
            "orientation": "horizontal",
            "readout": true,
            "readout_format": ".2f",
            "step": 0.1,
            "style": "IPY_MODEL_7d81b9470d9e4652a8420feb87abbbbf",
            "value": -0.4
          }
        },
        "53ae7bd8f52d477ebd8ce646f830d56d": {
          "model_module": "@jupyter-widgets/controls",
          "model_name": "FloatSliderModel",
          "model_module_version": "1.5.0",
          "state": {
            "_dom_classes": [],
            "_model_module": "@jupyter-widgets/controls",
            "_model_module_version": "1.5.0",
            "_model_name": "FloatSliderModel",
            "_view_count": null,
            "_view_module": "@jupyter-widgets/controls",
            "_view_module_version": "1.5.0",
            "_view_name": "FloatSliderView",
            "continuous_update": true,
            "description": "a",
            "description_tooltip": null,
            "disabled": false,
            "layout": "IPY_MODEL_33b3c47150cb4f44ac4c65299141445e",
            "max": 1,
            "min": -2,
            "orientation": "horizontal",
            "readout": true,
            "readout_format": ".2f",
            "step": 0.1,
            "style": "IPY_MODEL_6f1ae1fc06e4450a8303bf03a9b1fd54",
            "value": -1
          }
        },
        "db3afbb45e674f718c54dda80b5570ac": {
          "model_module": "@jupyter-widgets/controls",
          "model_name": "FloatSliderModel",
          "model_module_version": "1.5.0",
          "state": {
            "_dom_classes": [],
            "_model_module": "@jupyter-widgets/controls",
            "_model_module_version": "1.5.0",
            "_model_name": "FloatSliderModel",
            "_view_count": null,
            "_view_module": "@jupyter-widgets/controls",
            "_view_module_version": "1.5.0",
            "_view_name": "FloatSliderView",
            "continuous_update": true,
            "description": "B",
            "description_tooltip": null,
            "disabled": false,
            "layout": "IPY_MODEL_42ddda2c44224ccc93bb779d6225a875",
            "max": 3,
            "min": 1,
            "orientation": "horizontal",
            "readout": true,
            "readout_format": ".2f",
            "step": 0.1,
            "style": "IPY_MODEL_5f98c2b4c19e4c14987253be00822519",
            "value": 1.8
          }
        },
        "88770d62a17b4612928a3b6f850ccf00": {
          "model_module": "@jupyter-widgets/controls",
          "model_name": "FloatSliderModel",
          "model_module_version": "1.5.0",
          "state": {
            "_dom_classes": [],
            "_model_module": "@jupyter-widgets/controls",
            "_model_module_version": "1.5.0",
            "_model_name": "FloatSliderModel",
            "_view_count": null,
            "_view_module": "@jupyter-widgets/controls",
            "_view_module_version": "1.5.0",
            "_view_name": "FloatSliderView",
            "continuous_update": true,
            "description": "noise_var",
            "description_tooltip": null,
            "disabled": false,
            "layout": "IPY_MODEL_3d221dba3ca74a528f50bd5837cbce33",
            "max": 0.2,
            "min": 0,
            "orientation": "horizontal",
            "readout": true,
            "readout_format": ".2f",
            "step": 0.1,
            "style": "IPY_MODEL_8524de9fed4949d39a0dbc8ccd0d29ba",
            "value": 0.1
          }
        },
        "543f550e88be4a6e9000ef07120c3bbc": {
          "model_module": "@jupyter-widgets/controls",
          "model_name": "FloatSliderModel",
          "model_module_version": "1.5.0",
          "state": {
            "_dom_classes": [],
            "_model_module": "@jupyter-widgets/controls",
            "_model_module_version": "1.5.0",
            "_model_name": "FloatSliderModel",
            "_view_count": null,
            "_view_module": "@jupyter-widgets/controls",
            "_view_module_version": "1.5.0",
            "_view_name": "FloatSliderView",
            "continuous_update": true,
            "description": "ini_state",
            "description_tooltip": null,
            "disabled": false,
            "layout": "IPY_MODEL_d3e8d02a14924098bedc747a60511771",
            "max": 10,
            "min": 2,
            "orientation": "horizontal",
            "readout": true,
            "readout_format": ".2f",
            "step": 0.1,
            "style": "IPY_MODEL_885fd188bc38498c8cb503a6961d7e01",
            "value": 2
          }
        },
        "a1b2848323c54284aeed43b953392fd0": {
          "model_module": "@jupyter-widgets/output",
          "model_name": "OutputModel",
          "model_module_version": "1.0.0",
          "state": {
            "_dom_classes": [],
            "_model_module": "@jupyter-widgets/output",
            "_model_module_version": "1.0.0",
            "_model_name": "OutputModel",
            "_view_count": null,
            "_view_module": "@jupyter-widgets/output",
            "_view_module_version": "1.0.0",
            "_view_name": "OutputView",
            "layout": "IPY_MODEL_d92bda737ca64a9a80fcff7b7e3a786d",
            "msg_id": "",
            "outputs": [
              {
                "output_type": "display_data",
                "data": {
                  "text/plain": "<Figure size 1000x600 with 1 Axes>",
                  "image/png": "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\n"
                },
                "metadata": {
                  "image/png": {
                    "width": 975,
                    "height": 575
                  }
                }
              }
            ]
          }
        },
        "fbabe0592e334f70bbae6e93850f72c5": {
          "model_module": "@jupyter-widgets/base",
          "model_name": "LayoutModel",
          "model_module_version": "1.2.0",
          "state": {
            "_model_module": "@jupyter-widgets/base",
            "_model_module_version": "1.2.0",
            "_model_name": "LayoutModel",
            "_view_count": null,
            "_view_module": "@jupyter-widgets/base",
            "_view_module_version": "1.2.0",
            "_view_name": "LayoutView",
            "align_content": null,
            "align_items": null,
            "align_self": null,
            "border": null,
            "bottom": null,
            "display": null,
            "flex": null,
            "flex_flow": null,
            "grid_area": null,
            "grid_auto_columns": null,
            "grid_auto_flow": null,
            "grid_auto_rows": null,
            "grid_column": null,
            "grid_gap": null,
            "grid_row": null,
            "grid_template_areas": null,
            "grid_template_columns": null,
            "grid_template_rows": null,
            "height": null,
            "justify_content": null,
            "justify_items": null,
            "left": null,
            "margin": null,
            "max_height": null,
            "max_width": null,
            "min_height": null,
            "min_width": null,
            "object_fit": null,
            "object_position": null,
            "order": null,
            "overflow": null,
            "overflow_x": null,
            "overflow_y": null,
            "padding": null,
            "right": null,
            "top": null,
            "visibility": null,
            "width": null
          }
        },
        "02d00365db6e4bf6a9ba0ad630647c86": {
          "model_module": "@jupyter-widgets/base",
          "model_name": "LayoutModel",
          "model_module_version": "1.2.0",
          "state": {
            "_model_module": "@jupyter-widgets/base",
            "_model_module_version": "1.2.0",
            "_model_name": "LayoutModel",
            "_view_count": null,
            "_view_module": "@jupyter-widgets/base",
            "_view_module_version": "1.2.0",
            "_view_name": "LayoutView",
            "align_content": null,
            "align_items": null,
            "align_self": null,
            "border": null,
            "bottom": null,
            "display": null,
            "flex": null,
            "flex_flow": null,
            "grid_area": null,
            "grid_auto_columns": null,
            "grid_auto_flow": null,
            "grid_auto_rows": null,
            "grid_column": null,
            "grid_gap": null,
            "grid_row": null,
            "grid_template_areas": null,
            "grid_template_columns": null,
            "grid_template_rows": null,
            "height": null,
            "justify_content": null,
            "justify_items": null,
            "left": null,
            "margin": null,
            "max_height": null,
            "max_width": null,
            "min_height": null,
            "min_width": null,
            "object_fit": null,
            "object_position": null,
            "order": null,
            "overflow": null,
            "overflow_x": null,
            "overflow_y": null,
            "padding": null,
            "right": null,
            "top": null,
            "visibility": null,
            "width": null
          }
        },
        "b89153ce0f7a4ffcaac6304060ab48bb": {
          "model_module": "@jupyter-widgets/controls",
          "model_name": "SliderStyleModel",
          "model_module_version": "1.5.0",
          "state": {
            "_model_module": "@jupyter-widgets/controls",
            "_model_module_version": "1.5.0",
            "_model_name": "SliderStyleModel",
            "_view_count": null,
            "_view_module": "@jupyter-widgets/base",
            "_view_module_version": "1.2.0",
            "_view_name": "StyleView",
            "description_width": "",
            "handle_color": null
          }
        },
        "ccb8cfa2dcea49718116ac0fb049536a": {
          "model_module": "@jupyter-widgets/base",
          "model_name": "LayoutModel",
          "model_module_version": "1.2.0",
          "state": {
            "_model_module": "@jupyter-widgets/base",
            "_model_module_version": "1.2.0",
            "_model_name": "LayoutModel",
            "_view_count": null,
            "_view_module": "@jupyter-widgets/base",
            "_view_module_version": "1.2.0",
            "_view_name": "LayoutView",
            "align_content": null,
            "align_items": null,
            "align_self": null,
            "border": null,
            "bottom": null,
            "display": null,
            "flex": null,
            "flex_flow": null,
            "grid_area": null,
            "grid_auto_columns": null,
            "grid_auto_flow": null,
            "grid_auto_rows": null,
            "grid_column": null,
            "grid_gap": null,
            "grid_row": null,
            "grid_template_areas": null,
            "grid_template_columns": null,
            "grid_template_rows": null,
            "height": null,
            "justify_content": null,
            "justify_items": null,
            "left": null,
            "margin": null,
            "max_height": null,
            "max_width": null,
            "min_height": null,
            "min_width": null,
            "object_fit": null,
            "object_position": null,
            "order": null,
            "overflow": null,
            "overflow_x": null,
            "overflow_y": null,
            "padding": null,
            "right": null,
            "top": null,
            "visibility": null,
            "width": null
          }
        },
        "7d81b9470d9e4652a8420feb87abbbbf": {
          "model_module": "@jupyter-widgets/controls",
          "model_name": "SliderStyleModel",
          "model_module_version": "1.5.0",
          "state": {
            "_model_module": "@jupyter-widgets/controls",
            "_model_module_version": "1.5.0",
            "_model_name": "SliderStyleModel",
            "_view_count": null,
            "_view_module": "@jupyter-widgets/base",
            "_view_module_version": "1.2.0",
            "_view_name": "StyleView",
            "description_width": "",
            "handle_color": null
          }
        },
        "33b3c47150cb4f44ac4c65299141445e": {
          "model_module": "@jupyter-widgets/base",
          "model_name": "LayoutModel",
          "model_module_version": "1.2.0",
          "state": {
            "_model_module": "@jupyter-widgets/base",
            "_model_module_version": "1.2.0",
            "_model_name": "LayoutModel",
            "_view_count": null,
            "_view_module": "@jupyter-widgets/base",
            "_view_module_version": "1.2.0",
            "_view_name": "LayoutView",
            "align_content": null,
            "align_items": null,
            "align_self": null,
            "border": null,
            "bottom": null,
            "display": null,
            "flex": null,
            "flex_flow": null,
            "grid_area": null,
            "grid_auto_columns": null,
            "grid_auto_flow": null,
            "grid_auto_rows": null,
            "grid_column": null,
            "grid_gap": null,
            "grid_row": null,
            "grid_template_areas": null,
            "grid_template_columns": null,
            "grid_template_rows": null,
            "height": null,
            "justify_content": null,
            "justify_items": null,
            "left": null,
            "margin": null,
            "max_height": null,
            "max_width": null,
            "min_height": null,
            "min_width": null,
            "object_fit": null,
            "object_position": null,
            "order": null,
            "overflow": null,
            "overflow_x": null,
            "overflow_y": null,
            "padding": null,
            "right": null,
            "top": null,
            "visibility": null,
            "width": null
          }
        },
        "6f1ae1fc06e4450a8303bf03a9b1fd54": {
          "model_module": "@jupyter-widgets/controls",
          "model_name": "SliderStyleModel",
          "model_module_version": "1.5.0",
          "state": {
            "_model_module": "@jupyter-widgets/controls",
            "_model_module_version": "1.5.0",
            "_model_name": "SliderStyleModel",
            "_view_count": null,
            "_view_module": "@jupyter-widgets/base",
            "_view_module_version": "1.2.0",
            "_view_name": "StyleView",
            "description_width": "",
            "handle_color": null
          }
        },
        "42ddda2c44224ccc93bb779d6225a875": {
          "model_module": "@jupyter-widgets/base",
          "model_name": "LayoutModel",
          "model_module_version": "1.2.0",
          "state": {
            "_model_module": "@jupyter-widgets/base",
            "_model_module_version": "1.2.0",
            "_model_name": "LayoutModel",
            "_view_count": null,
            "_view_module": "@jupyter-widgets/base",
            "_view_module_version": "1.2.0",
            "_view_name": "LayoutView",
            "align_content": null,
            "align_items": null,
            "align_self": null,
            "border": null,
            "bottom": null,
            "display": null,
            "flex": null,
            "flex_flow": null,
            "grid_area": null,
            "grid_auto_columns": null,
            "grid_auto_flow": null,
            "grid_auto_rows": null,
            "grid_column": null,
            "grid_gap": null,
            "grid_row": null,
            "grid_template_areas": null,
            "grid_template_columns": null,
            "grid_template_rows": null,
            "height": null,
            "justify_content": null,
            "justify_items": null,
            "left": null,
            "margin": null,
            "max_height": null,
            "max_width": null,
            "min_height": null,
            "min_width": null,
            "object_fit": null,
            "object_position": null,
            "order": null,
            "overflow": null,
            "overflow_x": null,
            "overflow_y": null,
            "padding": null,
            "right": null,
            "top": null,
            "visibility": null,
            "width": null
          }
        },
        "5f98c2b4c19e4c14987253be00822519": {
          "model_module": "@jupyter-widgets/controls",
          "model_name": "SliderStyleModel",
          "model_module_version": "1.5.0",
          "state": {
            "_model_module": "@jupyter-widgets/controls",
            "_model_module_version": "1.5.0",
            "_model_name": "SliderStyleModel",
            "_view_count": null,
            "_view_module": "@jupyter-widgets/base",
            "_view_module_version": "1.2.0",
            "_view_name": "StyleView",
            "description_width": "",
            "handle_color": null
          }
        },
        "3d221dba3ca74a528f50bd5837cbce33": {
          "model_module": "@jupyter-widgets/base",
          "model_name": "LayoutModel",
          "model_module_version": "1.2.0",
          "state": {
            "_model_module": "@jupyter-widgets/base",
            "_model_module_version": "1.2.0",
            "_model_name": "LayoutModel",
            "_view_count": null,
            "_view_module": "@jupyter-widgets/base",
            "_view_module_version": "1.2.0",
            "_view_name": "LayoutView",
            "align_content": null,
            "align_items": null,
            "align_self": null,
            "border": null,
            "bottom": null,
            "display": null,
            "flex": null,
            "flex_flow": null,
            "grid_area": null,
            "grid_auto_columns": null,
            "grid_auto_flow": null,
            "grid_auto_rows": null,
            "grid_column": null,
            "grid_gap": null,
            "grid_row": null,
            "grid_template_areas": null,
            "grid_template_columns": null,
            "grid_template_rows": null,
            "height": null,
            "justify_content": null,
            "justify_items": null,
            "left": null,
            "margin": null,
            "max_height": null,
            "max_width": null,
            "min_height": null,
            "min_width": null,
            "object_fit": null,
            "object_position": null,
            "order": null,
            "overflow": null,
            "overflow_x": null,
            "overflow_y": null,
            "padding": null,
            "right": null,
            "top": null,
            "visibility": null,
            "width": null
          }
        },
        "8524de9fed4949d39a0dbc8ccd0d29ba": {
          "model_module": "@jupyter-widgets/controls",
          "model_name": "SliderStyleModel",
          "model_module_version": "1.5.0",
          "state": {
            "_model_module": "@jupyter-widgets/controls",
            "_model_module_version": "1.5.0",
            "_model_name": "SliderStyleModel",
            "_view_count": null,
            "_view_module": "@jupyter-widgets/base",
            "_view_module_version": "1.2.0",
            "_view_name": "StyleView",
            "description_width": "",
            "handle_color": null
          }
        },
        "d3e8d02a14924098bedc747a60511771": {
          "model_module": "@jupyter-widgets/base",
          "model_name": "LayoutModel",
          "model_module_version": "1.2.0",
          "state": {
            "_model_module": "@jupyter-widgets/base",
            "_model_module_version": "1.2.0",
            "_model_name": "LayoutModel",
            "_view_count": null,
            "_view_module": "@jupyter-widgets/base",
            "_view_module_version": "1.2.0",
            "_view_name": "LayoutView",
            "align_content": null,
            "align_items": null,
            "align_self": null,
            "border": null,
            "bottom": null,
            "display": null,
            "flex": null,
            "flex_flow": null,
            "grid_area": null,
            "grid_auto_columns": null,
            "grid_auto_flow": null,
            "grid_auto_rows": null,
            "grid_column": null,
            "grid_gap": null,
            "grid_row": null,
            "grid_template_areas": null,
            "grid_template_columns": null,
            "grid_template_rows": null,
            "height": null,
            "justify_content": null,
            "justify_items": null,
            "left": null,
            "margin": null,
            "max_height": null,
            "max_width": null,
            "min_height": null,
            "min_width": null,
            "object_fit": null,
            "object_position": null,
            "order": null,
            "overflow": null,
            "overflow_x": null,
            "overflow_y": null,
            "padding": null,
            "right": null,
            "top": null,
            "visibility": null,
            "width": null
          }
        },
        "885fd188bc38498c8cb503a6961d7e01": {
          "model_module": "@jupyter-widgets/controls",
          "model_name": "SliderStyleModel",
          "model_module_version": "1.5.0",
          "state": {
            "_model_module": "@jupyter-widgets/controls",
            "_model_module_version": "1.5.0",
            "_model_name": "SliderStyleModel",
            "_view_count": null,
            "_view_module": "@jupyter-widgets/base",
            "_view_module_version": "1.2.0",
            "_view_name": "StyleView",
            "description_width": "",
            "handle_color": null
          }
        },
        "d92bda737ca64a9a80fcff7b7e3a786d": {
          "model_module": "@jupyter-widgets/base",
          "model_name": "LayoutModel",
          "model_module_version": "1.2.0",
          "state": {
            "_model_module": "@jupyter-widgets/base",
            "_model_module_version": "1.2.0",
            "_model_name": "LayoutModel",
            "_view_count": null,
            "_view_module": "@jupyter-widgets/base",
            "_view_module_version": "1.2.0",
            "_view_name": "LayoutView",
            "align_content": null,
            "align_items": null,
            "align_self": null,
            "border": null,
            "bottom": null,
            "display": null,
            "flex": null,
            "flex_flow": null,
            "grid_area": null,
            "grid_auto_columns": null,
            "grid_auto_flow": null,
            "grid_auto_rows": null,
            "grid_column": null,
            "grid_gap": null,
            "grid_row": null,
            "grid_template_areas": null,
            "grid_template_columns": null,
            "grid_template_rows": null,
            "height": null,
            "justify_content": null,
            "justify_items": null,
            "left": null,
            "margin": null,
            "max_height": null,
            "max_width": null,
            "min_height": null,
            "min_width": null,
            "object_fit": null,
            "object_position": null,
            "order": null,
            "overflow": null,
            "overflow_x": null,
            "overflow_y": null,
            "padding": null,
            "right": null,
            "top": null,
            "visibility": null,
            "width": null
          }
        },
        "37163c36a3e04c6d8bd41421841d1909": {
          "model_module": "@jupyter-widgets/controls",
          "model_name": "VBoxModel",
          "model_module_version": "1.5.0",
          "state": {
            "_dom_classes": [
              "widget-interact"
            ],
            "_model_module": "@jupyter-widgets/controls",
            "_model_module_version": "1.5.0",
            "_model_name": "VBoxModel",
            "_view_count": null,
            "_view_module": "@jupyter-widgets/controls",
            "_view_module_version": "1.5.0",
            "_view_name": "VBoxView",
            "box_style": "",
            "children": [
              "IPY_MODEL_dcd7a263e8454486a54a65570b6ae090",
              "IPY_MODEL_9595de814df74d6fafa572b47edb1ae8",
              "IPY_MODEL_5a5db3dbb848416988ca2fc075ef767a",
              "IPY_MODEL_0b07aa35b0dd4df88571162991db76eb"
            ],
            "layout": "IPY_MODEL_f8f4705c361a4c0fb8ef65f2932cc024"
          }
        },
        "dcd7a263e8454486a54a65570b6ae090": {
          "model_module": "@jupyter-widgets/controls",
          "model_name": "FloatSliderModel",
          "model_module_version": "1.5.0",
          "state": {
            "_dom_classes": [],
            "_model_module": "@jupyter-widgets/controls",
            "_model_module_version": "1.5.0",
            "_model_name": "FloatSliderModel",
            "_view_count": null,
            "_view_module": "@jupyter-widgets/controls",
            "_view_module_version": "1.5.0",
            "_view_name": "FloatSliderView",
            "continuous_update": true,
            "description": "C",
            "description_tooltip": null,
            "disabled": false,
            "layout": "IPY_MODEL_3a9c021ea880425db1c1221787faf901",
            "max": 3,
            "min": 0,
            "orientation": "horizontal",
            "readout": true,
            "readout_format": ".2f",
            "step": 0.1,
            "style": "IPY_MODEL_5bee7db5fa2d4ab49dcb69fe59f8daab",
            "value": 1
          }
        },
        "9595de814df74d6fafa572b47edb1ae8": {
          "model_module": "@jupyter-widgets/controls",
          "model_name": "FloatSliderModel",
          "model_module_version": "1.5.0",
          "state": {
            "_dom_classes": [],
            "_model_module": "@jupyter-widgets/controls",
            "_model_module_version": "1.5.0",
            "_model_name": "FloatSliderModel",
            "_view_count": null,
            "_view_module": "@jupyter-widgets/controls",
            "_view_module_version": "1.5.0",
            "_view_name": "FloatSliderView",
            "continuous_update": true,
            "description": "proc_noise",
            "description_tooltip": null,
            "disabled": false,
            "layout": "IPY_MODEL_176d8a6e590847bbadf400742007d8b0",
            "max": 1,
            "min": 0,
            "orientation": "horizontal",
            "readout": true,
            "readout_format": ".2f",
            "step": 0.1,
            "style": "IPY_MODEL_105ef2068cca475e8843019ce0993784",
            "value": 0.1
          }
        },
        "5a5db3dbb848416988ca2fc075ef767a": {
          "model_module": "@jupyter-widgets/controls",
          "model_name": "FloatSliderModel",
          "model_module_version": "1.5.0",
          "state": {
            "_dom_classes": [],
            "_model_module": "@jupyter-widgets/controls",
            "_model_module_version": "1.5.0",
            "_model_name": "FloatSliderModel",
            "_view_count": null,
            "_view_module": "@jupyter-widgets/controls",
            "_view_module_version": "1.5.0",
            "_view_name": "FloatSliderView",
            "continuous_update": true,
            "description": "meas_noise",
            "description_tooltip": null,
            "disabled": false,
            "layout": "IPY_MODEL_cae35fe01357429184bafbb2c6ab2fff",
            "max": 1,
            "min": 0.1,
            "orientation": "horizontal",
            "readout": true,
            "readout_format": ".2f",
            "step": 0.1,
            "style": "IPY_MODEL_e950aac142804131a420285bbf2245ed",
            "value": 0.2
          }
        },
        "0b07aa35b0dd4df88571162991db76eb": {
          "model_module": "@jupyter-widgets/output",
          "model_name": "OutputModel",
          "model_module_version": "1.0.0",
          "state": {
            "_dom_classes": [],
            "_model_module": "@jupyter-widgets/output",
            "_model_module_version": "1.0.0",
            "_model_name": "OutputModel",
            "_view_count": null,
            "_view_module": "@jupyter-widgets/output",
            "_view_module_version": "1.0.0",
            "_view_name": "OutputView",
            "layout": "IPY_MODEL_d884516e372b4c27bff6659040b10521",
            "msg_id": "",
            "outputs": [
              {
                "output_type": "stream",
                "name": "stderr",
                "text": [
                  "/tmp/ipython-input-16-3609441759.py:34: DeprecationWarning: Conversion of an array with ndim > 0 to a scalar is deprecated, and will error in future. Ensure you extract a single element from your array before performing this operation. (Deprecated NumPy 1.25.)\n",
                  "  estimates[t] = filter.get_estimate(measurement, action)\n"
                ]
              },
              {
                "output_type": "display_data",
                "data": {
                  "text/plain": "<Figure size 1200x400 with 2 Axes>",
                  "image/png": "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\n"
                },
                "metadata": {
                  "image/png": {
                    "width": 1126,
                    "height": 417
                  }
                }
              }
            ]
          }
        },
        "f8f4705c361a4c0fb8ef65f2932cc024": {
          "model_module": "@jupyter-widgets/base",
          "model_name": "LayoutModel",
          "model_module_version": "1.2.0",
          "state": {
            "_model_module": "@jupyter-widgets/base",
            "_model_module_version": "1.2.0",
            "_model_name": "LayoutModel",
            "_view_count": null,
            "_view_module": "@jupyter-widgets/base",
            "_view_module_version": "1.2.0",
            "_view_name": "LayoutView",
            "align_content": null,
            "align_items": null,
            "align_self": null,
            "border": null,
            "bottom": null,
            "display": null,
            "flex": null,
            "flex_flow": null,
            "grid_area": null,
            "grid_auto_columns": null,
            "grid_auto_flow": null,
            "grid_auto_rows": null,
            "grid_column": null,
            "grid_gap": null,
            "grid_row": null,
            "grid_template_areas": null,
            "grid_template_columns": null,
            "grid_template_rows": null,
            "height": null,
            "justify_content": null,
            "justify_items": null,
            "left": null,
            "margin": null,
            "max_height": null,
            "max_width": null,
            "min_height": null,
            "min_width": null,
            "object_fit": null,
            "object_position": null,
            "order": null,
            "overflow": null,
            "overflow_x": null,
            "overflow_y": null,
            "padding": null,
            "right": null,
            "top": null,
            "visibility": null,
            "width": null
          }
        },
        "3a9c021ea880425db1c1221787faf901": {
          "model_module": "@jupyter-widgets/base",
          "model_name": "LayoutModel",
          "model_module_version": "1.2.0",
          "state": {
            "_model_module": "@jupyter-widgets/base",
            "_model_module_version": "1.2.0",
            "_model_name": "LayoutModel",
            "_view_count": null,
            "_view_module": "@jupyter-widgets/base",
            "_view_module_version": "1.2.0",
            "_view_name": "LayoutView",
            "align_content": null,
            "align_items": null,
            "align_self": null,
            "border": null,
            "bottom": null,
            "display": null,
            "flex": null,
            "flex_flow": null,
            "grid_area": null,
            "grid_auto_columns": null,
            "grid_auto_flow": null,
            "grid_auto_rows": null,
            "grid_column": null,
            "grid_gap": null,
            "grid_row": null,
            "grid_template_areas": null,
            "grid_template_columns": null,
            "grid_template_rows": null,
            "height": null,
            "justify_content": null,
            "justify_items": null,
            "left": null,
            "margin": null,
            "max_height": null,
            "max_width": null,
            "min_height": null,
            "min_width": null,
            "object_fit": null,
            "object_position": null,
            "order": null,
            "overflow": null,
            "overflow_x": null,
            "overflow_y": null,
            "padding": null,
            "right": null,
            "top": null,
            "visibility": null,
            "width": null
          }
        },
        "5bee7db5fa2d4ab49dcb69fe59f8daab": {
          "model_module": "@jupyter-widgets/controls",
          "model_name": "SliderStyleModel",
          "model_module_version": "1.5.0",
          "state": {
            "_model_module": "@jupyter-widgets/controls",
            "_model_module_version": "1.5.0",
            "_model_name": "SliderStyleModel",
            "_view_count": null,
            "_view_module": "@jupyter-widgets/base",
            "_view_module_version": "1.2.0",
            "_view_name": "StyleView",
            "description_width": "",
            "handle_color": null
          }
        },
        "176d8a6e590847bbadf400742007d8b0": {
          "model_module": "@jupyter-widgets/base",
          "model_name": "LayoutModel",
          "model_module_version": "1.2.0",
          "state": {
            "_model_module": "@jupyter-widgets/base",
            "_model_module_version": "1.2.0",
            "_model_name": "LayoutModel",
            "_view_count": null,
            "_view_module": "@jupyter-widgets/base",
            "_view_module_version": "1.2.0",
            "_view_name": "LayoutView",
            "align_content": null,
            "align_items": null,
            "align_self": null,
            "border": null,
            "bottom": null,
            "display": null,
            "flex": null,
            "flex_flow": null,
            "grid_area": null,
            "grid_auto_columns": null,
            "grid_auto_flow": null,
            "grid_auto_rows": null,
            "grid_column": null,
            "grid_gap": null,
            "grid_row": null,
            "grid_template_areas": null,
            "grid_template_columns": null,
            "grid_template_rows": null,
            "height": null,
            "justify_content": null,
            "justify_items": null,
            "left": null,
            "margin": null,
            "max_height": null,
            "max_width": null,
            "min_height": null,
            "min_width": null,
            "object_fit": null,
            "object_position": null,
            "order": null,
            "overflow": null,
            "overflow_x": null,
            "overflow_y": null,
            "padding": null,
            "right": null,
            "top": null,
            "visibility": null,
            "width": null
          }
        },
        "105ef2068cca475e8843019ce0993784": {
          "model_module": "@jupyter-widgets/controls",
          "model_name": "SliderStyleModel",
          "model_module_version": "1.5.0",
          "state": {
            "_model_module": "@jupyter-widgets/controls",
            "_model_module_version": "1.5.0",
            "_model_name": "SliderStyleModel",
            "_view_count": null,
            "_view_module": "@jupyter-widgets/base",
            "_view_module_version": "1.2.0",
            "_view_name": "StyleView",
            "description_width": "",
            "handle_color": null
          }
        },
        "cae35fe01357429184bafbb2c6ab2fff": {
          "model_module": "@jupyter-widgets/base",
          "model_name": "LayoutModel",
          "model_module_version": "1.2.0",
          "state": {
            "_model_module": "@jupyter-widgets/base",
            "_model_module_version": "1.2.0",
            "_model_name": "LayoutModel",
            "_view_count": null,
            "_view_module": "@jupyter-widgets/base",
            "_view_module_version": "1.2.0",
            "_view_name": "LayoutView",
            "align_content": null,
            "align_items": null,
            "align_self": null,
            "border": null,
            "bottom": null,
            "display": null,
            "flex": null,
            "flex_flow": null,
            "grid_area": null,
            "grid_auto_columns": null,
            "grid_auto_flow": null,
            "grid_auto_rows": null,
            "grid_column": null,
            "grid_gap": null,
            "grid_row": null,
            "grid_template_areas": null,
            "grid_template_columns": null,
            "grid_template_rows": null,
            "height": null,
            "justify_content": null,
            "justify_items": null,
            "left": null,
            "margin": null,
            "max_height": null,
            "max_width": null,
            "min_height": null,
            "min_width": null,
            "object_fit": null,
            "object_position": null,
            "order": null,
            "overflow": null,
            "overflow_x": null,
            "overflow_y": null,
            "padding": null,
            "right": null,
            "top": null,
            "visibility": null,
            "width": null
          }
        },
        "e950aac142804131a420285bbf2245ed": {
          "model_module": "@jupyter-widgets/controls",
          "model_name": "SliderStyleModel",
          "model_module_version": "1.5.0",
          "state": {
            "_model_module": "@jupyter-widgets/controls",
            "_model_module_version": "1.5.0",
            "_model_name": "SliderStyleModel",
            "_view_count": null,
            "_view_module": "@jupyter-widgets/base",
            "_view_module_version": "1.2.0",
            "_view_name": "StyleView",
            "description_width": "",
            "handle_color": null
          }
        },
        "d884516e372b4c27bff6659040b10521": {
          "model_module": "@jupyter-widgets/base",
          "model_name": "LayoutModel",
          "model_module_version": "1.2.0",
          "state": {
            "_model_module": "@jupyter-widgets/base",
            "_model_module_version": "1.2.0",
            "_model_name": "LayoutModel",
            "_view_count": null,
            "_view_module": "@jupyter-widgets/base",
            "_view_module_version": "1.2.0",
            "_view_name": "LayoutView",
            "align_content": null,
            "align_items": null,
            "align_self": null,
            "border": null,
            "bottom": null,
            "display": null,
            "flex": null,
            "flex_flow": null,
            "grid_area": null,
            "grid_auto_columns": null,
            "grid_auto_flow": null,
            "grid_auto_rows": null,
            "grid_column": null,
            "grid_gap": null,
            "grid_row": null,
            "grid_template_areas": null,
            "grid_template_columns": null,
            "grid_template_rows": null,
            "height": null,
            "justify_content": null,
            "justify_items": null,
            "left": null,
            "margin": null,
            "max_height": null,
            "max_width": null,
            "min_height": null,
            "min_width": null,
            "object_fit": null,
            "object_position": null,
            "order": null,
            "overflow": null,
            "overflow_x": null,
            "overflow_y": null,
            "padding": null,
            "right": null,
            "top": null,
            "visibility": null,
            "width": null
          }
        }
      }
    }
  },
  "nbformat": 4,
  "nbformat_minor": 0
}